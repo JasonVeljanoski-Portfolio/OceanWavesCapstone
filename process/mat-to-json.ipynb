{
 "cells": [
  {
   "cell_type": "markdown",
   "metadata": {},
   "source": [
    "# Convert MATLAB buoy data to JSON format\n",
    "This purpose of this notebook is to convert and reduce large MATLAB data files that store time series statistics derived from Western Australian Department of Transport Datawell Waverider Mk3 buoys. The data is trimmed for ease of use with modern Machine Learning and statistical analysis techniques, keeping only the one-dimensional representations of the wave measurements.\n",
    "\n",
    "The files, at time of writing:\n",
    "\n",
    "| File | Size | Description |\n",
    "| --- | --- | --- |\n",
    "| cott.mat | 3.06 GB | Cottosloe Waverrider Mk3 buoy |\n",
    "| rott.mat | 6.10 GB | Rottnest Waverrider Mk3 buoy |\n",
    "\n",
    "### Environment/package requirements:\n",
    "- `mat73`  (for reading MATLAB `.mat` files)\n",
    "- `numpy`\n",
    "- Python 3.7.X (for use with the mat73 package)\n",
    "\n",
    "Python 3.7 is available at [Python.org](https://www.python.org/downloads/release/python-374/), and the package requirements can be installed by running:\n",
    "```sh\n",
    "path/to/python3.7 -m pip install mat73\n",
    "path/to/python3.7 -m pip install numpy\n",
    "```\n",
    "from the command line / terminal, or simply:\n",
    "```sh\n",
    "pip install <package-name>\n",
    "```\n",
    "if Python 3.7 is your only local Python install. If instead you use Conda/Anaconda Python distributions, you can set up a `conda` Python 3.7 environment by following the instructions on the [Anaconda website](https://docs.conda.io/projects/conda/en/latest/user-guide/tasks/manage-environments.html).\n",
    "\n",
    "### Output files:\n",
    "\n",
    "| File | Size | Description |\n",
    "| --- | --- | --- |\n",
    "| cott-waves.json | 5.5 MB | Cottosloe Waverrider Mk3 buoy |\n",
    "| rott-waves.json | 11.1 MB | Rottnest Waverrider Mk3 buoy |\n",
    "\n",
    "&nbsp;\n",
    "\n",
    "Feel free to reach out at our [GitHub repository](https://github.com/JasonVeljanoski-Portfolio/OceanWavesCapstone), or by email to barrettjc1@gmail.com with any questions about how to utilise this notebook."
   ]
  },
  {
   "cell_type": "markdown",
   "metadata": {},
   "source": [
    "___\n",
    "# Imports and options"
   ]
  },
  {
   "cell_type": "code",
   "execution_count": null,
   "metadata": {},
   "outputs": [],
   "source": [
    "import mat73\n",
    "import numpy as np\n",
    "import json\n",
    "from json import JSONEncoder\n",
    "import os\n",
    "from os import path"
   ]
  },
  {
   "cell_type": "markdown",
   "metadata": {},
   "source": [
    "Select buoy data:"
   ]
  },
  {
   "cell_type": "code",
   "execution_count": null,
   "metadata": {},
   "outputs": [],
   "source": [
    "BUOY = 'cott'\n",
    "# BUOY = 'rott'"
   ]
  },
  {
   "cell_type": "code",
   "execution_count": null,
   "metadata": {},
   "outputs": [],
   "source": [
    "INPATH = '.'  # location of .mat files\n",
    "OUTPATH = './Data/'  # location to save output json files"
   ]
  },
  {
   "cell_type": "markdown",
   "metadata": {},
   "source": [
    "# Load MatLab data\n",
    "Given these files are named `cott.mat` and `rott.mat` for Cottosloe and Rottnest buoy data, respectively, and are sitting in the `INPATH` directory. Be advised that the following cell can take some time to run, given the large size of the input `.mat` files."
   ]
  },
  {
   "cell_type": "code",
   "execution_count": null,
   "metadata": {},
   "outputs": [],
   "source": [
    "mat_load = mat73.loadmat(path.join(INPATH, f'{BUOY}.mat'))\n",
    "waves = mat_load[BUOY]['waves']"
   ]
  },
  {
   "cell_type": "code",
   "execution_count": null,
   "metadata": {},
   "outputs": [
    {
     "name": "stdout",
     "output_type": "stream",
     "text": [
      "Dp (162035,)\n",
      "Hs (162035,)\n",
      "Tm (162035,)\n",
      "Tp (162035,)\n",
      "a1 (162035, 64)\n",
      "a2 (162035, 64)\n",
      "b1 (162035, 64)\n",
      "b2 (162035, 64)\n",
      "check_fac (162035, 64)\n",
      "dirs (72,)\n",
      "freq (64,)\n",
      "position (755, 3)\n",
      "spec1D (162035, 64)\n",
      "spec2D (72, 64, 162035)\n",
      "sst (762, 2)\n",
      "time (162035,)\n"
     ]
    }
   ],
   "source": [
    "# Data structure\n",
    "for key in waves.keys():\n",
    "    if key != 'metadata':\n",
    "        print(key, waves[key].shape)"
   ]
  },
  {
   "cell_type": "markdown",
   "metadata": {},
   "source": [
    "# Keep only one-dimensional wave statistics\n",
    "Here, only the variables representing:\n",
    "- Date & Time\n",
    "- Significant Wave Height\n",
    "- Peak Wave Period\n",
    "- Mean Wave Period"
   ]
  },
  {
   "cell_type": "code",
   "execution_count": null,
   "metadata": {},
   "outputs": [],
   "source": [
    "keep_vars = ['Dp', 'Hs', 'Tm', 'Tp', 'time']\n",
    "waves_slim = {k: v for k, v in waves.items() if k in keep_vars}"
   ]
  },
  {
   "cell_type": "code",
   "execution_count": null,
   "metadata": {},
   "outputs": [],
   "source": [
    "class NumpyArrayEncoder(JSONEncoder):\n",
    "    def default(self, obj):\n",
    "        if isinstance(obj, np.ndarray):\n",
    "            return obj.tolist()\n",
    "        return JSONEncoder.default(self, obj)"
   ]
  },
  {
   "cell_type": "code",
   "execution_count": null,
   "metadata": {},
   "outputs": [],
   "source": [
    "if not path.exists(OUTPATH):\n",
    "    os.mkdir(OUTPATH)\n",
    "\n",
    "with open(path.join(OUTPATH, f'{BUOY}-waves.json'), 'w') as f:\n",
    "    json.dump(waves_slim, f, cls=NumpyArrayEncoder, separators=(',', ':'))"
   ]
  }
 ],
 "metadata": {
  "kernelspec": {
   "display_name": "Python 3",
   "language": "python",
   "name": "python3"
  },
  "language_info": {
   "codemirror_mode": {
    "name": "ipython",
    "version": 3
   },
   "file_extension": ".py",
   "mimetype": "text/x-python",
   "name": "python",
   "nbconvert_exporter": "python",
   "pygments_lexer": "ipython3",
   "version": "3.8.3"
  },
  "toc-autonumbering": false,
  "toc-showcode": true,
  "toc-showmarkdowntxt": false,
  "widgets": {
   "application/vnd.jupyter.widget-state+json": {
    "state": {},
    "version_major": 2,
    "version_minor": 0
   }
  }
 },
 "nbformat": 4,
 "nbformat_minor": 4
}
