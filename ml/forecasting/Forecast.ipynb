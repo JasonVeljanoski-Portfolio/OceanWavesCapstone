{
 "cells": [
  {
   "cell_type": "markdown",
   "metadata": {
    "id": "ewQeOPq3TFg1"
   },
   "source": [
    "# Objective of Notebook\n",
    "\n",
    "This notebook investigates an LSTM solution for forecasting **Height** up to $12$ steps into the future, given the wrangled ocean waves time series data.\n",
    "\n",
    "There are three main parts of the Notebook:\n",
    "\n",
    "**Part-1 : Experiments on Dynamic Models**\n",
    "1. Construct a Univariate LSTM model\n",
    "2. Construct a Multivariate LSTM model\n",
    "3. Compare Results of the LSTM models for the following:\n",
    "  - Forecast Cott and Rott Height\n",
    "  - time steps into the future = 2, 6, 12\n",
    "4. Conclusion\n",
    "\n",
    "\n",
    "**Part-2 : Experiments on Dynamic+Static Models**\n",
    "1. Get best model from part-1 for univariate and multivariate models\n",
    "2. Experimant and compare\n",
    "  1. Use static model to predict Cott Height, then use forecast model on predicted Cott height\n",
    "  2. Use forecast model on Rott Height, then use static model on results to get precition for Cott Height\n",
    "\n",
    "**Part-3 : Conclusion and Recommendation**\n",
    "- Summarise findings and list limitations of each model\n",
    "- Future identified research work requried"
   ]
  },
  {
   "cell_type": "markdown",
   "metadata": {
    "id": "tH4ghLMcOJ6r"
   },
   "source": [
    "# **PART-1 : EXPERIMENTS WITH DYNAMIC MODELS**"
   ]
  },
  {
   "cell_type": "markdown",
   "metadata": {
    "id": "QNAYAy76jzDZ"
   },
   "source": [
    "# Setup\n",
    "\n",
    "Load packages, mount drive and import data.\n",
    "\n",
    "\n",
    "Note that the data is already wrangled from a previous step in the pipeline and is in a usable form for modling (no missing values, etc)."
   ]
  },
  {
   "cell_type": "code",
   "execution_count": null,
   "metadata": {
    "id": "f5-waZ7nj1vr"
   },
   "outputs": [],
   "source": [
    "# [ SETUP ]\n",
    "\n",
    "# STANDARD IMPORTS\n",
    "import pandas as pd\n",
    "import numpy as np\n",
    "import os\n",
    "from datetime import datetime\n",
    "import matplotlib.pyplot as plt\n",
    "import seaborn as sns\n",
    "import plotly.express as px\n",
    "import plotly.graph_objects as go\n",
    "from sklearn.model_selection import train_test_split\n",
    "from sklearn import preprocessing\n",
    "from sklearn.preprocessing import MinMaxScaler\n",
    "from sklearn.preprocessing import StandardScaler\n",
    "import plotly.graph_objects as go\n",
    "import plotly.express as px\n",
    "import matplotlib.pyplot as plt\n",
    "from matplotlib import pyplot\n",
    "%matplotlib inline\n",
    "\n",
    "# DEEP LEARNING IMPORTS\n",
    "import tensorflow as tf\n",
    "from tensorflow import keras\n",
    "from tensorflow.keras import layers\n",
    "from tensorflow.keras.layers import LSTM, Dense\n",
    "from tensorflow.keras import Sequential\n",
    "from tensorflow.keras.optimizers import Adam\n",
    "from tensorflow.keras.callbacks import ReduceLROnPlateau\n",
    "from tensorflow.keras.callbacks import ModelCheckpoint\n",
    "from tensorflow.keras.callbacks import TensorBoard\n",
    "from tensorflow.keras.utils import to_categorical\n",
    "from tensorflow.keras.optimizers import SGD \n",
    "from tensorflow.keras.callbacks import EarlyStopping\n",
    "from tensorflow.keras.layers import Dropout\n",
    "from keras.callbacks import ModelCheckpoint, EarlyStopping\n",
    "from pylab import rcParams\n",
    "import itertools\n",
    "import plotly.express as px\n",
    "\n",
    "\n",
    "# SEASONALITY CHECK\n",
    "from statsmodels.tsa.stattools import adfuller\n",
    "from keras.models import load_model\n",
    "import pickle"
   ]
  },
  {
   "cell_type": "code",
   "execution_count": null,
   "metadata": {
    "colab": {
     "base_uri": "https://localhost:8080/"
    },
    "executionInfo": {
     "elapsed": 907,
     "status": "ok",
     "timestamp": 1604034451024,
     "user": {
      "displayName": "Ammar Pervez",
      "photoUrl": "https://lh3.googleusercontent.com/a-/AOh14Gi8WNzfv_BTIPuGu9Hlf2ww8310r8CAWukW9jAvsPc=s64",
      "userId": "03225736955727170639"
     },
     "user_tz": -480
    },
    "id": "EtvPVCzkj82g",
    "outputId": "f1317a6e-5952-4eb6-b7ec-89e3292437b8"
   },
   "outputs": [
    {
     "name": "stdout",
     "output_type": "stream",
     "text": [
      "Drive already mounted at /content/drive; to attempt to forcibly remount, call drive.mount(\"/content/drive\", force_remount=True).\n"
     ]
    }
   ],
   "source": [
    "# [ MOUNT DRIVE ]\n",
    "from google.colab import drive \n",
    "\n",
    "drive.mount('/content/drive')"
   ]
  },
  {
   "cell_type": "code",
   "execution_count": null,
   "metadata": {
    "colab": {
     "base_uri": "https://localhost:8080/"
    },
    "executionInfo": {
     "elapsed": 905,
     "status": "ok",
     "timestamp": 1604034451026,
     "user": {
      "displayName": "Ammar Pervez",
      "photoUrl": "https://lh3.googleusercontent.com/a-/AOh14Gi8WNzfv_BTIPuGu9Hlf2ww8310r8CAWukW9jAvsPc=s64",
      "userId": "03225736955727170639"
     },
     "user_tz": -480
    },
    "id": "MEfJ7jYIkDil",
    "outputId": "abfba053-4bf5-49ba-9505-abf9d6294c1f"
   },
   "outputs": [
    {
     "data": {
      "application/vnd.google.colaboratory.intrinsic+json": {
       "type": "string"
      },
      "text/plain": [
       "'/content/drive/My Drive/Colab Notebooks'"
      ]
     },
     "execution_count": 79,
     "metadata": {
      "tags": []
     },
     "output_type": "execute_result"
    }
   ],
   "source": [
    "import os\n",
    "os.chdir('/content/drive/My Drive/Colab Notebooks')\n",
    "\n",
    "# YOUR CURRENT DIRECTORY (FOR REFERENCE)\n",
    "os.getcwd()"
   ]
  },
  {
   "cell_type": "code",
   "execution_count": null,
   "metadata": {
    "id": "V1LR6hLYkGOv"
   },
   "outputs": [],
   "source": [
    "# [ GET DATA ]\n",
    "WAVES_PATH = \"\"\n",
    "WAVES_FNAME = \"ocean-waves-full.csv\"\n",
    "\n",
    "def load_wave_data(waves_path=WAVES_PATH): \n",
    "    csv_path_data = os.path.join(waves_path, WAVES_FNAME) \n",
    "    return pd.read_csv(csv_path_data, parse_dates=['DateTime'], index_col=\"DateTime\")"
   ]
  },
  {
   "cell_type": "code",
   "execution_count": null,
   "metadata": {
    "colab": {
     "base_uri": "https://localhost:8080/"
    },
    "executionInfo": {
     "elapsed": 1273,
     "status": "ok",
     "timestamp": 1604034451400,
     "user": {
      "displayName": "Ammar Pervez",
      "photoUrl": "https://lh3.googleusercontent.com/a-/AOh14Gi8WNzfv_BTIPuGu9Hlf2ww8310r8CAWukW9jAvsPc=s64",
      "userId": "03225736955727170639"
     },
     "user_tz": -480
    },
    "id": "-UF9aWi5kTdm",
    "outputId": "434f1011-f870-4919-d33b-4ca9520a1a67"
   },
   "outputs": [
    {
     "data": {
      "text/html": [
       "<div>\n",
       "<style scoped>\n",
       "    .dataframe tbody tr th:only-of-type {\n",
       "        vertical-align: middle;\n",
       "    }\n",
       "\n",
       "    .dataframe tbody tr th {\n",
       "        vertical-align: top;\n",
       "    }\n",
       "\n",
       "    .dataframe thead th {\n",
       "        text-align: right;\n",
       "    }\n",
       "</style>\n",
       "<table border=\"1\" class=\"dataframe\">\n",
       "  <thead>\n",
       "    <tr style=\"text-align: right;\">\n",
       "      <th></th>\n",
       "      <th>Month</th>\n",
       "      <th>CottHeight</th>\n",
       "      <th>CottPeakPeriod</th>\n",
       "      <th>CottMeanPeriod</th>\n",
       "      <th>CottDirection</th>\n",
       "      <th>CottRadiansRotated</th>\n",
       "      <th>RottHeight</th>\n",
       "      <th>RottMeanPeriod</th>\n",
       "      <th>RottPeakPeriod</th>\n",
       "      <th>RottDirection</th>\n",
       "      <th>RottRadiansRotated</th>\n",
       "      <th>TimeShiftTotal</th>\n",
       "      <th>CottTimeShift</th>\n",
       "      <th>RottTimeShift</th>\n",
       "      <th>RecordGroup</th>\n",
       "      <th>CottDateTimeOrig</th>\n",
       "      <th>RottDateTimeOrig</th>\n",
       "      <th>DateTime</th>\n",
       "    </tr>\n",
       "    <tr>\n",
       "      <th>DateTime</th>\n",
       "      <th></th>\n",
       "      <th></th>\n",
       "      <th></th>\n",
       "      <th></th>\n",
       "      <th></th>\n",
       "      <th></th>\n",
       "      <th></th>\n",
       "      <th></th>\n",
       "      <th></th>\n",
       "      <th></th>\n",
       "      <th></th>\n",
       "      <th></th>\n",
       "      <th></th>\n",
       "      <th></th>\n",
       "      <th></th>\n",
       "      <th></th>\n",
       "      <th></th>\n",
       "      <th></th>\n",
       "    </tr>\n",
       "  </thead>\n",
       "  <tbody>\n",
       "    <tr>\n",
       "      <th>2019-07-20 00:30:00</th>\n",
       "      <td>7</td>\n",
       "      <td>2.07</td>\n",
       "      <td>13.333333</td>\n",
       "      <td>5.633803</td>\n",
       "      <td>248.90625</td>\n",
       "      <td>0.504509</td>\n",
       "      <td>3.30</td>\n",
       "      <td>7.272727</td>\n",
       "      <td>14.285714</td>\n",
       "      <td>240.46875</td>\n",
       "      <td>0.357247</td>\n",
       "      <td>10</td>\n",
       "      <td>10</td>\n",
       "      <td>0</td>\n",
       "      <td>25</td>\n",
       "      <td>2019-07-20 00:20:00</td>\n",
       "      <td>2019-07-20 00:30:00</td>\n",
       "      <td>2019-07-20 00:30:00</td>\n",
       "    </tr>\n",
       "    <tr>\n",
       "      <th>2019-07-20 01:00:00</th>\n",
       "      <td>7</td>\n",
       "      <td>2.11</td>\n",
       "      <td>10.000000</td>\n",
       "      <td>5.714286</td>\n",
       "      <td>275.62500</td>\n",
       "      <td>0.970839</td>\n",
       "      <td>3.57</td>\n",
       "      <td>7.843137</td>\n",
       "      <td>15.384615</td>\n",
       "      <td>233.43750</td>\n",
       "      <td>0.234529</td>\n",
       "      <td>10</td>\n",
       "      <td>10</td>\n",
       "      <td>0</td>\n",
       "      <td>25</td>\n",
       "      <td>2019-07-20 00:50:00</td>\n",
       "      <td>2019-07-20 01:00:00</td>\n",
       "      <td>2019-07-20 01:00:00</td>\n",
       "    </tr>\n",
       "    <tr>\n",
       "      <th>2019-07-20 01:30:00</th>\n",
       "      <td>7</td>\n",
       "      <td>1.98</td>\n",
       "      <td>10.000000</td>\n",
       "      <td>5.555556</td>\n",
       "      <td>260.15625</td>\n",
       "      <td>0.700859</td>\n",
       "      <td>3.24</td>\n",
       "      <td>7.407407</td>\n",
       "      <td>14.285714</td>\n",
       "      <td>229.21875</td>\n",
       "      <td>0.160897</td>\n",
       "      <td>10</td>\n",
       "      <td>10</td>\n",
       "      <td>0</td>\n",
       "      <td>25</td>\n",
       "      <td>2019-07-20 01:20:00</td>\n",
       "      <td>2019-07-20 01:30:00</td>\n",
       "      <td>2019-07-20 01:30:00</td>\n",
       "    </tr>\n",
       "    <tr>\n",
       "      <th>2019-07-20 02:00:00</th>\n",
       "      <td>7</td>\n",
       "      <td>2.04</td>\n",
       "      <td>14.285714</td>\n",
       "      <td>5.633803</td>\n",
       "      <td>251.71875</td>\n",
       "      <td>0.553597</td>\n",
       "      <td>4.40</td>\n",
       "      <td>10.000000</td>\n",
       "      <td>28.571429</td>\n",
       "      <td>43.59375</td>\n",
       "      <td>-3.078870</td>\n",
       "      <td>10</td>\n",
       "      <td>10</td>\n",
       "      <td>0</td>\n",
       "      <td>25</td>\n",
       "      <td>2019-07-20 01:50:00</td>\n",
       "      <td>2019-07-20 02:00:00</td>\n",
       "      <td>2019-07-20 02:00:00</td>\n",
       "    </tr>\n",
       "    <tr>\n",
       "      <th>2019-07-20 02:30:00</th>\n",
       "      <td>7</td>\n",
       "      <td>2.01</td>\n",
       "      <td>11.764706</td>\n",
       "      <td>5.405405</td>\n",
       "      <td>244.68750</td>\n",
       "      <td>0.430878</td>\n",
       "      <td>3.47</td>\n",
       "      <td>8.333333</td>\n",
       "      <td>16.666667</td>\n",
       "      <td>223.59375</td>\n",
       "      <td>0.062723</td>\n",
       "      <td>10</td>\n",
       "      <td>10</td>\n",
       "      <td>0</td>\n",
       "      <td>25</td>\n",
       "      <td>2019-07-20 02:20:00</td>\n",
       "      <td>2019-07-20 02:30:00</td>\n",
       "      <td>2019-07-20 02:30:00</td>\n",
       "    </tr>\n",
       "  </tbody>\n",
       "</table>\n",
       "</div>"
      ],
      "text/plain": [
       "                     Month  CottHeight  ...     RottDateTimeOrig            DateTime\n",
       "DateTime                                ...                                         \n",
       "2019-07-20 00:30:00      7        2.07  ...  2019-07-20 00:30:00 2019-07-20 00:30:00\n",
       "2019-07-20 01:00:00      7        2.11  ...  2019-07-20 01:00:00 2019-07-20 01:00:00\n",
       "2019-07-20 01:30:00      7        1.98  ...  2019-07-20 01:30:00 2019-07-20 01:30:00\n",
       "2019-07-20 02:00:00      7        2.04  ...  2019-07-20 02:00:00 2019-07-20 02:00:00\n",
       "2019-07-20 02:30:00      7        2.01  ...  2019-07-20 02:30:00 2019-07-20 02:30:00\n",
       "\n",
       "[5 rows x 18 columns]"
      ]
     },
     "execution_count": 81,
     "metadata": {
      "tags": []
     },
     "output_type": "execute_result"
    }
   ],
   "source": [
    "# LOAD AND DISPLAY\n",
    "waves = load_wave_data()\n",
    "\n",
    "waves['DateTime'] = waves.index   # keep DateTime as a separate col for plotting\n",
    "\n",
    "waves.tail()"
   ]
  },
  {
   "cell_type": "code",
   "execution_count": null,
   "metadata": {
    "id": "k9aNrbEFlI5Q"
   },
   "outputs": [],
   "source": [
    "n = 6\n",
    "epoch = 100\n",
    "\n",
    "# REMOVE LAST n OBS. FROM DF. USE THESE TO COMPARE MODEL TO REAL RESULTS\n",
    "trueset = waves.tail(n)     # n true values to compare with forecast results\n",
    "\n",
    "# CONSTRUCT DF WITH LAST n OBS. REMOVED. USE df TO FORECAST n VALS\n",
    "df = waves[:-n+1]           # dataset with 'true values' removed. LSTM will try forecast the next n values. Compare with trueset."
   ]
  },
  {
   "cell_type": "markdown",
   "metadata": {
    "id": "MRd5Vd0qNm5p"
   },
   "source": [
    "# Univariate Model\n",
    "\n",
    "\n"
   ]
  },
  {
   "cell_type": "markdown",
   "metadata": {
    "id": "LifdoQ_Kk-2g"
   },
   "source": [
    "## Prepare Data (Univariate Model)\n",
    "\n",
    "We will concentrate on a **Univariate LSTM Model** that predicts **Rottnest Height** given **Rottnest Height** as the only input. This will suffice as our baseline model (**null model**) in which to improve and compare from.\n",
    "\n",
    "Below are the steps requried to prepare the data for training."
   ]
  },
  {
   "cell_type": "code",
   "execution_count": null,
   "metadata": {
    "id": "RmZhBZQRk3gN"
   },
   "outputs": [],
   "source": [
    "# SELECT FEATURES INVOLVED IN TRAINING AND PREDICTIONS\n",
    "cols = [\"RottHeight\"]\n",
    "\n",
    "# ISOLATE TRAINING SET WITH ONLY cols THAT ARE REQUIRED\n",
    "dataset_train = df[cols]\n",
    "\n",
    "# CONVERT TO ARRAY\n",
    "training_set = dataset_train.to_numpy()\n",
    "\n",
    "# PRINT SUMMARY\n",
    "print(\"Training set shape: {}\".format(training_set.shape) )\n",
    "print(\"Features Selected: {}\".format(cols))"
   ]
  },
  {
   "cell_type": "markdown",
   "metadata": {
    "id": "7p2QQeMjaKKc"
   },
   "source": [
    "We are splitting the data to look at 18 hours history(36 time steps) to predict the next time step. During this first experiment we would be forecasting 3 hours (6 ime steps)\n",
    "\n",
    "Ref: https://github.com/vb100/multivariate-lstm/blob/master/LSTM_model_stocks.ipynb"
   ]
  },
  {
   "cell_type": "code",
   "execution_count": null,
   "metadata": {
    "id": "XOFeeEftnUa5"
   },
   "outputs": [],
   "source": [
    "# CONSTRUCT X and y SETS\n",
    "X = []    # each item is a window of size n_past\n",
    "y = []    # corresponding y val that each window tries to predict\n",
    "\n",
    "n_future = n    # number of data points to predict in the future\n",
    "n_past = 36     # number of past data points to use for predicting the future\n",
    "\n",
    "# BUILD X AND y\n",
    "for i in range(n_past, len(training_set) - n_future + 1):\n",
    "  X.append( training_set[ i - n_past:i, 0:dataset_train.shape[1] ] )\n",
    "  y.append( training_set[ i + n_future - 1:i + n_future, 0 ] )\n",
    "\n",
    "X, y = np.array(X), np.array(y)\n",
    "\n",
    "print(\"X shape: {}\".format(X.shape))\n",
    "print(\"y shape: {}\".format(y.shape))"
   ]
  },
  {
   "cell_type": "markdown",
   "metadata": {
    "id": "MmF7BSK5nsdV"
   },
   "source": [
    "## Train LSTM Model\n",
    "\n",
    "The parameters below are chosen arbitrarily. A future point of research would be to test different hyperparameters of the LSTM model to provide an improved model. However, this is not the scope of what this notebook is trying to acheive."
   ]
  },
  {
   "cell_type": "code",
   "execution_count": null,
   "metadata": {
    "id": "pGQoPvnRnqAF"
   },
   "outputs": [],
   "source": [
    "# BUILD LSTM MODEL\n",
    "model_univar = Sequential()                                                                               # initialise LSTM neural network\n",
    "\n",
    "model_univar.add(LSTM(units=64, return_sequences= True, input_shape=(n_past,dataset_train.shape[1])))     # 1st layer\n",
    "model_univar.add(LSTM(units=30, return_sequences = False))                                                # 2nd layer\n",
    "model_univar.add(Dropout(0.55))                                                                           # Dropout layer\n",
    "model_univar.add(Dense(units=1, activation='linear'))                                                     # Output Layer\n",
    "\n",
    "model_univar.compile(optimizer = Adam(learning_rate=0.0001), loss= 'mean_squared_error')                  # compile model\n",
    "\n",
    "# PRINT SUMMARY\n",
    "model_univar.summary()"
   ]
  },
  {
   "cell_type": "code",
   "execution_count": null,
   "metadata": {
    "id": "XoqSBdVjn2zp"
   },
   "outputs": [],
   "source": [
    "# CALLBACK PARAMS\n",
    "es = EarlyStopping(monitor='val_loss', min_delta=1e-10, patience=10, verbose=1) # early stopping if the val_loss does not decrease with subsequent epochs\n",
    "rlr = ReduceLROnPlateau(monitor='val_loss', factor=0.5, patience=10, verbose=1) # Reduction of learning rate if there is no increase in the val_loss \n",
    "mcp = ModelCheckpoint(filepath='waveHeightWeights.h5',monitor='val_loss', verbose=1, save_best_only=True, save_weights_only=True) # Checkpoints for the best weights\n",
    "tb = TensorBoard('logs')\n",
    "\n",
    "# FIT SEQUENTIAL MODEL\n",
    "history_univar = model_univar.fit(X, y, epochs=epoch, callbacks=[es,rlr,mcp,tb], shuffle=True, validation_split=0.2, verbose=1)"
   ]
  },
  {
   "cell_type": "markdown",
   "metadata": {
    "id": "hbRHg8Gzn7FZ"
   },
   "source": [
    "## Evaluation of Model\n",
    "\n"
   ]
  },
  {
   "cell_type": "code",
   "execution_count": null,
   "metadata": {
    "id": "ftMF_LwXbpsB"
   },
   "outputs": [],
   "source": [
    "print(history_univar.history.keys())"
   ]
  },
  {
   "cell_type": "code",
   "execution_count": null,
   "metadata": {
    "id": "uy2ida0CbLNq"
   },
   "outputs": [],
   "source": [
    "loss_univar= pd.DataFrame(history_univar.history,columns=(['loss', 'val_loss', 'lr']))\n",
    "loss_univar.describe()"
   ]
  },
  {
   "cell_type": "code",
   "execution_count": null,
   "metadata": {
    "id": "zc1rgb-qWkhF"
   },
   "outputs": [],
   "source": [
    "# PLOT LOSS VALUES\n",
    "pyplot.plot(history_univar.history['loss'])\n",
    "pyplot.plot(history_univar.history['val_loss'])\n",
    "pyplot.title('model train vs validation loss')\n",
    "pyplot.ylabel('loss')\n",
    "pyplot.xlabel('epoch')\n",
    "pyplot.legend(['train', 'validation'], loc='upper right')\n",
    "pyplot.show()\n",
    "##print(\"mean squared error training: \", history_univar.history['loss'])\n",
    "#print(\"mean squared error validation: \", history_univar.history['val_loss'])"
   ]
  },
  {
   "cell_type": "markdown",
   "metadata": {
    "id": "2Bc8O-niiwl5"
   },
   "source": [
    "Please note that the **validation loss is legitimately lower than the training loss**.\n",
    "\n",
    "\n",
    "\n",
    "\n",
    "Reason #1: Regularization(dropout) applied during training, but not during validation/testing\n",
    "\n",
    "Reason #2: Training loss is measured during each epoch while validation loss is measured after each epoch\n",
    "\n",
    "Reason #3: The validation set may be easier than the training set (or there may be leaks)\n",
    "\n",
    "https://www.pyimagesearch.com/2019/10/14/why-is-my-validation-loss-lower-than-my-training-loss/\n",
    "\n"
   ]
  },
  {
   "cell_type": "code",
   "execution_count": null,
   "metadata": {
    "id": "YCLNodDwqnyE"
   },
   "outputs": [],
   "source": [
    "# PREDICTIONS MADE ON PAST VALUES\n",
    "predictions_past = model_univar.predict(X[n_past:])\n",
    "\n",
    "# CONSTRUCT A DF TO HOLD RESULTS\n",
    "univar_pst_result_df = dataset_train[2 * n_past + n_future -1:].copy()                    # now reference the true set\n",
    "univar_pst_result_df['PastRottHeight'] = predictions_past                                 # add prediction column to trueset\n",
    "univar_pst_result_df = univar_pst_result_df.rename(columns={\"RottHeight\": \"ActlRottHeight\"})\n",
    "\n",
    "# FINAL RESULT\n",
    "univar_pst_result_df.tail()"
   ]
  },
  {
   "cell_type": "code",
   "execution_count": null,
   "metadata": {
    "id": "w2is3dWgoCFI"
   },
   "outputs": [],
   "source": [
    "# PERFORM PREDICTIONS FOR n VALUES\n",
    "predictions_future = model_univar.predict(X[-n_future:])\n",
    "\n",
    "# CONSTRUCT A DF TO HOLD RESULTS\n",
    "univar_result_df = trueset[cols].copy()                    # now reference the true set\n",
    "univar_result_df['FrcstRottHeight'] = predictions_future   # add prediction column to trueset\n",
    "univar_result_df = univar_result_df.rename(columns={\"RottHeight\": \"ActlRottHeight\"})\n",
    "\n",
    "# FINAL RESULT\n",
    "univar_result_df"
   ]
  },
  {
   "cell_type": "code",
   "execution_count": null,
   "metadata": {
    "id": "a8ZGifLAoFGI"
   },
   "outputs": [],
   "source": [
    "# VISUALISE PREDICTIONS\n",
    "\n",
    "rcParams['figure.figsize'] = 14,5\n",
    "\n",
    "# plot Parameters\n",
    "START_DATE_FOR_PLOTTING = '2019-07-18 00:30:00'\n",
    "# FORECASTED DATA (RED)\n",
    "plt.plot(univar_result_df.index, univar_result_df['FrcstRottHeight'], color='r', label= 'Forecasted Wave Height')\n",
    "\n",
    "# ACTUAL ROTT DATA (BLUE)\n",
    "plt.plot(univar_result_df.index, univar_result_df['ActlRottHeight'], color='b')\n",
    "\n",
    "# PREVIOUS ROTT HEIGHT DATA (BLUE)\n",
    "plt.plot(dataset_train.loc[START_DATE_FOR_PLOTTING: ].index, dataset_train.loc[START_DATE_FOR_PLOTTING:]['RottHeight'], color='b', label = \"Actual Wave Height\")\n",
    "\n",
    "# PREDICTED ROTT HEIGHT (ORANGE)\n",
    "plt.plot(univar_pst_result_df.loc[START_DATE_FOR_PLOTTING: ].index, univar_pst_result_df.loc[START_DATE_FOR_PLOTTING:]['PastRottHeight'], color='orange', label = \"Predicted Wave Height\")\n",
    "\n",
    "# VERTICAL LINE (GREEN)\n",
    "plt.axvline(x=min(univar_result_df.index), color='green', linewidth=2,linestyle='--')\n",
    "\n",
    "# AESTHETICS\n",
    "plt.grid(which='major', color='#cccccc', alpha=0.5)\n",
    "plt.legend(shadow=True)\n",
    "plt.title(\"Forecasted Results Univariate Model\")"
   ]
  },
  {
   "cell_type": "markdown",
   "metadata": {
    "id": "sS7mXqlaN16y"
   },
   "source": [
    "# Multivariate Model\n",
    "\n",
    "We will concentrate on a **Multivariate LSTM Model** that predicts **Rottnest Height** given **RottHeight**,\t**RottMeanPeriod**,\t**RottPeakPeriod**,\t**RottRadiansRotated** as the inputs. It is expected that increasing the complexity of the model will reduce the variance and produce a better forecast in comparison to the **null model**.\n",
    "\n",
    "Below are the steps requried to prepare the data for training.\n",
    "\n",
    "We will keep the keras model structure and hyperparameters identical to the univariate model in order to have a controlled experiment."
   ]
  },
  {
   "cell_type": "markdown",
   "metadata": {
    "id": "TSm8wMUUYH7G"
   },
   "source": [
    "## Prepare Data (Multivariate Model)\n",
    "\n",
    "\n",
    "\n",
    "Below are the steps requried to prepare the data for training."
   ]
  },
  {
   "cell_type": "code",
   "execution_count": null,
   "metadata": {
    "id": "41WnLbU3YHoG"
   },
   "outputs": [],
   "source": [
    "# SELECT FEATURES INVOLVED IN TRAINING AND PREDICTIONS\n",
    "cols = [\"RottHeight\",\t\"RottMeanPeriod\",\t\"RottPeakPeriod\",\t\"RottRadiansRotated\"]\n",
    "\n",
    "# ISOLATE TRAINING SET WITH ONLY cols THAT ARE REQUIRED\n",
    "dataset_train = df[cols]\n",
    "\n",
    "# CONVERT TO ARRAY\n",
    "training_set = dataset_train.to_numpy()\n",
    "\n",
    "# PRINT SUMMARY\n",
    "print(\"Training set shape: {}\".format(training_set.shape) )\n",
    "print(\"Features Selected: {}\".format(cols))"
   ]
  },
  {
   "cell_type": "code",
   "execution_count": null,
   "metadata": {
    "id": "xptIHyCQZzQo"
   },
   "outputs": [],
   "source": [
    "# CONSTRUCT X and y SETS\n",
    "X_mv = []    # each item is a window of size n_past\n",
    "y_mv = []    # corresponding y val that each window tries to predict\n",
    "\n",
    "n_future = n    # number of data points to predict in the future\n",
    "n_past = 24     # number of past data points to use for predicting the future\n",
    "\n",
    "# BUILD X AND y\n",
    "for i in range(n_past, len(training_set) - n_future + 1):\n",
    "  X_mv.append( training_set[ i - n_past:i, 0:dataset_train.shape[1] ] )\n",
    "  y_mv.append( training_set[ i + n_future - 1:i + n_future, 0 ] )\n",
    "\n",
    "X_mv, y_mv = np.array(X_mv), np.array(y_mv)\n",
    "\n",
    "print(\"X shape: {}\".format(X_mv.shape))\n",
    "print(\"y shape: {}\".format(y_mv.shape))"
   ]
  },
  {
   "cell_type": "markdown",
   "metadata": {
    "id": "dhAP5TwtaO2V"
   },
   "source": [
    "## Train LSTM Model"
   ]
  },
  {
   "cell_type": "code",
   "execution_count": null,
   "metadata": {
    "id": "0UJ4Q4vWaCo-"
   },
   "outputs": [],
   "source": [
    "# BUILD LSTM MODEL\n",
    "model_multivar = Sequential()                                                                               # initialise LSTM neural network\n",
    "\n",
    "model_multivar.add(LSTM(units=64, return_sequences= True, input_shape=(n_past,dataset_train.shape[1])))     # 1st layer\n",
    "model_multivar.add(LSTM(units=64, return_sequences = False))                                                # 2nd layer\n",
    "model_multivar.add(Dropout(0.55))                                                                           # Dropout layer\n",
    "model_multivar.add(Dense(units=1, activation='linear'))                                                     # Output Layer\n",
    "\n",
    "model_multivar.compile(optimizer = Adam(learning_rate=0.0001),loss= 'mean_squared_error')                    # compile model\n",
    "\n",
    "# PRINT SUMMARY\n",
    "model_multivar.summary()"
   ]
  },
  {
   "cell_type": "code",
   "execution_count": null,
   "metadata": {
    "id": "H73tuENdb9wQ"
   },
   "outputs": [],
   "source": [
    "# CALLBACK PARAMS\n",
    "es = EarlyStopping(monitor='val_loss', min_delta=1e-10, patience=10, verbose=1)\n",
    "rlr = ReduceLROnPlateau(monitor='val_loss', factor=0.5, patience=10, verbose=1)\n",
    "mcp = ModelCheckpoint(filepath='waveHeightWeights.h5',monitor='val_loss', verbose=1, save_best_only=True, save_weights_only=True)\n",
    "tb = TensorBoard('logs')\n",
    "\n",
    "# FIT SEQUENTIAL MODEL\n",
    "history_multivar = model_multivar.fit(X_mv, y_mv, epochs=epoch, callbacks=[es,rlr,mcp,tb], shuffle=True, validation_split=0.2, verbose=1)"
   ]
  },
  {
   "cell_type": "markdown",
   "metadata": {
    "id": "we0W3dDPcc4L"
   },
   "source": [
    "## Evaluation of Model\n",
    "\n",
    "todo."
   ]
  },
  {
   "cell_type": "code",
   "execution_count": null,
   "metadata": {
    "id": "ybEqw3kOrLIp"
   },
   "outputs": [],
   "source": [
    "# PREDICTIONS MADE ON PAST VALUES\n",
    "predictions_past = model_multivar.predict(X_mv[n_past:])\n",
    "\n",
    "# CONSTRUCT A DF TO HOLD RESULTS\n",
    "multivar_pst_result_df = dataset_train[2 * n_past + n_future -1:].copy()                    # now reference the true set\n",
    "multivar_pst_result_df['PastRottHeight'] = predictions_past                                 # add prediction column to trueset\n",
    "multivar_pst_result_df = multivar_pst_result_df.rename(columns={\"RottHeight\": \"ActlRottHeight\"})\n",
    "\n",
    "# FINAL RESULT\n",
    "multivar_pst_result_df.tail()"
   ]
  },
  {
   "cell_type": "code",
   "execution_count": null,
   "metadata": {
    "id": "pkHC817VcdmB"
   },
   "outputs": [],
   "source": [
    "# PERFORM PREDICTIONS FOR n VALUES\n",
    "predictions_future = model_multivar.predict(X_mv[-n_future:])\n",
    "\n",
    "# CONSTRUCT A DF TO HOLD RESULTS\n",
    "multivar_result_df = trueset[cols].copy()                    # now reference the true set\n",
    "multivar_result_df['FrcstRottHeight'] = predictions_future   # add prediction column to trueset\n",
    "multivar_result_df = multivar_result_df.rename(columns={\"RottHeight\": \"ActlRottHeight\"})\n",
    "\n",
    "# FINAL RESULT\n",
    "multivar_result_df"
   ]
  },
  {
   "cell_type": "code",
   "execution_count": null,
   "metadata": {
    "id": "6Pv9H4lOdNcZ"
   },
   "outputs": [],
   "source": [
    "# PLOT LOSS VALUES\n",
    "pyplot.plot(history_multivar.history['loss'])\n",
    "pyplot.plot(history_multivar.history['val_loss'])\n",
    "pyplot.title('model train vs validation loss')\n",
    "pyplot.ylabel('loss')\n",
    "pyplot.xlabel('epoch')\n",
    "pyplot.legend(['train', 'validation'], loc='upper right')\n",
    "pyplot.show()\n",
    "print(\"mean squared error training: \", history_multivar.history['loss'])\n",
    "print(\"mean squared error validation: \", history_multivar.history['val_loss'])"
   ]
  },
  {
   "cell_type": "markdown",
   "metadata": {
    "id": "-SbOd9gzlWX4"
   },
   "source": [
    "Please note that the validation loss is **legitimately lower than the training loss.**\n",
    "\n",
    "Reason #1: Regularization(dropout) applied during training, but not during validation/testing\n",
    "\n",
    "Reason #2: Training loss is measured during each epoch while validation loss is measured after each epoch\n",
    "\n",
    "Reason #3: The validation set may be easier than the training set (or there may be leaks)\n",
    "\n",
    "https://www.pyimagesearch.com/2019/10/14/why-is-my-validation-loss-lower-than-my-training-loss/"
   ]
  },
  {
   "cell_type": "code",
   "execution_count": null,
   "metadata": {
    "id": "ClFsYQFqcrAF"
   },
   "outputs": [],
   "source": [
    "# VISUALISE PREDICTIONS\n",
    "\n",
    "rcParams['figure.figsize'] = 14,5\n",
    "\n",
    "# plot Parameters\n",
    "START_DATE_FOR_PLOTTING = '2018-11-10 22:30:00'\n",
    "\n",
    "# FORECASTED DATA (RED)\n",
    "plt.plot(multivar_result_df.index, multivar_result_df['FrcstRottHeight'], color='r', label= 'Forecasted Wave Height')\n",
    "\n",
    "# ACTUAL ROTT DATA (BLUE)\n",
    "plt.plot(multivar_result_df.index, multivar_result_df['ActlRottHeight'], color='b')\n",
    "\n",
    "# PREVIOUS ROTT HEIGHT DATA (BLUE)\n",
    "plt.plot(dataset_train.loc[START_DATE_FOR_PLOTTING: ].index, dataset_train.loc[START_DATE_FOR_PLOTTING:]['RottHeight'], color='b', label = \"Actual Wave Height\")\n",
    "\n",
    "# PREDICTED ROTT HEIGHT (ORANGE)\n",
    "plt.plot(multivar_pst_result_df.loc[START_DATE_FOR_PLOTTING: ].index, multivar_pst_result_df.loc[START_DATE_FOR_PLOTTING:]['PastRottHeight'], color='orange', label = \"Predicted Wave Height\")\n",
    "\n",
    "# VERTICAL LINE (GREEN)\n",
    "plt.axvline(x=min(multivar_result_df.index), color='green', linewidth=2,linestyle='--')\n",
    "\n",
    "# AESTHETICS\n",
    "plt.grid(which='major', color='#cccccc', alpha=0.5)\n",
    "plt.legend(shadow=True)\n",
    "plt.title(\"Forecasted Results Univariate Model\")"
   ]
  },
  {
   "cell_type": "markdown",
   "metadata": {
    "id": "wkex3SDuPObh"
   },
   "source": []
  },
  {
   "cell_type": "markdown",
   "metadata": {
    "id": "UYLpUgU4S3yD"
   },
   "source": [
    "# Comparison of Results\n",
    "\n",
    "**DO NOT RUN THIS SECTION UNLESS NO H5 FILES ARE AVAILABLE.(H5 FILES ARE PROVIDED)** \n",
    "\n",
    "- ETA FOR UNIVARIATE   : 2 HOURS ON COLAB (WITH GPU)\n",
    "- ETA FOR MULTIVARIATE : 2 HOURS ON COLAB (WITH GPU)\n",
    "This section lists down the experiments on both multivariate and univariate  lstm forecasting models developed above"
   ]
  },
  {
   "cell_type": "markdown",
   "metadata": {
    "id": "bFOOqV5vnD7Q"
   },
   "source": [
    "Both the comparisons below are cycling through following: \n",
    "  - Forecast on Cottesloe inputs and Rottnest inputs\n",
    "  - Time steps into the future = 2, 6, 12"
   ]
  },
  {
   "cell_type": "markdown",
   "metadata": {
    "id": "mJYHyYkp5_pg"
   },
   "source": [
    "## UniVariate Comparison"
   ]
  },
  {
   "cell_type": "code",
   "execution_count": null,
   "metadata": {
    "colab": {
     "base_uri": "https://localhost:8080/",
     "height": 501
    },
    "executionInfo": {
     "elapsed": 48397,
     "status": "error",
     "timestamp": 1603976984895,
     "user": {
      "displayName": "Ammar Pervez",
      "photoUrl": "https://lh3.googleusercontent.com/a-/AOh14Gi8WNzfv_BTIPuGu9Hlf2ww8310r8CAWukW9jAvsPc=s64",
      "userId": "03225736955727170639"
     },
     "user_tz": -480
    },
    "id": "RIHLzu1OnRls",
    "outputId": "92f40366-f32a-4bc1-f204-08ca8b5ff12e"
   },
   "outputs": [],
   "source": [
    "\"\"\"\n",
    "TRAINS ALL MODELS\n",
    "\"\"\"\n",
    "\n",
    "\n",
    "# LOAD AND DISPLAY\n",
    "waves = load_wave_data()\n",
    "waves['DateTime'] = waves.index   # keep DateTime as a separate col for plotting\n",
    "epoch = 1\n",
    "\n",
    "# SELECT FEATURES INVOLVED IN TRAINING AND PREDICTIONS\n",
    "# MAKE INTO FOR LOOP\n",
    "# cols = [ [\"RottHeight\"], [\"CottHeight\"], [\"RottHeight\",\t\"RottMeanPeriod\",\t\"RottPeakPeriod\",\t\"RottRadiansRotated\"], [\"CottHeight\",\t\"CottMeanPeriod\",\t\"CottPeakPeriod\",\t\"CottRadiansRotated\"] ]\n",
    "cols = [[\"RottHeight\"],['CottHeight']]   # --------- Situations: [\"RottHeight\"], [\"CottHeight\"], [\"RottHeight\",\t\"RottMeanPeriod\",\t\"RottPeakPeriod\",\t\"RottRadiansRotated\"], [\"CottHeight\",\t\"CottMeanPeriod\",\t\"CottPeakPeriod\",\t\"CottRadiansRotated\"]\n",
    "columnss = ['RottHeight', 'CottHeight']\n",
    "Final_df = pd.DataFrame(waves, columns=columnss,index=waves.index)\n",
    "loss_hist=[]\n",
    "loss_hist_ar = np.array(loss_hist, dtype = np.float32)\n",
    "\n",
    "val_loss_hist=[]\n",
    "loss_val_hist_ar = np.array(val_loss_hist, dtype = np.float32)\n",
    "\n",
    "all_models = []\n",
    "\n",
    "\n",
    "#Loop\n",
    "for colus,coluss in zip(cols,columnss):\n",
    "  \n",
    "  n_vals = [2, 6, 12]\n",
    "  n_past = 96 \n",
    "  # CONSTRUCT TRAINING SET ----------\n",
    "  \n",
    "  # MODEL\n",
    "  #model = model_univar\n",
    "\n",
    "  # final_df_res =  TODO\n",
    "\n",
    "\n",
    "  for n in n_vals:\n",
    "\n",
    "    # PREPARE DATASET -----------\n",
    "    # REMOVE LAST n OBS. FROM DF. USE THESE TO COMPARE MODEL TO REAL RESULTS\n",
    "    trueset = waves.tail(n)     # n true values to compare with forecast results\n",
    "    # CONSTRUCT DF WITH LAST n OBS. REMOVED. USE df TO FORECAST n VALS\n",
    "    df = waves[:-n+1]           # dataset with 'true values' removed. LSTM will try forecast the next n values. Compare with trueset.\n",
    "    # ISOLATE TRAINING SET WITH ONLY cols THAT ARE REQUIRED\n",
    "    dataset_train = df[colus]\n",
    "    # CONVERT TO ARRAY\n",
    "    training_set = dataset_train.to_numpy()\n",
    "    # CONSTRUCT X and y SETS ----\n",
    "    X = []    # each item is a window of size n_past\n",
    "    y = []    # corresponding y val that each window tries to predict\n",
    "\n",
    "    n_future = n    # number of data points to predict in the future\n",
    "      # number of past data points to use for predicting the future\n",
    "\n",
    "    # BUILD X AND y\n",
    "    for i in range(n_past, len(training_set) - n_future + 1):\n",
    "      X.append( training_set[ i - n_past:i, 0:dataset_train.shape[1] ] )\n",
    "      y.append( training_set[ i + n_future - 1:i + n_future, 0 ] )\n",
    "\n",
    "    X, y = np.array(X), np.array(y)\n",
    "\n",
    "    # BUILD LSTM MODEL\n",
    "    model_univar = Sequential()                                                                               # initialise LSTM neural network\n",
    "\n",
    "    model_univar.add(LSTM(units=64, return_sequences= True, input_shape=(n_past,dataset_train.shape[1])))     # 1st layer\n",
    "    model_univar.add(LSTM(units=30, return_sequences = False))                                                # 2nd layer\n",
    "    model_univar.add(Dropout(0.55))                                                                           # Dropout layer\n",
    "    model_univar.add(Dense(units=1, activation='linear'))                                                     # Output Layer\n",
    "\n",
    "    model_univar.compile(optimizer = Adam(learning_rate=0.0001), loss= 'mean_squared_error')                  # compile model\n",
    "    model = model_univar\n",
    "    # PRINT SUMMARY\n",
    "    #model_univar.summary()\n",
    "    # NOW TRAIN MODEL ------\n",
    "    es = EarlyStopping(monitor='val_loss', min_delta=1e-10, patience=10, verbose=1)\n",
    "    rlr = ReduceLROnPlateau(monitor='val_loss', factor=0.5, patience=10, verbose=1)\n",
    "    mcp = ModelCheckpoint(filepath='{}_Uni_{:02d} Step_HeightWeights.h5'.format(coluss,n),monitor='val_loss', verbose=1, save_best_only=True, save_weights_only=True)\n",
    "    tb = TensorBoard('logs')\n",
    "\n",
    "    _hist_model = model.fit(X, y, epochs=epoch, callbacks=[es,rlr,mcp,tb], shuffle=True, validation_split=0.2, verbose=1)\n",
    "\n",
    "    # ADD MODEL TO FINAL ARRAY\n",
    "    all_models.append(_hist_model)\n",
    "\n",
    "    # MAKE PREDICTIONS ------\n",
    "    # PREDICTIONS MADE ON PAST VALUES\n",
    "    predictions_past = model.predict(X[n_past:])\n",
    "\n",
    "\n",
    "    # PREDICTIONS MADE ON PAST VALUES\n",
    "    #predictions_past = model_multivar.predict(X_mv[n_past:])\n",
    "\n",
    "    # PREDICTIONS MADE ON PAST VALUES\n",
    "    #predictions_past = model_univar.predict(X[n_past:])\n",
    "\n",
    "    # CONSTRUCT A DF TO HOLD RESULTS\n",
    "    univar_pst_result_df = dataset_train[2 * n_past + n_future -1:].copy()                    # now reference the true set\n",
    "    univar_pst_result_df[\"{} on {} Forecast \".format(colus,n)] = predictions_past\n",
    "    univar_pst_result_df=univar_pst_result_df.drop(univar_pst_result_df.columns.difference([\"{} on {} Forecast \".format(colus,n)]), axis=1)                               # add prediction column to trueset\n",
    "    #univar_pst_result_df = univar_pst_result_df.rename(columns={\"{} on {} Forecast \".format(cols,n): \"ActlRottHeight\"})\n",
    "    # FINAL RESULT\n",
    "    \n",
    "    Final_df=Final_df.join(univar_pst_result_df)\n",
    "    \n",
    "\n",
    "    # ADD TO FINAL DF\n",
    "    # hist.history['val_loss'][-1]\n",
    "    loss_hist_ar = np.append(loss_hist_ar,_hist_model.history['loss'][-1])\n",
    "    loss_val_hist_ar = np.append(loss_val_hist_ar,_hist_model.history['val_loss'][-1]) "
   ]
  },
  {
   "cell_type": "code",
   "execution_count": null,
   "metadata": {
    "colab": {
     "base_uri": "https://localhost:8080/",
     "height": 830
    },
    "executionInfo": {
     "elapsed": 797,
     "status": "ok",
     "timestamp": 1603942439301,
     "user": {
      "displayName": "Ammar Pervez",
      "photoUrl": "https://lh3.googleusercontent.com/a-/AOh14Gi8WNzfv_BTIPuGu9Hlf2ww8310r8CAWukW9jAvsPc=s64",
      "userId": "03225736955727170639"
     },
     "user_tz": -480
    },
    "id": "t3Ww0seZa08N",
    "outputId": "179d195c-e0f4-4e1f-d183-79cbb1dce228"
   },
   "outputs": [
    {
     "data": {
      "text/html": [
       "<div>\n",
       "<style scoped>\n",
       "    .dataframe tbody tr th:only-of-type {\n",
       "        vertical-align: middle;\n",
       "    }\n",
       "\n",
       "    .dataframe tbody tr th {\n",
       "        vertical-align: top;\n",
       "    }\n",
       "\n",
       "    .dataframe thead th {\n",
       "        text-align: right;\n",
       "    }\n",
       "</style>\n",
       "<table border=\"1\" class=\"dataframe\">\n",
       "  <thead>\n",
       "    <tr style=\"text-align: right;\">\n",
       "      <th></th>\n",
       "      <th>RottHeight</th>\n",
       "      <th>CottHeight</th>\n",
       "      <th>['RottHeight'] on 2 Forecast</th>\n",
       "      <th>['RottHeight'] on 6 Forecast</th>\n",
       "      <th>['RottHeight'] on 12 Forecast</th>\n",
       "      <th>['CottHeight'] on 2 Forecast</th>\n",
       "      <th>['CottHeight'] on 6 Forecast</th>\n",
       "      <th>['CottHeight'] on 12 Forecast</th>\n",
       "    </tr>\n",
       "    <tr>\n",
       "      <th>DateTime</th>\n",
       "      <th></th>\n",
       "      <th></th>\n",
       "      <th></th>\n",
       "      <th></th>\n",
       "      <th></th>\n",
       "      <th></th>\n",
       "      <th></th>\n",
       "      <th></th>\n",
       "    </tr>\n",
       "  </thead>\n",
       "  <tbody>\n",
       "    <tr>\n",
       "      <th>2015-12-17 22:30:00</th>\n",
       "      <td>2.17</td>\n",
       "      <td>0.69</td>\n",
       "      <td>NaN</td>\n",
       "      <td>NaN</td>\n",
       "      <td>NaN</td>\n",
       "      <td>NaN</td>\n",
       "      <td>NaN</td>\n",
       "      <td>NaN</td>\n",
       "    </tr>\n",
       "    <tr>\n",
       "      <th>2015-12-17 23:00:00</th>\n",
       "      <td>1.96</td>\n",
       "      <td>0.70</td>\n",
       "      <td>NaN</td>\n",
       "      <td>NaN</td>\n",
       "      <td>NaN</td>\n",
       "      <td>NaN</td>\n",
       "      <td>NaN</td>\n",
       "      <td>NaN</td>\n",
       "    </tr>\n",
       "    <tr>\n",
       "      <th>2015-12-17 23:30:00</th>\n",
       "      <td>2.27</td>\n",
       "      <td>0.72</td>\n",
       "      <td>NaN</td>\n",
       "      <td>NaN</td>\n",
       "      <td>NaN</td>\n",
       "      <td>NaN</td>\n",
       "      <td>NaN</td>\n",
       "      <td>NaN</td>\n",
       "    </tr>\n",
       "    <tr>\n",
       "      <th>2015-12-18 00:00:00</th>\n",
       "      <td>2.09</td>\n",
       "      <td>0.74</td>\n",
       "      <td>NaN</td>\n",
       "      <td>NaN</td>\n",
       "      <td>NaN</td>\n",
       "      <td>NaN</td>\n",
       "      <td>NaN</td>\n",
       "      <td>NaN</td>\n",
       "    </tr>\n",
       "    <tr>\n",
       "      <th>2015-12-18 00:30:00</th>\n",
       "      <td>2.11</td>\n",
       "      <td>0.74</td>\n",
       "      <td>NaN</td>\n",
       "      <td>NaN</td>\n",
       "      <td>NaN</td>\n",
       "      <td>NaN</td>\n",
       "      <td>NaN</td>\n",
       "      <td>NaN</td>\n",
       "    </tr>\n",
       "    <tr>\n",
       "      <th>...</th>\n",
       "      <td>...</td>\n",
       "      <td>...</td>\n",
       "      <td>...</td>\n",
       "      <td>...</td>\n",
       "      <td>...</td>\n",
       "      <td>...</td>\n",
       "      <td>...</td>\n",
       "      <td>...</td>\n",
       "    </tr>\n",
       "    <tr>\n",
       "      <th>2015-12-24 02:00:00</th>\n",
       "      <td>2.70</td>\n",
       "      <td>1.18</td>\n",
       "      <td>2.593961</td>\n",
       "      <td>2.736090</td>\n",
       "      <td>2.583727</td>\n",
       "      <td>1.168156</td>\n",
       "      <td>1.136772</td>\n",
       "      <td>1.257436</td>\n",
       "    </tr>\n",
       "    <tr>\n",
       "      <th>2015-12-24 02:30:00</th>\n",
       "      <td>2.54</td>\n",
       "      <td>1.14</td>\n",
       "      <td>2.441088</td>\n",
       "      <td>2.720769</td>\n",
       "      <td>2.642169</td>\n",
       "      <td>1.133106</td>\n",
       "      <td>1.229785</td>\n",
       "      <td>1.320964</td>\n",
       "    </tr>\n",
       "    <tr>\n",
       "      <th>2015-12-24 03:00:00</th>\n",
       "      <td>2.73</td>\n",
       "      <td>1.19</td>\n",
       "      <td>2.522441</td>\n",
       "      <td>2.638767</td>\n",
       "      <td>2.697584</td>\n",
       "      <td>1.126815</td>\n",
       "      <td>1.274045</td>\n",
       "      <td>1.366556</td>\n",
       "    </tr>\n",
       "    <tr>\n",
       "      <th>2015-12-24 03:30:00</th>\n",
       "      <td>2.52</td>\n",
       "      <td>1.22</td>\n",
       "      <td>2.519076</td>\n",
       "      <td>2.644915</td>\n",
       "      <td>2.716040</td>\n",
       "      <td>1.099926</td>\n",
       "      <td>1.248138</td>\n",
       "      <td>1.285911</td>\n",
       "    </tr>\n",
       "    <tr>\n",
       "      <th>2015-12-24 04:00:00</th>\n",
       "      <td>2.59</td>\n",
       "      <td>1.30</td>\n",
       "      <td>2.604919</td>\n",
       "      <td>2.614720</td>\n",
       "      <td>2.836648</td>\n",
       "      <td>1.124663</td>\n",
       "      <td>1.221748</td>\n",
       "      <td>1.154263</td>\n",
       "    </tr>\n",
       "  </tbody>\n",
       "</table>\n",
       "<p>300 rows × 8 columns</p>\n",
       "</div>"
      ],
      "text/plain": [
       "                     RottHeight  ...  ['CottHeight'] on 12 Forecast \n",
       "DateTime                         ...                                \n",
       "2015-12-17 22:30:00        2.17  ...                             NaN\n",
       "2015-12-17 23:00:00        1.96  ...                             NaN\n",
       "2015-12-17 23:30:00        2.27  ...                             NaN\n",
       "2015-12-18 00:00:00        2.09  ...                             NaN\n",
       "2015-12-18 00:30:00        2.11  ...                             NaN\n",
       "...                         ...  ...                             ...\n",
       "2015-12-24 02:00:00        2.70  ...                        1.257436\n",
       "2015-12-24 02:30:00        2.54  ...                        1.320964\n",
       "2015-12-24 03:00:00        2.73  ...                        1.366556\n",
       "2015-12-24 03:30:00        2.52  ...                        1.285911\n",
       "2015-12-24 04:00:00        2.59  ...                        1.154263\n",
       "\n",
       "[300 rows x 8 columns]"
      ]
     },
     "execution_count": 29,
     "metadata": {
      "tags": []
     },
     "output_type": "execute_result"
    }
   ],
   "source": [
    "Final_df.head(300)"
   ]
  },
  {
   "cell_type": "code",
   "execution_count": null,
   "metadata": {
    "colab": {
     "base_uri": "https://localhost:8080/",
     "height": 104
    },
    "executionInfo": {
     "elapsed": 1033,
     "status": "ok",
     "timestamp": 1603953823999,
     "user": {
      "displayName": "Ammar Pervez",
      "photoUrl": "https://lh3.googleusercontent.com/a-/AOh14Gi8WNzfv_BTIPuGu9Hlf2ww8310r8CAWukW9jAvsPc=s64",
      "userId": "03225736955727170639"
     },
     "user_tz": -480
    },
    "id": "DxLqpwOYGPEY",
    "outputId": "c23c11bf-68ba-4a4e-c182-2fbedfde8626"
   },
   "outputs": [
    {
     "data": {
      "text/plain": [
       "Index(['RottHeight', 'CottHeight', '['RottHeight'] on 2 Forecast ',\n",
       "       '['RottHeight'] on 6 Forecast ', '['RottHeight'] on 12 Forecast ',\n",
       "       '['CottHeight'] on 2 Forecast ', '['CottHeight'] on 6 Forecast ',\n",
       "       '['CottHeight'] on 12 Forecast '],\n",
       "      dtype='object')"
      ]
     },
     "execution_count": 40,
     "metadata": {
      "tags": []
     },
     "output_type": "execute_result"
    }
   ],
   "source": [
    "Final_df.columns"
   ]
  },
  {
   "cell_type": "markdown",
   "metadata": {
    "id": "TCCPxKXbH9wb"
   },
   "source": [
    "###Univariate MSE"
   ]
  },
  {
   "cell_type": "code",
   "execution_count": null,
   "metadata": {
    "colab": {
     "base_uri": "https://localhost:8080/",
     "height": 138
    },
    "executionInfo": {
     "elapsed": 918,
     "status": "ok",
     "timestamp": 1603954510836,
     "user": {
      "displayName": "Ammar Pervez",
      "photoUrl": "https://lh3.googleusercontent.com/a-/AOh14Gi8WNzfv_BTIPuGu9Hlf2ww8310r8CAWukW9jAvsPc=s64",
      "userId": "03225736955727170639"
     },
     "user_tz": -480
    },
    "id": "6AUyKyIrZ6UK",
    "outputId": "fbea7ae6-d5ac-46d6-88a7-19f8b5184cf6"
   },
   "outputs": [
    {
     "name": "stdout",
     "output_type": "stream",
     "text": [
      "Univariate MSEs\n",
      "Rott Height 2 Steps Forecast : 0.025\n",
      "Rott Height 6 Steps Forecast: 0.058\n",
      "Rott Height 12 Steps Forecast: 0.13\n",
      "Cott Height 2 Steps Forecast: 0.007\n",
      "Cott Height 6 Steps Forecast: 0.017\n",
      "Cott Height 12 Steps Forecast: 0.038\n"
     ]
    }
   ],
   "source": []
  },
  {
   "cell_type": "markdown",
   "metadata": {
    "id": "bifk--hgnSLE"
   },
   "source": [
    "**NOTE:**\n",
    "\n",
    "Please note that the validation loss is legitimately lower than the training loss.\n",
    "\n",
    "Reason #1: Regularization(dropout) applied during training, but not during validation/testing\n",
    "\n",
    "Reason #2: Training loss is measured during each epoch while validation loss is measured after each epoch\n",
    "\n",
    "Reason #3: The validation set may be easier than the training set (or there may be leaks)\n",
    "\n",
    "https://www.pyimagesearch.com/2019/10/14/why-is-my-validation-loss-lower-than-my-training-loss/"
   ]
  },
  {
   "cell_type": "code",
   "execution_count": null,
   "metadata": {
    "colab": {
     "base_uri": "https://localhost:8080/",
     "height": 1000
    },
    "executionInfo": {
     "elapsed": 6879742,
     "status": "ok",
     "timestamp": 1603934911885,
     "user": {
      "displayName": "Ammar Pervez",
      "photoUrl": "https://lh3.googleusercontent.com/a-/AOh14Gi8WNzfv_BTIPuGu9Hlf2ww8310r8CAWukW9jAvsPc=s64",
      "userId": "03225736955727170639"
     },
     "user_tz": -480
    },
    "id": "seEJQXbbpMBy",
    "outputId": "181e1263-384e-46df-8d39-b9c39ac911d8"
   },
   "outputs": [
    {
     "data": {
      "image/png": "[encoded data removed]",
      "text/plain": [
       "<Figure size 432x288 with 1 Axes>"
      ]
     },
     "metadata": {
      "needs_background": "light",
      "tags": []
     },
     "output_type": "display_data"
    },
    {
     "name": "stdout",
     "output_type": "stream",
     "text": [
      "mean squared error training:  [0.47817283868789673, 0.27425330877304077, 0.24630863964557648, 0.22729526460170746, 0.213919997215271, 0.19754856824874878, 0.18377503752708435, 0.16849330067634583, 0.1600589156150818, 0.15085795521736145, 0.13902828097343445, 0.13324366509914398, 0.1215728148818016, 0.11482259631156921, 0.10747409611940384, 0.10382099449634552, 0.09654892981052399, 0.09130585193634033, 0.08764553815126419, 0.0811711996793747, 0.0777832418680191, 0.07680800557136536, 0.07369589805603027, 0.07239626348018646, 0.06984902173280716, 0.06940669566392899, 0.06714773178100586, 0.06707355380058289, 0.06728312373161316, 0.06531516462564468, 0.0650579184293747, 0.06390290707349777, 0.0633806586265564, 0.06380163133144379, 0.06298947334289551, 0.06304152309894562, 0.06313250213861465, 0.06353335082530975, 0.062980055809021, 0.06186225637793541, 0.06373190879821777, 0.06456426531076431, 0.06146617233753204, 0.06165686622262001, 0.06168554350733757, 0.0625704750418663, 0.06159571558237076, 0.06204730272293091, 0.06277269870042801, 0.062005892395973206, 0.06089293584227562, 0.06072254851460457, 0.06209763512015343, 0.06125256419181824, 0.06218383461236954, 0.060826923698186874, 0.06165075674653053, 0.061800286173820496, 0.06146528944373131, 0.06376689672470093, 0.0618019737303257, 0.06220415607094765, 0.06119072809815407, 0.06227147579193115, 0.061617717146873474, 0.0630798265337944, 0.061813026666641235, 0.06063725799322128, 0.061195652931928635]\n",
      "mean squared error validation:  [0.0433102622628212, 0.046114012598991394, 0.037043049931526184, 0.03146258369088173, 0.039680365473032, 0.02508895844221115, 0.026876255869865417, 0.029744092375040054, 0.023449396714568138, 0.03036070242524147, 0.029245641082525253, 0.03057943284511566, 0.026487033814191818, 0.023617688566446304, 0.023262575268745422, 0.021898100152611732, 0.022577954456210136, 0.02304508164525032, 0.024308525025844574, 0.024695854634046555, 0.02131899632513523, 0.021712984889745712, 0.022653678432106972, 0.022363873198628426, 0.021207507699728012, 0.021958736702799797, 0.021615663543343544, 0.023713160306215286, 0.022263148799538612, 0.021423108875751495, 0.021138740703463554, 0.020952662453055382, 0.021596567705273628, 0.021791785955429077, 0.02203565463423729, 0.021313760429620743, 0.02217935211956501, 0.02100936882197857, 0.020921703428030014, 0.0217538233846426, 0.021169912070035934, 0.021662505343556404, 0.02124231867492199, 0.021514857187867165, 0.021850192919373512, 0.021412627771496773, 0.02066989056766033, 0.021926218643784523, 0.021175948902964592, 0.02061549574136734, 0.022248830646276474, 0.02055496536195278, 0.022423038259148598, 0.021103130653500557, 0.021565616130828857, 0.020660914480686188, 0.020694751292467117, 0.021276108920574188, 0.020411698147654533, 0.02105451561510563, 0.021642200648784637, 0.020731346681714058, 0.0212041437625885, 0.021004630252718925, 0.021582096815109253, 0.02053561620414257, 0.021230455487966537, 0.021974969655275345, 0.020765427500009537]\n"
     ]
    },
    {
     "data": {
      "image/png": "[encoded data removed]",
      "text/plain": [
       "<Figure size 432x288 with 1 Axes>"
      ]
     },
     "metadata": {
      "needs_background": "light",
      "tags": []
     },
     "output_type": "display_data"
    },
    {
     "name": "stdout",
     "output_type": "stream",
     "text": [
      "mean squared error training:  [0.5725471377372742, 0.311803936958313, 0.2880394160747528, 0.268945574760437, 0.2521928548812866, 0.23796863853931427, 0.22409115731716156, 0.2124992311000824, 0.199830561876297, 0.18906529247760773, 0.176600843667984, 0.166331946849823, 0.16210812330245972, 0.15398311614990234, 0.1453748196363449, 0.13829466700553894, 0.13235609233379364, 0.1281764656305313, 0.12417364120483398, 0.11737120896577835, 0.11327157914638519, 0.1124446839094162, 0.11037176847457886, 0.1087857261300087, 0.10506047308444977, 0.10405796021223068, 0.1002822071313858, 0.10036540776491165, 0.09885065257549286, 0.09740433096885681, 0.09798841178417206, 0.09623032808303833, 0.09689652174711227, 0.09700193256139755, 0.09652864187955856, 0.09331033378839493, 0.09389574825763702, 0.093728207051754, 0.09501459449529648, 0.09376924484968185, 0.09363093972206116, 0.09317386150360107, 0.09374647587537766, 0.09285064041614532, 0.09172549843788147, 0.09176856279373169, 0.09350728243589401, 0.09209521859884262, 0.09312842041254044, 0.09289531409740448, 0.09255716949701309, 0.09275252372026443, 0.09350970387458801]\n",
      "mean squared error validation:  [0.11128261685371399, 0.07732456922531128, 0.07032138854265213, 0.06783131510019302, 0.06493370980024338, 0.06069540977478027, 0.06044571101665497, 0.05934212729334831, 0.06285562366247177, 0.05956956744194031, 0.05548461154103279, 0.060170769691467285, 0.05512598529458046, 0.05466966703534126, 0.05513088405132294, 0.0542500838637352, 0.05646524205803871, 0.0539274588227272, 0.056451257318258286, 0.053838327527046204, 0.054157886654138565, 0.05566452071070671, 0.05403288081288338, 0.055111113935709, 0.0561106875538826, 0.053727276623249054, 0.05272059142589569, 0.0533316507935524, 0.051991961896419525, 0.05202126502990723, 0.05320551618933678, 0.05340322107076645, 0.051530495285987854, 0.051495783030986786, 0.052897993475198746, 0.05413443222641945, 0.05431336909532547, 0.05195542424917221, 0.05138196051120758, 0.05083988606929779, 0.0511358417570591, 0.05101742222905159, 0.050503890961408615, 0.054757289588451385, 0.05133034288883209, 0.051469314843416214, 0.0513157956302166, 0.05090924724936485, 0.051880836486816406, 0.051335304975509644, 0.05179334431886673, 0.051986150443553925, 0.053103961050510406]\n"
     ]
    },
    {
     "data": {
      "image/png": "[encoded data removed]",
      "text/plain": [
       "<Figure size 432x288 with 1 Axes>"
      ]
     },
     "metadata": {
      "needs_background": "light",
      "tags": []
     },
     "output_type": "display_data"
    },
    {
     "name": "stdout",
     "output_type": "stream",
     "text": [
      "mean squared error training:  [0.6603929996490479, 0.4039064347743988, 0.37284860014915466, 0.35071855783462524, 0.323784202337265, 0.3100409507751465, 0.2986464202404022, 0.28817224502563477, 0.27530646324157715, 0.2651974856853485, 0.25610679388046265, 0.24752309918403625, 0.24014177918434143, 0.23110023140907288, 0.22395560145378113, 0.21597127616405487, 0.20874132215976715, 0.2044592946767807, 0.19931256771087646, 0.19267098605632782, 0.19001168012619019, 0.1857985556125641, 0.18706631660461426, 0.18295979499816895, 0.18069934844970703, 0.17695671319961548, 0.17667104303836823, 0.17527513206005096, 0.17358353734016418, 0.17144854366779327, 0.16953310370445251, 0.16725526750087738, 0.165823832154274, 0.16577960550785065, 0.16511254012584686]\n",
      "mean squared error validation:  [0.1731628030538559, 0.15371857583522797, 0.13745327293872833, 0.142231747508049, 0.12742029130458832, 0.12504340708255768, 0.12367605417966843, 0.12214983999729156, 0.12691108882427216, 0.12034779787063599, 0.12132343649864197, 0.117831751704216, 0.11977133899927139, 0.1185770332813263, 0.11640126258134842, 0.11600733548402786, 0.11261437088251114, 0.11272655427455902, 0.1117706298828125, 0.11214102804660797, 0.11164086312055588, 0.1120237410068512, 0.11281918734312057, 0.11174057424068451, 0.11070284247398376, 0.11192326247692108, 0.11202635616064072, 0.11303464323282242, 0.11172234266996384, 0.11391939222812653, 0.11179197579622269, 0.11508487910032272, 0.11151756346225739, 0.11507879942655563, 0.11170036345720291]\n"
     ]
    },
    {
     "data": {
      "image/png": "[encoded data removed]",
      "text/plain": [
       "<Figure size 432x288 with 1 Axes>"
      ]
     },
     "metadata": {
      "needs_background": "light",
      "tags": []
     },
     "output_type": "display_data"
    },
    {
     "name": "stdout",
     "output_type": "stream",
     "text": [
      "mean squared error training:  [0.11493252962827682, 0.060665059834718704, 0.05152856931090355, 0.04478788748383522, 0.03916608914732933, 0.0339411236345768, 0.030022310093045235, 0.027018969878554344, 0.024427523836493492, 0.021743234246969223, 0.019904140383005142, 0.01888876222074032, 0.018365085124969482, 0.01674605719745159, 0.016093330457806587, 0.016102200374007225, 0.015778789296746254, 0.015149428509175777, 0.01519010215997696, 0.015317368321120739, 0.015193639323115349, 0.015135485678911209, 0.014813536778092384, 0.014912824146449566, 0.014684402383863926, 0.014794041402637959, 0.01476746704429388, 0.014715179800987244, 0.01488562859594822, 0.014840933494269848, 0.015015514567494392, 0.01436490099877119, 0.01483163982629776, 0.014959579333662987, 0.01463230513036251, 0.014733510091900826, 0.014682908542454243, 0.014673094265162945]\n",
      "mean squared error validation:  [0.021545952185988426, 0.016414470970630646, 0.011868001893162727, 0.010169820860028267, 0.009891115128993988, 0.008634865283966064, 0.008977054618299007, 0.007587121333926916, 0.00766045693308115, 0.006961545906960964, 0.006689480505883694, 0.006765988189727068, 0.006495393812656403, 0.005956415552645922, 0.005890228785574436, 0.005884161219000816, 0.005621699150651693, 0.005805425811558962, 0.005913678091019392, 0.005353230983018875, 0.005856566596776247, 0.005689343437552452, 0.0052285511046648026, 0.005352622829377651, 0.00613380828872323, 0.005214253906160593, 0.005219650454819202, 0.005020736251026392, 0.005331798456609249, 0.005487724673002958, 0.005086757708340883, 0.00504760816693306, 0.005406549200415611, 0.0053735277615487576, 0.0052386135794222355, 0.005369390361011028, 0.005112294107675552, 0.005684179719537497]\n"
     ]
    },
    {
     "data": {
      "image/png": "[encoded data removed]",
      "text/plain": [
       "<Figure size 432x288 with 1 Axes>"
      ]
     },
     "metadata": {
      "needs_background": "light",
      "tags": []
     },
     "output_type": "display_data"
    },
    {
     "name": "stdout",
     "output_type": "stream",
     "text": [
      "mean squared error training:  [0.12600035965442657, 0.07982511818408966, 0.06779561191797256, 0.06066862493753433, 0.054739225655794144, 0.04946347698569298, 0.045585040003061295, 0.04181869700551033, 0.038450948894023895, 0.036211177706718445, 0.03458679839968681, 0.03265320509672165, 0.03137028589844704, 0.02941596321761608, 0.02932528778910637, 0.028663378208875656, 0.028188925236463547, 0.027728678658604622, 0.02753157541155815, 0.026935869827866554, 0.026628045365214348, 0.026901520788669586, 0.02657577581703663, 0.02650667168200016, 0.026115156710147858, 0.02584018185734749, 0.026338722556829453, 0.02594274841248989, 0.026558732613921165, 0.02600189670920372, 0.026224607601761818, 0.025966119021177292, 0.026172257959842682, 0.02633892558515072, 0.02564369887113571, 0.025934359058737755, 0.025651920586824417, 0.02614639513194561, 0.02544109895825386, 0.025602763518691063, 0.025981640443205833, 0.026062170043587685, 0.025879284366965294, 0.02576698176562786, 0.02572661265730858, 0.02550666406750679, 0.025421343743801117, 0.025404680520296097, 0.02558533288538456, 0.02565576881170273, 0.025518493726849556, 0.02571125328540802, 0.02558639831840992, 0.025682201609015465, 0.02512059360742569, 0.02546762116253376, 0.025506578385829926, 0.02548195980489254, 0.02576434798538685, 0.025461968034505844, 0.025395087897777557, 0.02523893490433693, 0.02517549879848957, 0.02527974173426628, 0.025685343891382217, 0.025623656809329987, 0.02515243925154209, 0.024989336729049683]\n",
      "mean squared error validation:  [0.03648805618286133, 0.030924884602427483, 0.0262317918241024, 0.025278203189373016, 0.025922179222106934, 0.02457994595170021, 0.022590937092900276, 0.02184954099357128, 0.02095823734998703, 0.021413225680589676, 0.01961405575275421, 0.018522042781114578, 0.018317660316824913, 0.017692608758807182, 0.017608942463994026, 0.017680741846561432, 0.017231447622179985, 0.017050132155418396, 0.01678556017577648, 0.01680993102490902, 0.016511812806129456, 0.016765614971518517, 0.01634232886135578, 0.017288686707615852, 0.016373775899410248, 0.016745485365390778, 0.016126617789268494, 0.016270408406853676, 0.016581162810325623, 0.016158275306224823, 0.0163350198417902, 0.01606888324022293, 0.016050584614276886, 0.016262106597423553, 0.016650518402457237, 0.015973269939422607, 0.01595953293144703, 0.016050081700086594, 0.01601564511656761, 0.016819380223751068, 0.016216054558753967, 0.0160532146692276, 0.016171513125300407, 0.015912150964140892, 0.01603236235678196, 0.01596275344491005, 0.015881163999438286, 0.015871837735176086, 0.016094563528895378, 0.015846803784370422, 0.015922078862786293, 0.015978097915649414, 0.015759285539388657, 0.016009192913770676, 0.016173148527741432, 0.0157917607575655, 0.01589580439031124, 0.015695085749030113, 0.016016244888305664, 0.015973089262843132, 0.01575903780758381, 0.015727253630757332, 0.015828708186745644, 0.015911975875496864, 0.015821056440472603, 0.01581752672791481, 0.015776488929986954, 0.01577451080083847]\n"
     ]
    },
    {
     "data": {
      "image/png": "[encoded data removed]",
      "text/plain": [
       "<Figure size 432x288 with 1 Axes>"
      ]
     },
     "metadata": {
      "needs_background": "light",
      "tags": []
     },
     "output_type": "display_data"
    },
    {
     "name": "stdout",
     "output_type": "stream",
     "text": [
      "mean squared error training:  [0.15246450901031494, 0.10677577555179596, 0.09406323730945587, 0.08825526386499405, 0.08324872702360153, 0.07680317759513855, 0.0717778429389, 0.06799264997243881, 0.0652255117893219, 0.061786919832229614, 0.059275589883327484, 0.05820199474692345, 0.05674728751182556, 0.055151160806417465, 0.05422844737768173, 0.05307196080684662, 0.05315016210079193, 0.05231454223394394, 0.05174906551837921, 0.05082045495510101, 0.050652071833610535, 0.05021917074918747, 0.05005766823887825, 0.04991278052330017, 0.04950368404388428, 0.049333855509757996, 0.0492442324757576, 0.049254272133111954, 0.04939940571784973, 0.049083150923252106, 0.04914788156747818, 0.04901285097002983, 0.04894736409187317, 0.04833658039569855, 0.04853416606783867, 0.047919727861881256, 0.04803192988038063, 0.04816059395670891, 0.048057448118925095, 0.04768277332186699, 0.04746335744857788, 0.04756776615977287, 0.04736754298210144, 0.047575172036886215, 0.04723155125975609, 0.04683065414428711, 0.046838197857141495, 0.04739799350500107, 0.047287773340940475, 0.046642694622278214, 0.04701371118426323, 0.04722162336111069, 0.04658941552042961, 0.04667190462350845, 0.047180306166410446, 0.04640109837055206, 0.0462452732026577, 0.046950072050094604]\n",
      "mean squared error validation:  [0.06050634756684303, 0.054880112409591675, 0.049747880548238754, 0.04947216436266899, 0.04610162600874901, 0.04309403896331787, 0.03945045918226242, 0.0404856838285923, 0.03775091841816902, 0.03710165619850159, 0.03711336478590965, 0.03812162205576897, 0.03700290992856026, 0.035905446857213974, 0.03685507923364639, 0.0359572097659111, 0.03623570501804352, 0.03581222891807556, 0.03611340746283531, 0.03578418120741844, 0.03648744523525238, 0.035543423146009445, 0.035536400973796844, 0.036335092037916183, 0.03609135374426842, 0.035957951098680496, 0.03562600538134575, 0.035938650369644165, 0.034975212067365646, 0.03565957024693489, 0.0356878787279129, 0.03528594970703125, 0.034739818423986435, 0.035299669951200485, 0.03578880801796913, 0.036041904240846634, 0.03458169475197792, 0.0367077961564064, 0.03495514765381813, 0.03508780896663666, 0.034900397062301636, 0.034825246781110764, 0.03521740064024925, 0.03423973172903061, 0.03488502278923988, 0.034822650253772736, 0.03457232192158699, 0.034007005393505096, 0.03468530625104904, 0.034334808588027954, 0.034441422671079636, 0.03444723039865494, 0.034309178590774536, 0.034150250256061554, 0.034279823303222656, 0.03471539542078972, 0.03447914496064186, 0.03414905443787575]\n"
     ]
    }
   ],
   "source": [
    "# DISPLAY ALL HISTORY LOSS CURVES FOR EACH MODEL ABOVE (NOTE: REPEATE FOR EACH x4)\n",
    "\n",
    "for hist in all_models:\n",
    "  # PLOT LOSS VALUES\n",
    "  pyplot.plot(hist.history['loss'])\n",
    "  pyplot.plot(hist.history['val_loss'])\n",
    "  pyplot.title('model train vs validation loss')\n",
    "  pyplot.ylabel('loss')\n",
    "  pyplot.xlabel('epoch')\n",
    "  pyplot.legend(['train', 'validation'], loc='upper right')\n",
    "  pyplot.show()\n",
    "  print(\"mean squared error training: \", hist.history['loss'])\n",
    "  print(\"mean squared error validation: \", hist.history['val_loss'])"
   ]
  },
  {
   "cell_type": "code",
   "execution_count": null,
   "metadata": {
    "id": "x0MJ32uP6H5F"
   },
   "outputs": [],
   "source": []
  },
  {
   "cell_type": "markdown",
   "metadata": {
    "id": "V3bqRWas6I2c"
   },
   "source": [
    "## Multivariate Comparison"
   ]
  },
  {
   "cell_type": "code",
   "execution_count": null,
   "metadata": {
    "colab": {
     "base_uri": "https://localhost:8080/",
     "height": 1000
    },
    "executionInfo": {
     "elapsed": 4236853,
     "status": "ok",
     "timestamp": 1603959360344,
     "user": {
      "displayName": "Ammar Pervez",
      "photoUrl": "https://lh3.googleusercontent.com/a-/AOh14Gi8WNzfv_BTIPuGu9Hlf2ww8310r8CAWukW9jAvsPc=s64",
      "userId": "03225736955727170639"
     },
     "user_tz": -480
    },
    "id": "bDTLMZyoWSFe",
    "outputId": "a40d7103-f9cd-41f9-e044-22060cca4899"
   },
   "outputs": [
    {
     "name": "stdout",
     "output_type": "stream",
     "text": [
      "Epoch 1/100\n",
      "   2/1504 [..............................] - ETA: 2:18 - loss: 5.6531WARNING:tensorflow:Callbacks method `on_train_batch_end` is slow compared to the batch time (batch time: 0.0212s vs `on_train_batch_end` time: 0.1630s). Check your callbacks.\n",
      "1504/1504 [==============================] - ETA: 0s - loss: 0.6133\n",
      "Epoch 00001: val_loss improved from inf to 0.06506, saving model to RottHeight_2 Step_MultiwaveHeightWeights.h5\n",
      "1504/1504 [==============================] - 23s 15ms/step - loss: 0.6133 - val_loss: 0.0651\n",
      "Epoch 2/100\n",
      "1501/1504 [============================>.] - ETA: 0s - loss: 0.2898\n",
      "Epoch 00002: val_loss improved from 0.06506 to 0.04221, saving model to RottHeight_2 Step_MultiwaveHeightWeights.h5\n",
      "1504/1504 [==============================] - 22s 15ms/step - loss: 0.2896 - val_loss: 0.0422\n",
      "Epoch 3/100\n",
      "1502/1504 [============================>.] - ETA: 0s - loss: 0.2652\n",
      "Epoch 00003: val_loss improved from 0.04221 to 0.03546, saving model to RottHeight_2 Step_MultiwaveHeightWeights.h5\n",
      "1504/1504 [==============================] - 22s 15ms/step - loss: 0.2650 - val_loss: 0.0355\n",
      "Epoch 4/100\n",
      "1503/1504 [============================>.] - ETA: 0s - loss: 0.2418\n",
      "Epoch 00004: val_loss did not improve from 0.03546\n",
      "1504/1504 [==============================] - 22s 14ms/step - loss: 0.2417 - val_loss: 0.0378\n",
      "Epoch 5/100\n",
      "1502/1504 [============================>.] - ETA: 0s - loss: 0.2241\n",
      "Epoch 00005: val_loss did not improve from 0.03546\n",
      "1504/1504 [==============================] - 21s 14ms/step - loss: 0.2241 - val_loss: 0.0516\n",
      "Epoch 6/100\n",
      "1503/1504 [============================>.] - ETA: 0s - loss: 0.2037\n",
      "Epoch 00006: val_loss improved from 0.03546 to 0.02802, saving model to RottHeight_2 Step_MultiwaveHeightWeights.h5\n",
      "1504/1504 [==============================] - 21s 14ms/step - loss: 0.2037 - val_loss: 0.0280\n",
      "Epoch 7/100\n",
      "1502/1504 [============================>.] - ETA: 0s - loss: 0.1884\n",
      "Epoch 00007: val_loss did not improve from 0.02802\n",
      "1504/1504 [==============================] - 22s 15ms/step - loss: 0.1885 - val_loss: 0.0461\n",
      "Epoch 8/100\n",
      "1504/1504 [==============================] - ETA: 0s - loss: 0.1777\n",
      "Epoch 00008: val_loss improved from 0.02802 to 0.02552, saving model to RottHeight_2 Step_MultiwaveHeightWeights.h5\n",
      "1504/1504 [==============================] - 22s 14ms/step - loss: 0.1777 - val_loss: 0.0255\n",
      "Epoch 9/100\n",
      "1503/1504 [============================>.] - ETA: 0s - loss: 0.1669\n",
      "Epoch 00009: val_loss improved from 0.02552 to 0.02428, saving model to RottHeight_2 Step_MultiwaveHeightWeights.h5\n",
      "1504/1504 [==============================] - 21s 14ms/step - loss: 0.1669 - val_loss: 0.0243\n",
      "Epoch 10/100\n",
      "1501/1504 [============================>.] - ETA: 0s - loss: 0.1533\n",
      "Epoch 00010: val_loss improved from 0.02428 to 0.02327, saving model to RottHeight_2 Step_MultiwaveHeightWeights.h5\n",
      "1504/1504 [==============================] - 21s 14ms/step - loss: 0.1533 - val_loss: 0.0233\n",
      "Epoch 11/100\n",
      "1500/1504 [============================>.] - ETA: 0s - loss: 0.1432\n",
      "Epoch 00011: val_loss did not improve from 0.02327\n",
      "1504/1504 [==============================] - 22s 14ms/step - loss: 0.1431 - val_loss: 0.0270\n",
      "Epoch 12/100\n",
      "1503/1504 [============================>.] - ETA: 0s - loss: 0.1346\n",
      "Epoch 00012: val_loss did not improve from 0.02327\n",
      "1504/1504 [==============================] - 21s 14ms/step - loss: 0.1345 - val_loss: 0.0250\n",
      "Epoch 13/100\n",
      "1502/1504 [============================>.] - ETA: 0s - loss: 0.1242\n",
      "Epoch 00013: val_loss did not improve from 0.02327\n",
      "1504/1504 [==============================] - 21s 14ms/step - loss: 0.1242 - val_loss: 0.0267\n",
      "Epoch 14/100\n",
      "1504/1504 [==============================] - ETA: 0s - loss: 0.1152\n",
      "Epoch 00014: val_loss did not improve from 0.02327\n",
      "1504/1504 [==============================] - 21s 14ms/step - loss: 0.1152 - val_loss: 0.0289\n",
      "Epoch 15/100\n",
      "1500/1504 [============================>.] - ETA: 0s - loss: 0.1119\n",
      "Epoch 00015: val_loss did not improve from 0.02327\n",
      "1504/1504 [==============================] - 21s 14ms/step - loss: 0.1119 - val_loss: 0.0244\n",
      "Epoch 00015: early stopping\n",
      "Epoch 1/100\n",
      "   2/1504 [..............................] - ETA: 2:02 - loss: 5.1412WARNING:tensorflow:Callbacks method `on_train_batch_end` is slow compared to the batch time (batch time: 0.0202s vs `on_train_batch_end` time: 0.1425s). Check your callbacks.\n",
      "1504/1504 [==============================] - ETA: 0s - loss: 0.6650\n",
      "Epoch 00001: val_loss improved from inf to 0.09891, saving model to RottHeight_6 Step_MultiwaveHeightWeights.h5\n",
      "1504/1504 [==============================] - 22s 14ms/step - loss: 0.6650 - val_loss: 0.0989\n",
      "Epoch 2/100\n",
      "1500/1504 [============================>.] - ETA: 0s - loss: 0.3359\n",
      "Epoch 00002: val_loss improved from 0.09891 to 0.07630, saving model to RottHeight_6 Step_MultiwaveHeightWeights.h5\n",
      "1504/1504 [==============================] - 21s 14ms/step - loss: 0.3360 - val_loss: 0.0763\n",
      "Epoch 3/100\n",
      "1503/1504 [============================>.] - ETA: 0s - loss: 0.3008\n",
      "Epoch 00003: val_loss improved from 0.07630 to 0.07075, saving model to RottHeight_6 Step_MultiwaveHeightWeights.h5\n",
      "1504/1504 [==============================] - 21s 14ms/step - loss: 0.3008 - val_loss: 0.0708\n",
      "Epoch 4/100\n",
      "1502/1504 [============================>.] - ETA: 0s - loss: 0.2752\n",
      "Epoch 00004: val_loss did not improve from 0.07075\n",
      "1504/1504 [==============================] - 21s 14ms/step - loss: 0.2751 - val_loss: 0.0784\n",
      "Epoch 5/100\n",
      "1502/1504 [============================>.] - ETA: 0s - loss: 0.2522\n",
      "Epoch 00005: val_loss improved from 0.07075 to 0.06565, saving model to RottHeight_6 Step_MultiwaveHeightWeights.h5\n",
      "1504/1504 [==============================] - 21s 14ms/step - loss: 0.2521 - val_loss: 0.0656\n",
      "Epoch 6/100\n",
      "1504/1504 [==============================] - ETA: 0s - loss: 0.2343\n",
      "Epoch 00006: val_loss improved from 0.06565 to 0.06559, saving model to RottHeight_6 Step_MultiwaveHeightWeights.h5\n",
      "1504/1504 [==============================] - 21s 14ms/step - loss: 0.2343 - val_loss: 0.0656\n",
      "Epoch 7/100\n",
      "1503/1504 [============================>.] - ETA: 0s - loss: 0.2196\n",
      "Epoch 00007: val_loss improved from 0.06559 to 0.05863, saving model to RottHeight_6 Step_MultiwaveHeightWeights.h5\n",
      "1504/1504 [==============================] - 21s 14ms/step - loss: 0.2195 - val_loss: 0.0586\n",
      "Epoch 8/100\n",
      "1501/1504 [============================>.] - ETA: 0s - loss: 0.2106\n",
      "Epoch 00008: val_loss did not improve from 0.05863\n",
      "1504/1504 [==============================] - 21s 14ms/step - loss: 0.2107 - val_loss: 0.0706\n",
      "Epoch 9/100\n",
      "1504/1504 [==============================] - ETA: 0s - loss: 0.1940\n",
      "Epoch 00009: val_loss improved from 0.05863 to 0.05639, saving model to RottHeight_6 Step_MultiwaveHeightWeights.h5\n",
      "1504/1504 [==============================] - 21s 14ms/step - loss: 0.1940 - val_loss: 0.0564\n",
      "Epoch 10/100\n",
      "1501/1504 [============================>.] - ETA: 0s - loss: 0.1871\n",
      "Epoch 00010: val_loss did not improve from 0.05639\n",
      "1504/1504 [==============================] - 21s 14ms/step - loss: 0.1872 - val_loss: 0.0613\n",
      "Epoch 11/100\n",
      "1501/1504 [============================>.] - ETA: 0s - loss: 0.1772\n",
      "Epoch 00011: val_loss improved from 0.05639 to 0.05433, saving model to RottHeight_6 Step_MultiwaveHeightWeights.h5\n",
      "1504/1504 [==============================] - 21s 14ms/step - loss: 0.1772 - val_loss: 0.0543\n",
      "Epoch 12/100\n",
      "1500/1504 [============================>.] - ETA: 0s - loss: 0.1625\n",
      "Epoch 00012: val_loss did not improve from 0.05433\n",
      "1504/1504 [==============================] - 21s 14ms/step - loss: 0.1623 - val_loss: 0.0563\n",
      "Epoch 13/100\n",
      "1503/1504 [============================>.] - ETA: 0s - loss: 0.1575\n",
      "Epoch 00013: val_loss did not improve from 0.05433\n",
      "1504/1504 [==============================] - 21s 14ms/step - loss: 0.1575 - val_loss: 0.0588\n",
      "Epoch 14/100\n",
      "1501/1504 [============================>.] - ETA: 0s - loss: 0.1504\n",
      "Epoch 00014: val_loss did not improve from 0.05433\n",
      "1504/1504 [==============================] - 21s 14ms/step - loss: 0.1505 - val_loss: 0.0550\n",
      "Epoch 15/100\n",
      "1501/1504 [============================>.] - ETA: 0s - loss: 0.1380\n",
      "Epoch 00015: val_loss improved from 0.05433 to 0.05364, saving model to RottHeight_6 Step_MultiwaveHeightWeights.h5\n",
      "1504/1504 [==============================] - 21s 14ms/step - loss: 0.1381 - val_loss: 0.0536\n",
      "Epoch 16/100\n",
      "1500/1504 [============================>.] - ETA: 0s - loss: 0.1344\n",
      "Epoch 00016: val_loss did not improve from 0.05364\n",
      "1504/1504 [==============================] - 22s 14ms/step - loss: 0.1346 - val_loss: 0.0563\n",
      "Epoch 17/100\n",
      "1503/1504 [============================>.] - ETA: 0s - loss: 0.1326\n",
      "Epoch 00017: val_loss improved from 0.05364 to 0.05359, saving model to RottHeight_6 Step_MultiwaveHeightWeights.h5\n",
      "1504/1504 [==============================] - 22s 15ms/step - loss: 0.1326 - val_loss: 0.0536\n",
      "Epoch 18/100\n",
      "1501/1504 [============================>.] - ETA: 0s - loss: 0.1237\n",
      "Epoch 00018: val_loss improved from 0.05359 to 0.05266, saving model to RottHeight_6 Step_MultiwaveHeightWeights.h5\n",
      "1504/1504 [==============================] - 22s 15ms/step - loss: 0.1238 - val_loss: 0.0527\n",
      "Epoch 19/100\n",
      "1504/1504 [==============================] - ETA: 0s - loss: 0.1177\n",
      "Epoch 00019: val_loss improved from 0.05266 to 0.05214, saving model to RottHeight_6 Step_MultiwaveHeightWeights.h5\n",
      "1504/1504 [==============================] - 23s 15ms/step - loss: 0.1177 - val_loss: 0.0521\n",
      "Epoch 20/100\n",
      "1502/1504 [============================>.] - ETA: 0s - loss: 0.1159\n",
      "Epoch 00020: val_loss did not improve from 0.05214\n",
      "1504/1504 [==============================] - 23s 15ms/step - loss: 0.1159 - val_loss: 0.0523\n",
      "Epoch 21/100\n",
      "1502/1504 [============================>.] - ETA: 0s - loss: 0.1128\n",
      "Epoch 00021: val_loss did not improve from 0.05214\n",
      "1504/1504 [==============================] - 22s 15ms/step - loss: 0.1128 - val_loss: 0.0530\n",
      "Epoch 22/100\n",
      "1503/1504 [============================>.] - ETA: 0s - loss: 0.1090\n",
      "Epoch 00022: val_loss improved from 0.05214 to 0.05167, saving model to RottHeight_6 Step_MultiwaveHeightWeights.h5\n",
      "1504/1504 [==============================] - 22s 15ms/step - loss: 0.1090 - val_loss: 0.0517\n",
      "Epoch 23/100\n",
      "1503/1504 [============================>.] - ETA: 0s - loss: 0.1068\n",
      "Epoch 00023: val_loss improved from 0.05167 to 0.05083, saving model to RottHeight_6 Step_MultiwaveHeightWeights.h5\n",
      "1504/1504 [==============================] - 22s 15ms/step - loss: 0.1068 - val_loss: 0.0508\n",
      "Epoch 24/100\n",
      "1502/1504 [============================>.] - ETA: 0s - loss: 0.1031\n",
      "Epoch 00024: val_loss improved from 0.05083 to 0.05043, saving model to RottHeight_6 Step_MultiwaveHeightWeights.h5\n",
      "1504/1504 [==============================] - 22s 15ms/step - loss: 0.1030 - val_loss: 0.0504\n",
      "Epoch 25/100\n",
      "1503/1504 [============================>.] - ETA: 0s - loss: 0.1015\n",
      "Epoch 00025: val_loss did not improve from 0.05043\n",
      "1504/1504 [==============================] - 21s 14ms/step - loss: 0.1015 - val_loss: 0.0518\n",
      "Epoch 26/100\n",
      "1503/1504 [============================>.] - ETA: 0s - loss: 0.1012\n",
      "Epoch 00026: val_loss did not improve from 0.05043\n",
      "1504/1504 [==============================] - 21s 14ms/step - loss: 0.1012 - val_loss: 0.0545\n",
      "Epoch 27/100\n",
      "1504/1504 [==============================] - ETA: 0s - loss: 0.0965\n",
      "Epoch 00027: val_loss did not improve from 0.05043\n",
      "1504/1504 [==============================] - 21s 14ms/step - loss: 0.0965 - val_loss: 0.0505\n",
      "Epoch 28/100\n",
      "1501/1504 [============================>.] - ETA: 0s - loss: 0.0969\n",
      "Epoch 00028: val_loss did not improve from 0.05043\n",
      "1504/1504 [==============================] - 21s 14ms/step - loss: 0.0969 - val_loss: 0.0529\n",
      "Epoch 29/100\n",
      "1504/1504 [==============================] - ETA: 0s - loss: 0.0951\n",
      "Epoch 00029: val_loss did not improve from 0.05043\n",
      "1504/1504 [==============================] - 21s 14ms/step - loss: 0.0951 - val_loss: 0.0516\n",
      "Epoch 00029: early stopping\n",
      "Epoch 1/100\n",
      "   2/1504 [..............................] - ETA: 2:16 - loss: 6.1213WARNING:tensorflow:Callbacks method `on_train_batch_end` is slow compared to the batch time (batch time: 0.0205s vs `on_train_batch_end` time: 0.1616s). Check your callbacks.\n",
      "1501/1504 [============================>.] - ETA: 0s - loss: 0.8201\n",
      "Epoch 00001: val_loss improved from inf to 0.16975, saving model to RottHeight_12 Step_MultiwaveHeightWeights.h5\n",
      "1504/1504 [==============================] - 22s 15ms/step - loss: 0.8201 - val_loss: 0.1697\n",
      "Epoch 2/100\n",
      "1502/1504 [============================>.] - ETA: 0s - loss: 0.4217\n",
      "Epoch 00002: val_loss improved from 0.16975 to 0.15575, saving model to RottHeight_12 Step_MultiwaveHeightWeights.h5\n",
      "1504/1504 [==============================] - 22s 14ms/step - loss: 0.4216 - val_loss: 0.1558\n",
      "Epoch 3/100\n",
      "1503/1504 [============================>.] - ETA: 0s - loss: 0.3782\n",
      "Epoch 00003: val_loss improved from 0.15575 to 0.14114, saving model to RottHeight_12 Step_MultiwaveHeightWeights.h5\n",
      "1504/1504 [==============================] - 22s 14ms/step - loss: 0.3781 - val_loss: 0.1411\n",
      "Epoch 4/100\n",
      "1503/1504 [============================>.] - ETA: 0s - loss: 0.3463\n",
      "Epoch 00004: val_loss improved from 0.14114 to 0.13275, saving model to RottHeight_12 Step_MultiwaveHeightWeights.h5\n",
      "1504/1504 [==============================] - 22s 14ms/step - loss: 0.3463 - val_loss: 0.1328\n",
      "Epoch 5/100\n",
      "1503/1504 [============================>.] - ETA: 0s - loss: 0.3263\n",
      "Epoch 00005: val_loss improved from 0.13275 to 0.13118, saving model to RottHeight_12 Step_MultiwaveHeightWeights.h5\n",
      "1504/1504 [==============================] - 22s 14ms/step - loss: 0.3263 - val_loss: 0.1312\n",
      "Epoch 6/100\n",
      "1503/1504 [============================>.] - ETA: 0s - loss: 0.3110\n",
      "Epoch 00006: val_loss improved from 0.13118 to 0.12987, saving model to RottHeight_12 Step_MultiwaveHeightWeights.h5\n",
      "1504/1504 [==============================] - 22s 14ms/step - loss: 0.3110 - val_loss: 0.1299\n",
      "Epoch 7/100\n",
      "1501/1504 [============================>.] - ETA: 0s - loss: 0.2962\n",
      "Epoch 00007: val_loss improved from 0.12987 to 0.12117, saving model to RottHeight_12 Step_MultiwaveHeightWeights.h5\n",
      "1504/1504 [==============================] - 22s 14ms/step - loss: 0.2961 - val_loss: 0.1212\n",
      "Epoch 8/100\n",
      "1500/1504 [============================>.] - ETA: 0s - loss: 0.2823\n",
      "Epoch 00008: val_loss did not improve from 0.12117\n",
      "1504/1504 [==============================] - 22s 14ms/step - loss: 0.2822 - val_loss: 0.1212\n",
      "Epoch 9/100\n",
      "1503/1504 [============================>.] - ETA: 0s - loss: 0.2657\n",
      "Epoch 00009: val_loss improved from 0.12117 to 0.11909, saving model to RottHeight_12 Step_MultiwaveHeightWeights.h5\n",
      "1504/1504 [==============================] - 22s 15ms/step - loss: 0.2657 - val_loss: 0.1191\n",
      "Epoch 10/100\n",
      "1504/1504 [==============================] - ETA: 0s - loss: 0.2535\n",
      "Epoch 00010: val_loss improved from 0.11909 to 0.11600, saving model to RottHeight_12 Step_MultiwaveHeightWeights.h5\n",
      "1504/1504 [==============================] - 22s 14ms/step - loss: 0.2535 - val_loss: 0.1160\n",
      "Epoch 11/100\n",
      "1501/1504 [============================>.] - ETA: 0s - loss: 0.2433\n",
      "Epoch 00011: val_loss improved from 0.11600 to 0.11546, saving model to RottHeight_12 Step_MultiwaveHeightWeights.h5\n",
      "1504/1504 [==============================] - 22s 15ms/step - loss: 0.2432 - val_loss: 0.1155\n",
      "Epoch 12/100\n",
      "1504/1504 [==============================] - ETA: 0s - loss: 0.2361\n",
      "Epoch 00012: val_loss improved from 0.11546 to 0.11386, saving model to RottHeight_12 Step_MultiwaveHeightWeights.h5\n",
      "1504/1504 [==============================] - 22s 15ms/step - loss: 0.2361 - val_loss: 0.1139\n",
      "Epoch 13/100\n",
      "1504/1504 [==============================] - ETA: 0s - loss: 0.2263\n",
      "Epoch 00013: val_loss did not improve from 0.11386\n",
      "1504/1504 [==============================] - 22s 14ms/step - loss: 0.2263 - val_loss: 0.1178\n",
      "Epoch 14/100\n",
      "1504/1504 [==============================] - ETA: 0s - loss: 0.2172\n",
      "Epoch 00014: val_loss did not improve from 0.11386\n",
      "1504/1504 [==============================] - 22s 14ms/step - loss: 0.2172 - val_loss: 0.1155\n",
      "Epoch 15/100\n",
      "1502/1504 [============================>.] - ETA: 0s - loss: 0.2109\n",
      "Epoch 00015: val_loss did not improve from 0.11386\n",
      "1504/1504 [==============================] - 22s 15ms/step - loss: 0.2108 - val_loss: 0.1157\n",
      "Epoch 16/100\n",
      "1502/1504 [============================>.] - ETA: 0s - loss: 0.2029\n",
      "Epoch 00016: val_loss improved from 0.11386 to 0.11115, saving model to RottHeight_12 Step_MultiwaveHeightWeights.h5\n",
      "1504/1504 [==============================] - 22s 14ms/step - loss: 0.2028 - val_loss: 0.1111\n",
      "Epoch 17/100\n",
      "1501/1504 [============================>.] - ETA: 0s - loss: 0.1950\n",
      "Epoch 00017: val_loss did not improve from 0.11115\n",
      "1504/1504 [==============================] - 22s 14ms/step - loss: 0.1952 - val_loss: 0.1156\n",
      "Epoch 18/100\n",
      "1503/1504 [============================>.] - ETA: 0s - loss: 0.1886\n",
      "Epoch 00018: val_loss did not improve from 0.11115\n",
      "1504/1504 [==============================] - 22s 14ms/step - loss: 0.1886 - val_loss: 0.1140\n",
      "Epoch 19/100\n",
      "1502/1504 [============================>.] - ETA: 0s - loss: 0.1873\n",
      "Epoch 00019: val_loss did not improve from 0.11115\n",
      "1504/1504 [==============================] - 22s 14ms/step - loss: 0.1874 - val_loss: 0.1157\n",
      "Epoch 20/100\n",
      "1504/1504 [==============================] - ETA: 0s - loss: 0.1834\n",
      "Epoch 00020: val_loss did not improve from 0.11115\n",
      "1504/1504 [==============================] - 22s 14ms/step - loss: 0.1834 - val_loss: 0.1140\n",
      "Epoch 21/100\n",
      "1504/1504 [==============================] - ETA: 0s - loss: 0.1752\n",
      "Epoch 00021: val_loss did not improve from 0.11115\n",
      "1504/1504 [==============================] - 22s 14ms/step - loss: 0.1752 - val_loss: 0.1120\n",
      "Epoch 00021: early stopping\n",
      "Epoch 1/100\n",
      "   2/1504 [..............................] - ETA: 2:21 - loss: 1.4749WARNING:tensorflow:Callbacks method `on_train_batch_end` is slow compared to the batch time (batch time: 0.0229s vs `on_train_batch_end` time: 0.1646s). Check your callbacks.\n",
      "1503/1504 [============================>.] - ETA: 0s - loss: 0.1370\n",
      "Epoch 00001: val_loss improved from inf to 0.02174, saving model to CottHeight_2 Step_MultiwaveHeightWeights.h5\n",
      "1504/1504 [==============================] - 23s 15ms/step - loss: 0.1370 - val_loss: 0.0217\n",
      "Epoch 2/100\n",
      "1501/1504 [============================>.] - ETA: 0s - loss: 0.0640\n",
      "Epoch 00002: val_loss improved from 0.02174 to 0.01429, saving model to CottHeight_2 Step_MultiwaveHeightWeights.h5\n",
      "1504/1504 [==============================] - 21s 14ms/step - loss: 0.0639 - val_loss: 0.0143\n",
      "Epoch 3/100\n",
      "1503/1504 [============================>.] - ETA: 0s - loss: 0.0523\n",
      "Epoch 00003: val_loss improved from 0.01429 to 0.01089, saving model to CottHeight_2 Step_MultiwaveHeightWeights.h5\n",
      "1504/1504 [==============================] - 21s 14ms/step - loss: 0.0522 - val_loss: 0.0109\n",
      "Epoch 4/100\n",
      "1503/1504 [============================>.] - ETA: 0s - loss: 0.0451\n",
      "Epoch 00004: val_loss improved from 0.01089 to 0.01003, saving model to CottHeight_2 Step_MultiwaveHeightWeights.h5\n",
      "1504/1504 [==============================] - 21s 14ms/step - loss: 0.0451 - val_loss: 0.0100\n",
      "Epoch 5/100\n",
      "1504/1504 [==============================] - ETA: 0s - loss: 0.0392\n",
      "Epoch 00005: val_loss did not improve from 0.01003\n",
      "1504/1504 [==============================] - 21s 14ms/step - loss: 0.0392 - val_loss: 0.0106\n",
      "Epoch 6/100\n",
      "1504/1504 [==============================] - ETA: 0s - loss: 0.0335\n",
      "Epoch 00006: val_loss improved from 0.01003 to 0.00754, saving model to CottHeight_2 Step_MultiwaveHeightWeights.h5\n",
      "1504/1504 [==============================] - 21s 14ms/step - loss: 0.0335 - val_loss: 0.0075\n",
      "Epoch 7/100\n",
      "1501/1504 [============================>.] - ETA: 0s - loss: 0.0296\n",
      "Epoch 00007: val_loss improved from 0.00754 to 0.00729, saving model to CottHeight_2 Step_MultiwaveHeightWeights.h5\n",
      "1504/1504 [==============================] - 21s 14ms/step - loss: 0.0296 - val_loss: 0.0073\n",
      "Epoch 8/100\n",
      "1501/1504 [============================>.] - ETA: 0s - loss: 0.0259\n",
      "Epoch 00008: val_loss did not improve from 0.00729\n",
      "1504/1504 [==============================] - 22s 14ms/step - loss: 0.0259 - val_loss: 0.0100\n",
      "Epoch 9/100\n",
      "1503/1504 [============================>.] - ETA: 0s - loss: 0.0237\n",
      "Epoch 00009: val_loss did not improve from 0.00729\n",
      "1504/1504 [==============================] - 22s 14ms/step - loss: 0.0237 - val_loss: 0.0090\n",
      "Epoch 10/100\n",
      "1504/1504 [==============================] - ETA: 0s - loss: 0.0219\n",
      "Epoch 00010: val_loss did not improve from 0.00729\n",
      "1504/1504 [==============================] - 21s 14ms/step - loss: 0.0219 - val_loss: 0.0081\n",
      "Epoch 11/100\n",
      "1502/1504 [============================>.] - ETA: 0s - loss: 0.0191\n",
      "Epoch 00011: val_loss improved from 0.00729 to 0.00644, saving model to CottHeight_2 Step_MultiwaveHeightWeights.h5\n",
      "1504/1504 [==============================] - 21s 14ms/step - loss: 0.0191 - val_loss: 0.0064\n",
      "Epoch 12/100\n",
      "1501/1504 [============================>.] - ETA: 0s - loss: 0.0184\n",
      "Epoch 00012: val_loss improved from 0.00644 to 0.00619, saving model to CottHeight_2 Step_MultiwaveHeightWeights.h5\n",
      "1504/1504 [==============================] - 21s 14ms/step - loss: 0.0184 - val_loss: 0.0062\n",
      "Epoch 13/100\n",
      "1503/1504 [============================>.] - ETA: 0s - loss: 0.0172\n",
      "Epoch 00013: val_loss did not improve from 0.00619\n",
      "1504/1504 [==============================] - 21s 14ms/step - loss: 0.0172 - val_loss: 0.0070\n",
      "Epoch 14/100\n",
      "1502/1504 [============================>.] - ETA: 0s - loss: 0.0170\n",
      "Epoch 00014: val_loss improved from 0.00619 to 0.00598, saving model to CottHeight_2 Step_MultiwaveHeightWeights.h5\n",
      "1504/1504 [==============================] - 21s 14ms/step - loss: 0.0170 - val_loss: 0.0060\n",
      "Epoch 15/100\n",
      "1504/1504 [==============================] - ETA: 0s - loss: 0.0157\n",
      "Epoch 00015: val_loss improved from 0.00598 to 0.00540, saving model to CottHeight_2 Step_MultiwaveHeightWeights.h5\n",
      "1504/1504 [==============================] - 22s 14ms/step - loss: 0.0157 - val_loss: 0.0054\n",
      "Epoch 16/100\n",
      "1504/1504 [==============================] - ETA: 0s - loss: 0.0161\n",
      "Epoch 00016: val_loss did not improve from 0.00540\n",
      "1504/1504 [==============================] - 22s 15ms/step - loss: 0.0161 - val_loss: 0.0054\n",
      "Epoch 17/100\n",
      "1501/1504 [============================>.] - ETA: 0s - loss: 0.0152\n",
      "Epoch 00017: val_loss improved from 0.00540 to 0.00527, saving model to CottHeight_2 Step_MultiwaveHeightWeights.h5\n",
      "1504/1504 [==============================] - 21s 14ms/step - loss: 0.0152 - val_loss: 0.0053\n",
      "Epoch 18/100\n",
      "1501/1504 [============================>.] - ETA: 0s - loss: 0.0150\n",
      "Epoch 00018: val_loss did not improve from 0.00527\n",
      "1504/1504 [==============================] - 21s 14ms/step - loss: 0.0150 - val_loss: 0.0055\n",
      "Epoch 19/100\n",
      "1504/1504 [==============================] - ETA: 0s - loss: 0.0152\n",
      "Epoch 00019: val_loss did not improve from 0.00527\n",
      "1504/1504 [==============================] - 21s 14ms/step - loss: 0.0152 - val_loss: 0.0054\n",
      "Epoch 20/100\n",
      "1504/1504 [==============================] - ETA: 0s - loss: 0.0152\n",
      "Epoch 00020: val_loss did not improve from 0.00527\n",
      "1504/1504 [==============================] - 22s 14ms/step - loss: 0.0152 - val_loss: 0.0054\n",
      "Epoch 21/100\n",
      "1502/1504 [============================>.] - ETA: 0s - loss: 0.0147\n",
      "Epoch 00021: val_loss improved from 0.00527 to 0.00526, saving model to CottHeight_2 Step_MultiwaveHeightWeights.h5\n",
      "1504/1504 [==============================] - 21s 14ms/step - loss: 0.0147 - val_loss: 0.0053\n",
      "Epoch 22/100\n",
      "1502/1504 [============================>.] - ETA: 0s - loss: 0.0147\n",
      "Epoch 00022: val_loss did not improve from 0.00526\n",
      "1504/1504 [==============================] - 21s 14ms/step - loss: 0.0147 - val_loss: 0.0056\n",
      "Epoch 23/100\n",
      "1501/1504 [============================>.] - ETA: 0s - loss: 0.0147\n",
      "Epoch 00023: val_loss improved from 0.00526 to 0.00512, saving model to CottHeight_2 Step_MultiwaveHeightWeights.h5\n",
      "1504/1504 [==============================] - 21s 14ms/step - loss: 0.0147 - val_loss: 0.0051\n",
      "Epoch 24/100\n",
      "1502/1504 [============================>.] - ETA: 0s - loss: 0.0145\n",
      "Epoch 00024: val_loss improved from 0.00512 to 0.00511, saving model to CottHeight_2 Step_MultiwaveHeightWeights.h5\n",
      "1504/1504 [==============================] - 22s 14ms/step - loss: 0.0145 - val_loss: 0.0051\n",
      "Epoch 25/100\n",
      "1500/1504 [============================>.] - ETA: 0s - loss: 0.0147\n",
      "Epoch 00025: val_loss improved from 0.00511 to 0.00502, saving model to CottHeight_2 Step_MultiwaveHeightWeights.h5\n",
      "1504/1504 [==============================] - 22s 14ms/step - loss: 0.0147 - val_loss: 0.0050\n",
      "Epoch 26/100\n",
      "1502/1504 [============================>.] - ETA: 0s - loss: 0.0147\n",
      "Epoch 00026: val_loss improved from 0.00502 to 0.00495, saving model to CottHeight_2 Step_MultiwaveHeightWeights.h5\n",
      "1504/1504 [==============================] - 21s 14ms/step - loss: 0.0147 - val_loss: 0.0050\n",
      "Epoch 27/100\n",
      "1504/1504 [==============================] - ETA: 0s - loss: 0.0145\n",
      "Epoch 00027: val_loss did not improve from 0.00495\n",
      "1504/1504 [==============================] - 22s 14ms/step - loss: 0.0145 - val_loss: 0.0054\n",
      "Epoch 28/100\n",
      "1502/1504 [============================>.] - ETA: 0s - loss: 0.0147\n",
      "Epoch 00028: val_loss did not improve from 0.00495\n",
      "1504/1504 [==============================] - 22s 15ms/step - loss: 0.0147 - val_loss: 0.0052\n",
      "Epoch 29/100\n",
      "1501/1504 [============================>.] - ETA: 0s - loss: 0.0141\n",
      "Epoch 00029: val_loss did not improve from 0.00495\n",
      "1504/1504 [==============================] - 22s 15ms/step - loss: 0.0141 - val_loss: 0.0051\n",
      "Epoch 30/100\n",
      "1503/1504 [============================>.] - ETA: 0s - loss: 0.0144\n",
      "Epoch 00030: val_loss did not improve from 0.00495\n",
      "1504/1504 [==============================] - 23s 15ms/step - loss: 0.0144 - val_loss: 0.0050\n",
      "Epoch 31/100\n",
      "1504/1504 [==============================] - ETA: 0s - loss: 0.0146\n",
      "Epoch 00031: val_loss improved from 0.00495 to 0.00478, saving model to CottHeight_2 Step_MultiwaveHeightWeights.h5\n",
      "1504/1504 [==============================] - 23s 15ms/step - loss: 0.0146 - val_loss: 0.0048\n",
      "Epoch 32/100\n",
      "1501/1504 [============================>.] - ETA: 0s - loss: 0.0143\n",
      "Epoch 00032: val_loss did not improve from 0.00478\n",
      "1504/1504 [==============================] - 23s 15ms/step - loss: 0.0143 - val_loss: 0.0050\n",
      "Epoch 33/100\n",
      "1502/1504 [============================>.] - ETA: 0s - loss: 0.0149\n",
      "Epoch 00033: val_loss did not improve from 0.00478\n",
      "1504/1504 [==============================] - 23s 15ms/step - loss: 0.0149 - val_loss: 0.0054\n",
      "Epoch 34/100\n",
      "1501/1504 [============================>.] - ETA: 0s - loss: 0.0144\n",
      "Epoch 00034: val_loss did not improve from 0.00478\n",
      "1504/1504 [==============================] - 23s 16ms/step - loss: 0.0143 - val_loss: 0.0049\n",
      "Epoch 35/100\n",
      "1503/1504 [============================>.] - ETA: 0s - loss: 0.0143\n",
      "Epoch 00035: val_loss did not improve from 0.00478\n",
      "1504/1504 [==============================] - 24s 16ms/step - loss: 0.0143 - val_loss: 0.0048\n",
      "Epoch 36/100\n",
      "1502/1504 [============================>.] - ETA: 0s - loss: 0.0142\n",
      "Epoch 00036: val_loss did not improve from 0.00478\n",
      "1504/1504 [==============================] - 23s 15ms/step - loss: 0.0142 - val_loss: 0.0049\n",
      "Epoch 00036: early stopping\n",
      "Epoch 1/100\n",
      "   2/1504 [..............................] - ETA: 2:21 - loss: 1.4022WARNING:tensorflow:Callbacks method `on_train_batch_end` is slow compared to the batch time (batch time: 0.0234s vs `on_train_batch_end` time: 0.1644s). Check your callbacks.\n",
      "1503/1504 [============================>.] - ETA: 0s - loss: 0.1553\n",
      "Epoch 00001: val_loss improved from inf to 0.04039, saving model to CottHeight_6 Step_MultiwaveHeightWeights.h5\n",
      "1504/1504 [==============================] - 24s 16ms/step - loss: 0.1553 - val_loss: 0.0404\n",
      "Epoch 2/100\n",
      "1504/1504 [==============================] - ETA: 0s - loss: 0.0814\n",
      "Epoch 00002: val_loss improved from 0.04039 to 0.03228, saving model to CottHeight_6 Step_MultiwaveHeightWeights.h5\n",
      "1504/1504 [==============================] - 23s 15ms/step - loss: 0.0814 - val_loss: 0.0323\n",
      "Epoch 3/100\n",
      "1503/1504 [============================>.] - ETA: 0s - loss: 0.0717\n",
      "Epoch 00003: val_loss improved from 0.03228 to 0.02792, saving model to CottHeight_6 Step_MultiwaveHeightWeights.h5\n",
      "1504/1504 [==============================] - 22s 15ms/step - loss: 0.0717 - val_loss: 0.0279\n",
      "Epoch 4/100\n",
      "1504/1504 [==============================] - ETA: 0s - loss: 0.0619\n",
      "Epoch 00004: val_loss improved from 0.02792 to 0.02554, saving model to CottHeight_6 Step_MultiwaveHeightWeights.h5\n",
      "1504/1504 [==============================] - 22s 15ms/step - loss: 0.0619 - val_loss: 0.0255\n",
      "Epoch 5/100\n",
      "1501/1504 [============================>.] - ETA: 0s - loss: 0.0554\n",
      "Epoch 00005: val_loss improved from 0.02554 to 0.02483, saving model to CottHeight_6 Step_MultiwaveHeightWeights.h5\n",
      "1504/1504 [==============================] - 22s 15ms/step - loss: 0.0554 - val_loss: 0.0248\n",
      "Epoch 6/100\n",
      "1503/1504 [============================>.] - ETA: 0s - loss: 0.0489\n",
      "Epoch 00006: val_loss improved from 0.02483 to 0.02241, saving model to CottHeight_6 Step_MultiwaveHeightWeights.h5\n",
      "1504/1504 [==============================] - 22s 15ms/step - loss: 0.0489 - val_loss: 0.0224\n",
      "Epoch 7/100\n",
      "1503/1504 [============================>.] - ETA: 0s - loss: 0.0454\n",
      "Epoch 00007: val_loss improved from 0.02241 to 0.02135, saving model to CottHeight_6 Step_MultiwaveHeightWeights.h5\n",
      "1504/1504 [==============================] - 23s 15ms/step - loss: 0.0454 - val_loss: 0.0214\n",
      "Epoch 8/100\n",
      "1503/1504 [============================>.] - ETA: 0s - loss: 0.0405\n",
      "Epoch 00008: val_loss improved from 0.02135 to 0.02067, saving model to CottHeight_6 Step_MultiwaveHeightWeights.h5\n",
      "1504/1504 [==============================] - 22s 15ms/step - loss: 0.0405 - val_loss: 0.0207\n",
      "Epoch 9/100\n",
      "1501/1504 [============================>.] - ETA: 0s - loss: 0.0383\n",
      "Epoch 00009: val_loss improved from 0.02067 to 0.01951, saving model to CottHeight_6 Step_MultiwaveHeightWeights.h5\n",
      "1504/1504 [==============================] - 22s 15ms/step - loss: 0.0383 - val_loss: 0.0195\n",
      "Epoch 10/100\n",
      "1504/1504 [==============================] - ETA: 0s - loss: 0.0345\n",
      "Epoch 00010: val_loss improved from 0.01951 to 0.01936, saving model to CottHeight_6 Step_MultiwaveHeightWeights.h5\n",
      "1504/1504 [==============================] - 22s 15ms/step - loss: 0.0345 - val_loss: 0.0194\n",
      "Epoch 11/100\n",
      "1503/1504 [============================>.] - ETA: 0s - loss: 0.0331\n",
      "Epoch 00011: val_loss improved from 0.01936 to 0.01858, saving model to CottHeight_6 Step_MultiwaveHeightWeights.h5\n",
      "1504/1504 [==============================] - 22s 15ms/step - loss: 0.0330 - val_loss: 0.0186\n",
      "Epoch 12/100\n",
      "1502/1504 [============================>.] - ETA: 0s - loss: 0.0316\n",
      "Epoch 00012: val_loss improved from 0.01858 to 0.01852, saving model to CottHeight_6 Step_MultiwaveHeightWeights.h5\n",
      "1504/1504 [==============================] - 22s 15ms/step - loss: 0.0315 - val_loss: 0.0185\n",
      "Epoch 13/100\n",
      "1501/1504 [============================>.] - ETA: 0s - loss: 0.0299\n",
      "Epoch 00013: val_loss did not improve from 0.01852\n",
      "1504/1504 [==============================] - 22s 15ms/step - loss: 0.0299 - val_loss: 0.0187\n",
      "Epoch 14/100\n",
      "1500/1504 [============================>.] - ETA: 0s - loss: 0.0294\n",
      "Epoch 00014: val_loss improved from 0.01852 to 0.01784, saving model to CottHeight_6 Step_MultiwaveHeightWeights.h5\n",
      "1504/1504 [==============================] - 22s 15ms/step - loss: 0.0294 - val_loss: 0.0178\n",
      "Epoch 15/100\n",
      "1501/1504 [============================>.] - ETA: 0s - loss: 0.0287\n",
      "Epoch 00015: val_loss did not improve from 0.01784\n",
      "1504/1504 [==============================] - 22s 14ms/step - loss: 0.0287 - val_loss: 0.0180\n",
      "Epoch 16/100\n",
      "1502/1504 [============================>.] - ETA: 0s - loss: 0.0279\n",
      "Epoch 00016: val_loss improved from 0.01784 to 0.01753, saving model to CottHeight_6 Step_MultiwaveHeightWeights.h5\n",
      "1504/1504 [==============================] - 22s 15ms/step - loss: 0.0279 - val_loss: 0.0175\n",
      "Epoch 17/100\n",
      "1504/1504 [==============================] - ETA: 0s - loss: 0.0274\n",
      "Epoch 00017: val_loss did not improve from 0.01753\n",
      "1504/1504 [==============================] - 22s 14ms/step - loss: 0.0274 - val_loss: 0.0178\n",
      "Epoch 18/100\n",
      "1501/1504 [============================>.] - ETA: 0s - loss: 0.0271\n",
      "Epoch 00018: val_loss improved from 0.01753 to 0.01707, saving model to CottHeight_6 Step_MultiwaveHeightWeights.h5\n",
      "1504/1504 [==============================] - 22s 14ms/step - loss: 0.0271 - val_loss: 0.0171\n",
      "Epoch 19/100\n",
      "1501/1504 [============================>.] - ETA: 0s - loss: 0.0265\n",
      "Epoch 00019: val_loss did not improve from 0.01707\n",
      "1504/1504 [==============================] - 22s 14ms/step - loss: 0.0265 - val_loss: 0.0177\n",
      "Epoch 20/100\n",
      "1503/1504 [============================>.] - ETA: 0s - loss: 0.0267\n",
      "Epoch 00020: val_loss did not improve from 0.01707\n",
      "1504/1504 [==============================] - 22s 14ms/step - loss: 0.0267 - val_loss: 0.0171\n",
      "Epoch 21/100\n",
      "1504/1504 [==============================] - ETA: 0s - loss: 0.0265\n",
      "Epoch 00021: val_loss improved from 0.01707 to 0.01674, saving model to CottHeight_6 Step_MultiwaveHeightWeights.h5\n",
      "1504/1504 [==============================] - 22s 15ms/step - loss: 0.0265 - val_loss: 0.0167\n",
      "Epoch 22/100\n",
      "1502/1504 [============================>.] - ETA: 0s - loss: 0.0259\n",
      "Epoch 00022: val_loss did not improve from 0.01674\n",
      "1504/1504 [==============================] - 22s 14ms/step - loss: 0.0259 - val_loss: 0.0169\n",
      "Epoch 23/100\n",
      "1503/1504 [============================>.] - ETA: 0s - loss: 0.0257\n",
      "Epoch 00023: val_loss did not improve from 0.01674\n",
      "1504/1504 [==============================] - 22s 15ms/step - loss: 0.0258 - val_loss: 0.0170\n",
      "Epoch 24/100\n",
      "1504/1504 [==============================] - ETA: 0s - loss: 0.0258\n",
      "Epoch 00024: val_loss improved from 0.01674 to 0.01640, saving model to CottHeight_6 Step_MultiwaveHeightWeights.h5\n",
      "1504/1504 [==============================] - 22s 14ms/step - loss: 0.0258 - val_loss: 0.0164\n",
      "Epoch 25/100\n",
      "1501/1504 [============================>.] - ETA: 0s - loss: 0.0259\n",
      "Epoch 00025: val_loss did not improve from 0.01640\n",
      "1504/1504 [==============================] - 22s 14ms/step - loss: 0.0259 - val_loss: 0.0166\n",
      "Epoch 26/100\n",
      "1502/1504 [============================>.] - ETA: 0s - loss: 0.0257\n",
      "Epoch 00026: val_loss did not improve from 0.01640\n",
      "1504/1504 [==============================] - 22s 14ms/step - loss: 0.0257 - val_loss: 0.0166\n",
      "Epoch 27/100\n",
      "1501/1504 [============================>.] - ETA: 0s - loss: 0.0254\n",
      "Epoch 00027: val_loss improved from 0.01640 to 0.01627, saving model to CottHeight_6 Step_MultiwaveHeightWeights.h5\n",
      "1504/1504 [==============================] - 22s 15ms/step - loss: 0.0255 - val_loss: 0.0163\n",
      "Epoch 28/100\n",
      "1501/1504 [============================>.] - ETA: 0s - loss: 0.0257\n",
      "Epoch 00028: val_loss did not improve from 0.01627\n",
      "1504/1504 [==============================] - 22s 14ms/step - loss: 0.0257 - val_loss: 0.0164\n",
      "Epoch 29/100\n",
      "1502/1504 [============================>.] - ETA: 0s - loss: 0.0254\n",
      "Epoch 00029: val_loss did not improve from 0.01627\n",
      "1504/1504 [==============================] - 22s 15ms/step - loss: 0.0253 - val_loss: 0.0166\n",
      "Epoch 30/100\n",
      "1503/1504 [============================>.] - ETA: 0s - loss: 0.0257\n",
      "Epoch 00030: val_loss improved from 0.01627 to 0.01600, saving model to CottHeight_6 Step_MultiwaveHeightWeights.h5\n",
      "1504/1504 [==============================] - 22s 15ms/step - loss: 0.0256 - val_loss: 0.0160\n",
      "Epoch 31/100\n",
      "1501/1504 [============================>.] - ETA: 0s - loss: 0.0251\n",
      "Epoch 00031: val_loss improved from 0.01600 to 0.01579, saving model to CottHeight_6 Step_MultiwaveHeightWeights.h5\n",
      "1504/1504 [==============================] - 22s 15ms/step - loss: 0.0251 - val_loss: 0.0158\n",
      "Epoch 32/100\n",
      "1504/1504 [==============================] - ETA: 0s - loss: 0.0251\n",
      "Epoch 00032: val_loss did not improve from 0.01579\n",
      "1504/1504 [==============================] - 22s 15ms/step - loss: 0.0251 - val_loss: 0.0159\n",
      "Epoch 33/100\n",
      "1502/1504 [============================>.] - ETA: 0s - loss: 0.0254\n",
      "Epoch 00033: val_loss improved from 0.01579 to 0.01570, saving model to CottHeight_6 Step_MultiwaveHeightWeights.h5\n",
      "1504/1504 [==============================] - 22s 15ms/step - loss: 0.0254 - val_loss: 0.0157\n",
      "Epoch 34/100\n",
      "1503/1504 [============================>.] - ETA: 0s - loss: 0.0250\n",
      "Epoch 00034: val_loss did not improve from 0.01570\n",
      "1504/1504 [==============================] - 22s 15ms/step - loss: 0.0250 - val_loss: 0.0164\n",
      "Epoch 35/100\n",
      "1501/1504 [============================>.] - ETA: 0s - loss: 0.0249\n",
      "Epoch 00035: val_loss did not improve from 0.01570\n",
      "1504/1504 [==============================] - 22s 15ms/step - loss: 0.0249 - val_loss: 0.0158\n",
      "Epoch 36/100\n",
      "1501/1504 [============================>.] - ETA: 0s - loss: 0.0247\n",
      "Epoch 00036: val_loss did not improve from 0.01570\n",
      "1504/1504 [==============================] - 22s 15ms/step - loss: 0.0247 - val_loss: 0.0157\n",
      "Epoch 37/100\n",
      "1504/1504 [==============================] - ETA: 0s - loss: 0.0252\n",
      "Epoch 00037: val_loss did not improve from 0.01570\n",
      "1504/1504 [==============================] - 22s 15ms/step - loss: 0.0252 - val_loss: 0.0158\n",
      "Epoch 38/100\n",
      "1502/1504 [============================>.] - ETA: 0s - loss: 0.0248\n",
      "Epoch 00038: val_loss did not improve from 0.01570\n",
      "1504/1504 [==============================] - 22s 15ms/step - loss: 0.0248 - val_loss: 0.0157\n",
      "Epoch 00038: early stopping\n",
      "Epoch 1/100\n",
      "   2/1504 [..............................] - ETA: 2:05 - loss: 1.6665WARNING:tensorflow:Callbacks method `on_train_batch_end` is slow compared to the batch time (batch time: 0.0200s vs `on_train_batch_end` time: 0.1464s). Check your callbacks.\n",
      "1504/1504 [==============================] - ETA: 0s - loss: 0.1788\n",
      "Epoch 00001: val_loss improved from inf to 0.05840, saving model to CottHeight_12 Step_MultiwaveHeightWeights.h5\n",
      "1504/1504 [==============================] - 22s 15ms/step - loss: 0.1788 - val_loss: 0.0584\n",
      "Epoch 2/100\n",
      "1504/1504 [==============================] - ETA: 0s - loss: 0.1066\n",
      "Epoch 00002: val_loss improved from 0.05840 to 0.05653, saving model to CottHeight_12 Step_MultiwaveHeightWeights.h5\n",
      "1504/1504 [==============================] - 22s 14ms/step - loss: 0.1066 - val_loss: 0.0565\n",
      "Epoch 3/100\n",
      "1501/1504 [============================>.] - ETA: 0s - loss: 0.0949\n",
      "Epoch 00003: val_loss improved from 0.05653 to 0.05025, saving model to CottHeight_12 Step_MultiwaveHeightWeights.h5\n",
      "1504/1504 [==============================] - 22s 15ms/step - loss: 0.0949 - val_loss: 0.0502\n",
      "Epoch 4/100\n",
      "1502/1504 [============================>.] - ETA: 0s - loss: 0.0888\n",
      "Epoch 00004: val_loss did not improve from 0.05025\n",
      "1504/1504 [==============================] - 22s 14ms/step - loss: 0.0888 - val_loss: 0.0509\n",
      "Epoch 5/100\n",
      "1501/1504 [============================>.] - ETA: 0s - loss: 0.0813\n",
      "Epoch 00005: val_loss improved from 0.05025 to 0.04688, saving model to CottHeight_12 Step_MultiwaveHeightWeights.h5\n",
      "1504/1504 [==============================] - 22s 14ms/step - loss: 0.0813 - val_loss: 0.0469\n",
      "Epoch 6/100\n",
      "1501/1504 [============================>.] - ETA: 0s - loss: 0.0760\n",
      "Epoch 00006: val_loss improved from 0.04688 to 0.04557, saving model to CottHeight_12 Step_MultiwaveHeightWeights.h5\n",
      "1504/1504 [==============================] - 22s 15ms/step - loss: 0.0760 - val_loss: 0.0456\n",
      "Epoch 7/100\n",
      "1501/1504 [============================>.] - ETA: 0s - loss: 0.0715\n",
      "Epoch 00007: val_loss did not improve from 0.04557\n",
      "1504/1504 [==============================] - 22s 15ms/step - loss: 0.0715 - val_loss: 0.0466\n",
      "Epoch 8/100\n",
      "1504/1504 [==============================] - ETA: 0s - loss: 0.0686\n",
      "Epoch 00008: val_loss did not improve from 0.04557\n",
      "1504/1504 [==============================] - 22s 14ms/step - loss: 0.0686 - val_loss: 0.0472\n",
      "Epoch 9/100\n",
      "1501/1504 [============================>.] - ETA: 0s - loss: 0.0643\n",
      "Epoch 00009: val_loss improved from 0.04557 to 0.04261, saving model to CottHeight_12 Step_MultiwaveHeightWeights.h5\n",
      "1504/1504 [==============================] - 22s 14ms/step - loss: 0.0643 - val_loss: 0.0426\n",
      "Epoch 10/100\n",
      "1501/1504 [============================>.] - ETA: 0s - loss: 0.0616\n",
      "Epoch 00010: val_loss improved from 0.04261 to 0.04239, saving model to CottHeight_12 Step_MultiwaveHeightWeights.h5\n",
      "1504/1504 [==============================] - 22s 15ms/step - loss: 0.0616 - val_loss: 0.0424\n",
      "Epoch 11/100\n",
      "1501/1504 [============================>.] - ETA: 0s - loss: 0.0593\n",
      "Epoch 00011: val_loss improved from 0.04239 to 0.04091, saving model to CottHeight_12 Step_MultiwaveHeightWeights.h5\n",
      "1504/1504 [==============================] - 22s 15ms/step - loss: 0.0592 - val_loss: 0.0409\n",
      "Epoch 12/100\n",
      "1504/1504 [==============================] - ETA: 0s - loss: 0.0569\n",
      "Epoch 00012: val_loss improved from 0.04091 to 0.04056, saving model to CottHeight_12 Step_MultiwaveHeightWeights.h5\n",
      "1504/1504 [==============================] - 22s 14ms/step - loss: 0.0569 - val_loss: 0.0406\n",
      "Epoch 13/100\n",
      "1503/1504 [============================>.] - ETA: 0s - loss: 0.0559\n",
      "Epoch 00013: val_loss did not improve from 0.04056\n",
      "1504/1504 [==============================] - 22s 14ms/step - loss: 0.0559 - val_loss: 0.0407\n",
      "Epoch 14/100\n",
      "1502/1504 [============================>.] - ETA: 0s - loss: 0.0532\n",
      "Epoch 00014: val_loss improved from 0.04056 to 0.04039, saving model to CottHeight_12 Step_MultiwaveHeightWeights.h5\n",
      "1504/1504 [==============================] - 22s 15ms/step - loss: 0.0532 - val_loss: 0.0404\n",
      "Epoch 15/100\n",
      "1503/1504 [============================>.] - ETA: 0s - loss: 0.0525\n",
      "Epoch 00015: val_loss improved from 0.04039 to 0.03932, saving model to CottHeight_12 Step_MultiwaveHeightWeights.h5\n",
      "1504/1504 [==============================] - 22s 15ms/step - loss: 0.0525 - val_loss: 0.0393\n",
      "Epoch 16/100\n",
      "1502/1504 [============================>.] - ETA: 0s - loss: 0.0517\n",
      "Epoch 00016: val_loss did not improve from 0.03932\n",
      "1504/1504 [==============================] - 22s 14ms/step - loss: 0.0517 - val_loss: 0.0393\n",
      "Epoch 17/100\n",
      "1503/1504 [============================>.] - ETA: 0s - loss: 0.0509\n",
      "Epoch 00017: val_loss did not improve from 0.03932\n",
      "1504/1504 [==============================] - 22s 15ms/step - loss: 0.0509 - val_loss: 0.0399\n",
      "Epoch 18/100\n",
      "1503/1504 [============================>.] - ETA: 0s - loss: 0.0499\n",
      "Epoch 00018: val_loss improved from 0.03932 to 0.03780, saving model to CottHeight_12 Step_MultiwaveHeightWeights.h5\n",
      "1504/1504 [==============================] - 22s 14ms/step - loss: 0.0499 - val_loss: 0.0378\n",
      "Epoch 19/100\n",
      "1501/1504 [============================>.] - ETA: 0s - loss: 0.0488\n",
      "Epoch 00019: val_loss improved from 0.03780 to 0.03754, saving model to CottHeight_12 Step_MultiwaveHeightWeights.h5\n",
      "1504/1504 [==============================] - 22s 14ms/step - loss: 0.0488 - val_loss: 0.0375\n",
      "Epoch 20/100\n",
      "1503/1504 [============================>.] - ETA: 0s - loss: 0.0489\n",
      "Epoch 00020: val_loss did not improve from 0.03754\n",
      "1504/1504 [==============================] - 22s 14ms/step - loss: 0.0489 - val_loss: 0.0383\n",
      "Epoch 21/100\n",
      "1502/1504 [============================>.] - ETA: 0s - loss: 0.0493\n",
      "Epoch 00021: val_loss did not improve from 0.03754\n",
      "1504/1504 [==============================] - 22s 14ms/step - loss: 0.0493 - val_loss: 0.0378\n",
      "Epoch 22/100\n",
      "1501/1504 [============================>.] - ETA: 0s - loss: 0.0480\n",
      "Epoch 00022: val_loss improved from 0.03754 to 0.03741, saving model to CottHeight_12 Step_MultiwaveHeightWeights.h5\n",
      "1504/1504 [==============================] - 22s 14ms/step - loss: 0.0480 - val_loss: 0.0374\n",
      "Epoch 23/100\n",
      "1503/1504 [============================>.] - ETA: 0s - loss: 0.0475\n",
      "Epoch 00023: val_loss did not improve from 0.03741\n",
      "1504/1504 [==============================] - 22s 14ms/step - loss: 0.0475 - val_loss: 0.0380\n",
      "Epoch 24/100\n",
      "1503/1504 [============================>.] - ETA: 0s - loss: 0.0470\n",
      "Epoch 00024: val_loss did not improve from 0.03741\n",
      "1504/1504 [==============================] - 22s 14ms/step - loss: 0.0470 - val_loss: 0.0375\n",
      "Epoch 25/100\n",
      "1503/1504 [============================>.] - ETA: 0s - loss: 0.0474\n",
      "Epoch 00025: val_loss improved from 0.03741 to 0.03686, saving model to CottHeight_12 Step_MultiwaveHeightWeights.h5\n",
      "1504/1504 [==============================] - 22s 15ms/step - loss: 0.0474 - val_loss: 0.0369\n",
      "Epoch 26/100\n",
      "1503/1504 [============================>.] - ETA: 0s - loss: 0.0467\n",
      "Epoch 00026: val_loss improved from 0.03686 to 0.03651, saving model to CottHeight_12 Step_MultiwaveHeightWeights.h5\n",
      "1504/1504 [==============================] - 22s 15ms/step - loss: 0.0467 - val_loss: 0.0365\n",
      "Epoch 27/100\n",
      "1503/1504 [============================>.] - ETA: 0s - loss: 0.0463\n",
      "Epoch 00027: val_loss did not improve from 0.03651\n",
      "1504/1504 [==============================] - 22s 14ms/step - loss: 0.0463 - val_loss: 0.0366\n",
      "Epoch 28/100\n",
      "1500/1504 [============================>.] - ETA: 0s - loss: 0.0463\n",
      "Epoch 00028: val_loss improved from 0.03651 to 0.03650, saving model to CottHeight_12 Step_MultiwaveHeightWeights.h5\n",
      "1504/1504 [==============================] - 22s 14ms/step - loss: 0.0463 - val_loss: 0.0365\n",
      "Epoch 29/100\n",
      "1503/1504 [============================>.] - ETA: 0s - loss: 0.0463\n",
      "Epoch 00029: val_loss improved from 0.03650 to 0.03620, saving model to CottHeight_12 Step_MultiwaveHeightWeights.h5\n",
      "1504/1504 [==============================] - 22s 15ms/step - loss: 0.0463 - val_loss: 0.0362\n",
      "Epoch 30/100\n",
      "1503/1504 [============================>.] - ETA: 0s - loss: 0.0455\n",
      "Epoch 00030: val_loss improved from 0.03620 to 0.03527, saving model to CottHeight_12 Step_MultiwaveHeightWeights.h5\n",
      "1504/1504 [==============================] - 22s 14ms/step - loss: 0.0455 - val_loss: 0.0353\n",
      "Epoch 31/100\n",
      "1504/1504 [==============================] - ETA: 0s - loss: 0.0454\n",
      "Epoch 00031: val_loss did not improve from 0.03527\n",
      "1504/1504 [==============================] - 22s 15ms/step - loss: 0.0454 - val_loss: 0.0361\n",
      "Epoch 32/100\n",
      "1502/1504 [============================>.] - ETA: 0s - loss: 0.0447\n",
      "Epoch 00032: val_loss improved from 0.03527 to 0.03403, saving model to CottHeight_12 Step_MultiwaveHeightWeights.h5\n",
      "1504/1504 [==============================] - 22s 15ms/step - loss: 0.0447 - val_loss: 0.0340\n",
      "Epoch 33/100\n",
      "1501/1504 [============================>.] - ETA: 0s - loss: 0.0443\n",
      "Epoch 00033: val_loss improved from 0.03403 to 0.03240, saving model to CottHeight_12 Step_MultiwaveHeightWeights.h5\n",
      "1504/1504 [==============================] - 22s 14ms/step - loss: 0.0443 - val_loss: 0.0324\n",
      "Epoch 34/100\n",
      "1500/1504 [============================>.] - ETA: 0s - loss: 0.0436\n",
      "Epoch 00034: val_loss did not improve from 0.03240\n",
      "1504/1504 [==============================] - 21s 14ms/step - loss: 0.0436 - val_loss: 0.0324\n",
      "Epoch 35/100\n",
      "1502/1504 [============================>.] - ETA: 0s - loss: 0.0437\n",
      "Epoch 00035: val_loss improved from 0.03240 to 0.03204, saving model to CottHeight_12 Step_MultiwaveHeightWeights.h5\n",
      "1504/1504 [==============================] - 21s 14ms/step - loss: 0.0437 - val_loss: 0.0320\n",
      "Epoch 36/100\n",
      "1501/1504 [============================>.] - ETA: 0s - loss: 0.0439\n",
      "Epoch 00036: val_loss did not improve from 0.03204\n",
      "1504/1504 [==============================] - 21s 14ms/step - loss: 0.0439 - val_loss: 0.0327\n",
      "Epoch 37/100\n",
      "1501/1504 [============================>.] - ETA: 0s - loss: 0.0432\n",
      "Epoch 00037: val_loss improved from 0.03204 to 0.03155, saving model to CottHeight_12 Step_MultiwaveHeightWeights.h5\n",
      "1504/1504 [==============================] - 21s 14ms/step - loss: 0.0431 - val_loss: 0.0316\n",
      "Epoch 38/100\n",
      "1500/1504 [============================>.] - ETA: 0s - loss: 0.0429\n",
      "Epoch 00038: val_loss did not improve from 0.03155\n",
      "1504/1504 [==============================] - 21s 14ms/step - loss: 0.0429 - val_loss: 0.0317\n",
      "Epoch 39/100\n",
      "1500/1504 [============================>.] - ETA: 0s - loss: 0.0428\n",
      "Epoch 00039: val_loss did not improve from 0.03155\n",
      "1504/1504 [==============================] - 21s 14ms/step - loss: 0.0428 - val_loss: 0.0317\n",
      "Epoch 40/100\n",
      "1503/1504 [============================>.] - ETA: 0s - loss: 0.0421\n",
      "Epoch 00040: val_loss did not improve from 0.03155\n",
      "1504/1504 [==============================] - 22s 14ms/step - loss: 0.0421 - val_loss: 0.0320\n",
      "Epoch 41/100\n",
      "1501/1504 [============================>.] - ETA: 0s - loss: 0.0423\n",
      "Epoch 00041: val_loss did not improve from 0.03155\n",
      "1504/1504 [==============================] - 21s 14ms/step - loss: 0.0422 - val_loss: 0.0319\n",
      "Epoch 42/100\n",
      "1502/1504 [============================>.] - ETA: 0s - loss: 0.0420\n",
      "Epoch 00042: val_loss improved from 0.03155 to 0.03087, saving model to CottHeight_12 Step_MultiwaveHeightWeights.h5\n",
      "1504/1504 [==============================] - 21s 14ms/step - loss: 0.0420 - val_loss: 0.0309\n",
      "Epoch 43/100\n",
      "1500/1504 [============================>.] - ETA: 0s - loss: 0.0416\n",
      "Epoch 00043: val_loss did not improve from 0.03087\n",
      "1504/1504 [==============================] - 21s 14ms/step - loss: 0.0416 - val_loss: 0.0328\n",
      "Epoch 44/100\n",
      "1500/1504 [============================>.] - ETA: 0s - loss: 0.0416\n",
      "Epoch 00044: val_loss did not improve from 0.03087\n",
      "1504/1504 [==============================] - 21s 14ms/step - loss: 0.0416 - val_loss: 0.0314\n",
      "Epoch 45/100\n",
      "1500/1504 [============================>.] - ETA: 0s - loss: 0.0415\n",
      "Epoch 00045: val_loss did not improve from 0.03087\n",
      "1504/1504 [==============================] - 21s 14ms/step - loss: 0.0415 - val_loss: 0.0311\n",
      "Epoch 46/100\n",
      "1502/1504 [============================>.] - ETA: 0s - loss: 0.0410\n",
      "Epoch 00046: val_loss did not improve from 0.03087\n",
      "1504/1504 [==============================] - 21s 14ms/step - loss: 0.0410 - val_loss: 0.0312\n",
      "Epoch 47/100\n",
      "1503/1504 [============================>.] - ETA: 0s - loss: 0.0418\n",
      "Epoch 00047: val_loss improved from 0.03087 to 0.03063, saving model to CottHeight_12 Step_MultiwaveHeightWeights.h5\n",
      "1504/1504 [==============================] - 21s 14ms/step - loss: 0.0418 - val_loss: 0.0306\n",
      "Epoch 48/100\n",
      "1504/1504 [==============================] - ETA: 0s - loss: 0.0410\n",
      "Epoch 00048: val_loss did not improve from 0.03063\n",
      "1504/1504 [==============================] - 21s 14ms/step - loss: 0.0410 - val_loss: 0.0314\n",
      "Epoch 49/100\n",
      "1503/1504 [============================>.] - ETA: 0s - loss: 0.0409\n",
      "Epoch 00049: val_loss did not improve from 0.03063\n",
      "1504/1504 [==============================] - 21s 14ms/step - loss: 0.0409 - val_loss: 0.0312\n",
      "Epoch 50/100\n",
      "1503/1504 [============================>.] - ETA: 0s - loss: 0.0406\n",
      "Epoch 00050: val_loss did not improve from 0.03063\n",
      "1504/1504 [==============================] - 21s 14ms/step - loss: 0.0406 - val_loss: 0.0310\n",
      "Epoch 51/100\n",
      "1503/1504 [============================>.] - ETA: 0s - loss: 0.0408\n",
      "Epoch 00051: val_loss did not improve from 0.03063\n",
      "1504/1504 [==============================] - 21s 14ms/step - loss: 0.0408 - val_loss: 0.0307\n",
      "Epoch 52/100\n",
      "1503/1504 [============================>.] - ETA: 0s - loss: 0.0402\n",
      "Epoch 00052: val_loss did not improve from 0.03063\n",
      "1504/1504 [==============================] - 21s 14ms/step - loss: 0.0402 - val_loss: 0.0309\n",
      "Epoch 00052: early stopping\n"
     ]
    }
   ],
   "source": [
    "\"\"\"\n",
    "TRAINS ALL MODELS\n",
    "\"\"\"\n",
    "\n",
    "\n",
    "# LOAD AND DISPLAY\n",
    "waves = load_wave_data()\n",
    "waves['DateTime'] = waves.index   # keep DateTime as a separate col for plotting\n",
    "epoch = 100\n",
    "\n",
    "# SELECT FEATURES INVOLVED IN TRAINING AND PREDICTIONS\n",
    "# MAKE INTO FOR LOOP\n",
    "# cols = [ [\"RottHeight\"], [\"CottHeight\"], [\"RottHeight\",\t\"RottMeanPeriod\",\t\"RottPeakPeriod\",\t\"RottRadiansRotated\"], [\"CottHeight\",\t\"CottMeanPeriod\",\t\"CottPeakPeriod\",\t\"CottRadiansRotated\"] ]\n",
    "cols = [[\"RottHeight\",\t\"RottMeanPeriod\",\t\"RottPeakPeriod\",\t\"RottRadiansRotated\"],[\"CottHeight\",\t\"CottMeanPeriod\",\t\"CottPeakPeriod\",\t\"CottRadiansRotated\"]]   # --------- Situations: [\"RottHeight\"], [\"CottHeight\"], [\"RottHeight\",\t\"RottMeanPeriod\",\t\"RottPeakPeriod\",\t\"RottRadiansRotated\"], [\"CottHeight\",\t\"CottMeanPeriod\",\t\"CottPeakPeriod\",\t\"CottRadiansRotated\"]\n",
    "column_multi = ['RottHeight', 'CottHeight']\n",
    "multi_Final_df = pd.DataFrame(waves, columns=column_multi,index=waves.index)\n",
    "multi_loss_hist=[]\n",
    "multi_loss_hist_ar = np.array(multi_loss_hist, dtype = np.float32)\n",
    "\n",
    "multi_val_loss_hist=[]\n",
    "multi_loss_val_hist_ar = np.array(multi_val_loss_hist, dtype = np.float32)\n",
    "\n",
    "multi_all_models = []\n",
    "\n",
    "\n",
    "#Loop\n",
    "for colus in cols:\n",
    "  \n",
    "  n_vals = [2, 6, 12]\n",
    "  n_past = 96 \n",
    "  # CONSTRUCT TRAINING SET ----------\n",
    "  \n",
    "  # MODEL\n",
    "  #model = model_univar\n",
    "\n",
    "  # final_df_res =  TODO\n",
    "\n",
    "\n",
    "  for n in n_vals:\n",
    "\n",
    "    # PREPARE DATASET -----------\n",
    "    # REMOVE LAST n OBS. FROM DF. USE THESE TO COMPARE MODEL TO REAL RESULTS\n",
    "    trueset = waves.tail(n)     # n true values to compare with forecast results\n",
    "    # CONSTRUCT DF WITH LAST n OBS. REMOVED. USE df TO FORECAST n VALS\n",
    "    df = waves[:-n+1]           # dataset with 'true values' removed. LSTM will try forecast the next n values. Compare with trueset.\n",
    "    # ISOLATE TRAINING SET WITH ONLY cols THAT ARE REQUIRED\n",
    "    dataset_train = df[colus]\n",
    "    # CONVERT TO ARRAY\n",
    "    training_set = dataset_train.to_numpy()\n",
    "    # CONSTRUCT X and y SETS ----\n",
    "    X = []    # each item is a window of size n_past\n",
    "    y = []    # corresponding y val that each window tries to predict\n",
    "\n",
    "    n_future = n    # number of data points to predict in the future\n",
    "      # number of past data points to use for predicting the future\n",
    "\n",
    "    # BUILD X AND y\n",
    "    for i in range(n_past, len(training_set) - n_future + 1):\n",
    "      X.append( training_set[ i - n_past:i, 0:dataset_train.shape[1] ] )\n",
    "      y.append( training_set[ i + n_future - 1:i + n_future, 0 ] )\n",
    "\n",
    "    X, y = np.array(X), np.array(y)\n",
    "\n",
    "    # BUILD LSTM MODEL\n",
    "    model_multivar = Sequential()                                                                               # initialise LSTM neural network\n",
    "\n",
    "    model_multivar.add(LSTM(units=64, return_sequences= True, input_shape=(n_past,dataset_train.shape[1])))     # 1st layer\n",
    "    model_multivar.add(LSTM(units=30, return_sequences = False))                                                # 2nd layer\n",
    "    model_multivar.add(Dropout(0.55))                                                                           # Dropout layer\n",
    "    model_multivar.add(Dense(units=1, activation='linear'))                                                     # Output Layer\n",
    "\n",
    "    model_multivar.compile(optimizer = Adam(learning_rate=0.0001), loss= 'mean_squared_error')                  # compile model\n",
    "    model = model_multivar\n",
    "    # PRINT SUMMARY\n",
    "    #model_univar.summary()\n",
    "    # NOW TRAIN MODEL ------\n",
    "    es = EarlyStopping(monitor='val_loss', min_delta=1e-10, patience=5, verbose=1)\n",
    "    rlr = ReduceLROnPlateau(monitor='val_loss', factor=0.5, patience=10, verbose=1)\n",
    "    mcp = ModelCheckpoint(filepath='{}_Multi_{} Step_HeightWeights.h5'.format(colus[0],n),monitor='val_loss', verbose=1, save_best_only=True, save_weights_only=True)\n",
    "    tb = TensorBoard('logs')\n",
    "\n",
    "    _hist_model_multi = model.fit(X, y, epochs=epoch, callbacks=[es,rlr,mcp,tb], shuffle=True, validation_split=0.2, verbose=1)\n",
    "\n",
    "    # ADD MODEL TO FINAL ARRAY\n",
    "    multi_all_models.append(_hist_model_multi)\n",
    "\n",
    "    # MAKE PREDICTIONS ------\n",
    "    # PREDICTIONS MADE ON PAST VALUES\n",
    "    predictions_past = model.predict(X[n_past:])\n",
    "\n",
    "\n",
    "    # PREDICTIONS MADE ON PAST VALUES\n",
    "    #predictions_past = model_multivar.predict(X_mv[n_past:])\n",
    "\n",
    "    # PREDICTIONS MADE ON PAST VALUES\n",
    "    #predictions_past = model_univar.predict(X[n_past:])\n",
    "\n",
    "    # CONSTRUCT A DF TO HOLD RESULTS\n",
    "    multi_pst_result_df = dataset_train[2 * n_past + n_future -1:].copy()                    # now reference the true set\n",
    "    multi_pst_result_df[\"{} on {} Step Forecast \".format(colus[0],n)] = predictions_past\n",
    "    multi_pst_result_df=multi_pst_result_df.drop(multi_pst_result_df.columns.difference([\"{} on {} Step Forecast \".format(colus[0],n)]), axis=1)                               # add prediction column to trueset\n",
    "    #univar_pst_result_df = univar_pst_result_df.rename(columns={\"{} on {} Forecast \".format(cols,n): \"ActlRottHeight\"})\n",
    "    # FINAL RESULT\n",
    "    \n",
    "    multi_Final_df=multi_Final_df.join(multi_pst_result_df)\n",
    "    \n",
    "\n",
    "    # ADD TO FINAL DF\n",
    "    # hist.history['val_loss'][-1]\n",
    "    multi_loss_hist_ar = np.append(multi_loss_hist_ar,_hist_model_multi.history['loss'][-1])\n",
    "    multi_loss_val_hist_ar = np.append(multi_loss_val_hist_ar,_hist_model_multi.history['val_loss'][-1]) "
   ]
  },
  {
   "cell_type": "code",
   "execution_count": null,
   "metadata": {
    "id": "WoYq8po2nmcX"
   },
   "outputs": [],
   "source": [
    "**NOTE:**\n",
    "\n",
    "Please note that the validation loss is legitimately lower than the training loss.\n",
    "\n",
    "Reason #1: Regularization(dropout) applied during training, but not during validation/testing\n",
    "\n",
    "Reason #2: Training loss is measured during each epoch while validation loss is measured after each epoch\n",
    "\n",
    "Reason #3: The validation set may be easier than the training set (or there may be leaks)\n",
    "\n",
    "https://www.pyimagesearch.com/2019/10/14/why-is-my-validation-loss-lower-than-my-training-loss/"
   ]
  },
  {
   "cell_type": "code",
   "execution_count": null,
   "metadata": {
    "colab": {
     "base_uri": "https://localhost:8080/",
     "height": 1000
    },
    "executionInfo": {
     "elapsed": 1924195,
     "status": "ok",
     "timestamp": 1603959361754,
     "user": {
      "displayName": "Ammar Pervez",
      "photoUrl": "https://lh3.googleusercontent.com/a-/AOh14Gi8WNzfv_BTIPuGu9Hlf2ww8310r8CAWukW9jAvsPc=s64",
      "userId": "03225736955727170639"
     },
     "user_tz": -480
    },
    "id": "PKnXd7qP8ZZ8",
    "outputId": "c18ce94c-87b1-455c-abb8-913f073c1372"
   },
   "outputs": [
    {
     "data": {
      "image/png": "[encoded data removed]",
      "text/plain": [
       "<Figure size 432x288 with 1 Axes>"
      ]
     },
     "metadata": {
      "needs_background": "light",
      "tags": []
     },
     "output_type": "display_data"
    },
    {
     "name": "stdout",
     "output_type": "stream",
     "text": [
      "mean squared error training:  [0.6132825016975403, 0.2896161377429962, 0.2650337815284729, 0.24173042178153992, 0.22413423657417297, 0.20373249053955078, 0.18847177922725677, 0.1776900291442871, 0.16691632568836212, 0.15328481793403625, 0.14308148622512817, 0.13454388082027435, 0.12418627738952637, 0.11520039290189743, 0.11185004562139511]\n",
      "mean squared error validation:  [0.06505846232175827, 0.04220949485898018, 0.03546055778861046, 0.037754230201244354, 0.05160246789455414, 0.02801746502518654, 0.04606013372540474, 0.0255237128585577, 0.024279139935970306, 0.023273374885320663, 0.027001721784472466, 0.02501080185174942, 0.026651743799448013, 0.028935542330145836, 0.02444722130894661]\n"
     ]
    },
    {
     "data": {
      "image/png": "[encoded data removed]",
      "text/plain": [
       "<Figure size 432x288 with 1 Axes>"
      ]
     },
     "metadata": {
      "needs_background": "light",
      "tags": []
     },
     "output_type": "display_data"
    },
    {
     "name": "stdout",
     "output_type": "stream",
     "text": [
      "mean squared error training:  [0.6649958491325378, 0.3359607756137848, 0.30075618624687195, 0.27514517307281494, 0.2520633637905121, 0.2342764288187027, 0.21952103078365326, 0.2106766253709793, 0.1939973384141922, 0.18720774352550507, 0.1771756261587143, 0.16232456266880035, 0.1574937403202057, 0.15047067403793335, 0.1380763202905655, 0.13461129367351532, 0.1325712651014328, 0.12378530204296112, 0.11770205944776535, 0.11589474231004715, 0.11277027428150177, 0.10902287065982819, 0.10678090900182724, 0.10304245352745056, 0.10145560652017593, 0.10117550939321518, 0.09649767726659775, 0.09690262377262115, 0.09513489902019501]\n",
      "mean squared error validation:  [0.09890760481357574, 0.07629896700382233, 0.07075141370296478, 0.0783611387014389, 0.06564615666866302, 0.06558648496866226, 0.05862535908818245, 0.07056986540555954, 0.05639128386974335, 0.06134706735610962, 0.054327331483364105, 0.056294746696949005, 0.05878765508532524, 0.054971691220998764, 0.053640205413103104, 0.056304045021533966, 0.053588904440402985, 0.052661024034023285, 0.052142925560474396, 0.05225544050335884, 0.053048815578222275, 0.051669247448444366, 0.050827134400606155, 0.05042506009340286, 0.05176836624741554, 0.054484009742736816, 0.05048324912786484, 0.052880000323057175, 0.05156243219971657]\n"
     ]
    },
    {
     "data": {
      "image/png": "[encoded data removed]",
      "text/plain": [
       "<Figure size 432x288 with 1 Axes>"
      ]
     },
     "metadata": {
      "needs_background": "light",
      "tags": []
     },
     "output_type": "display_data"
    },
    {
     "name": "stdout",
     "output_type": "stream",
     "text": [
      "mean squared error training:  [0.8200584650039673, 0.4216483533382416, 0.378135621547699, 0.3463480472564697, 0.3262993395328522, 0.3109826147556305, 0.2961440682411194, 0.2822357714176178, 0.2657160460948944, 0.25352948904037476, 0.24322959780693054, 0.23606671392917633, 0.22630222141742706, 0.21724116802215576, 0.21082502603530884, 0.20281049609184265, 0.19518010318279266, 0.18861784040927887, 0.18736043572425842, 0.18335935473442078, 0.17518837749958038]\n",
      "mean squared error validation:  [0.16974817216396332, 0.15575018525123596, 0.14113542437553406, 0.13275279104709625, 0.13118144869804382, 0.12986798584461212, 0.12116608023643494, 0.12118509411811829, 0.11909016966819763, 0.11599578708410263, 0.11545544117689133, 0.11386343091726303, 0.11782877147197723, 0.11551865190267563, 0.11572930216789246, 0.1111462190747261, 0.11564736813306808, 0.11404621601104736, 0.1156785637140274, 0.1139894351363182, 0.11201118677854538]\n"
     ]
    },
    {
     "data": {
      "image/png": "[encoded data removed]",
      "text/plain": [
       "<Figure size 432x288 with 1 Axes>"
      ]
     },
     "metadata": {
      "needs_background": "light",
      "tags": []
     },
     "output_type": "display_data"
    },
    {
     "name": "stdout",
     "output_type": "stream",
     "text": [
      "mean squared error training:  [0.13695207238197327, 0.06394832581281662, 0.052239034324884415, 0.04513879865407944, 0.039184413850307465, 0.03354130685329437, 0.029598629102110863, 0.025938620790839195, 0.023715291172266006, 0.021912936121225357, 0.01912756823003292, 0.01840723305940628, 0.017191637307405472, 0.01704161986708641, 0.015697330236434937, 0.01606430672109127, 0.015189491212368011, 0.014998596161603928, 0.0152129540219903, 0.01517654862254858, 0.014720949344336987, 0.014732790179550648, 0.014738362282514572, 0.014505310915410519, 0.014659223146736622, 0.014669429510831833, 0.014531615190207958, 0.014739623293280602, 0.01412847451865673, 0.014418295584619045, 0.014632749371230602, 0.014334450475871563, 0.01487407274544239, 0.014349348843097687, 0.014257312752306461, 0.014220244251191616]\n",
      "mean squared error validation:  [0.021735278889536858, 0.014287032186985016, 0.01089148037135601, 0.01002830732613802, 0.010616534389555454, 0.007544157560914755, 0.007293954957276583, 0.009993561543524265, 0.00903114303946495, 0.008055520243942738, 0.006441641598939896, 0.006191786378622055, 0.0069845570251345634, 0.005981686990708113, 0.005399443209171295, 0.005415520630776882, 0.0052657960914075375, 0.005535530857741833, 0.005399642046540976, 0.005387903191149235, 0.00525767682120204, 0.0056021022610366344, 0.00511675700545311, 0.005112117156386375, 0.005024614278227091, 0.0049511464312672615, 0.0054396684281528, 0.005177164915949106, 0.005121923051774502, 0.0050154500640928745, 0.0047843423672020435, 0.004953931551426649, 0.005402281880378723, 0.004883547313511372, 0.004828230477869511, 0.004872118588536978]\n"
     ]
    },
    {
     "data": {
      "image/png": "[encoded data removed]",
      "text/plain": [
       "<Figure size 432x288 with 1 Axes>"
      ]
     },
     "metadata": {
      "needs_background": "light",
      "tags": []
     },
     "output_type": "display_data"
    },
    {
     "name": "stdout",
     "output_type": "stream",
     "text": [
      "mean squared error training:  [0.1553293615579605, 0.08144809305667877, 0.07169845700263977, 0.061906829476356506, 0.05538326874375343, 0.048931922763586044, 0.04535159096121788, 0.040475767105817795, 0.038317784667015076, 0.03451736271381378, 0.033048972487449646, 0.03154973313212395, 0.029911870136857033, 0.029419662430882454, 0.028706509619951248, 0.02791629172861576, 0.027449140325188637, 0.02714592032134533, 0.02652030438184738, 0.026652226224541664, 0.026511743664741516, 0.025891514495015144, 0.0257622878998518, 0.025777611881494522, 0.025923781096935272, 0.025686247274279594, 0.02545982599258423, 0.02568778768181801, 0.02534947730600834, 0.025647254660725594, 0.02510075457394123, 0.025118183344602585, 0.025351502001285553, 0.024987410753965378, 0.024884957820177078, 0.02472629025578499, 0.025184763595461845, 0.024832749739289284]\n",
      "mean squared error validation:  [0.04038669168949127, 0.032283250242471695, 0.027923185378313065, 0.025538481771945953, 0.02482595108449459, 0.022408924996852875, 0.021353548392653465, 0.020670045167207718, 0.019514216110110283, 0.019356468692421913, 0.01858426444232464, 0.01852060854434967, 0.018733935430645943, 0.017835315316915512, 0.01795043610036373, 0.01752544566988945, 0.01783451996743679, 0.017074571922421455, 0.017735555768013, 0.01711266301572323, 0.016735050827264786, 0.01687498949468136, 0.017038725316524506, 0.016397522762417793, 0.01664026826620102, 0.016596704721450806, 0.016269244253635406, 0.016370883211493492, 0.016569413244724274, 0.015997067093849182, 0.015785330906510353, 0.01590399257838726, 0.015697427093982697, 0.01635877601802349, 0.01577850989997387, 0.015727533027529716, 0.015844808891415596, 0.01574200764298439]\n"
     ]
    },
    {
     "data": {
      "image/png": "[encoded data removed]",
      "text/plain": [
       "<Figure size 432x288 with 1 Axes>"
      ]
     },
     "metadata": {
      "needs_background": "light",
      "tags": []
     },
     "output_type": "display_data"
    },
    {
     "name": "stdout",
     "output_type": "stream",
     "text": [
      "mean squared error training:  [0.17880156636238098, 0.1066310703754425, 0.0948653295636177, 0.08875653892755508, 0.08128540217876434, 0.07595277577638626, 0.07154329121112823, 0.06862057745456696, 0.0642751082777977, 0.06158849596977234, 0.05924718454480171, 0.056858766824007034, 0.05592464655637741, 0.05323202162981033, 0.05253515765070915, 0.05173509940505028, 0.05087792128324509, 0.04989934712648392, 0.04882827401161194, 0.048936061561107635, 0.04927360266447067, 0.048030927777290344, 0.0475284568965435, 0.046958938241004944, 0.04740191623568535, 0.04674387350678444, 0.04634349048137665, 0.0463007390499115, 0.04631544277071953, 0.04554280638694763, 0.04542142525315285, 0.04470048472285271, 0.044262781739234924, 0.04357735440135002, 0.0436808243393898, 0.04390239715576172, 0.04314730316400528, 0.04288984090089798, 0.0427832305431366, 0.04213275760412216, 0.042236145585775375, 0.04201647266745567, 0.04156468063592911, 0.041643984615802765, 0.041463661938905716, 0.0410156324505806, 0.04176422953605652, 0.040959589183330536, 0.04094124585390091, 0.040595296770334244, 0.04077883064746857, 0.040247801691293716]\n",
      "mean squared error validation:  [0.058396920561790466, 0.0565279982984066, 0.05024921894073486, 0.05093416944146156, 0.0468837134540081, 0.04556703194975853, 0.04656374081969261, 0.047159191220998764, 0.042607590556144714, 0.0423937663435936, 0.040914151817560196, 0.04055611789226532, 0.040679123252630234, 0.04038850590586662, 0.03931841626763344, 0.03932087495923042, 0.03988742455840111, 0.03779982775449753, 0.037539586424827576, 0.038315385580062866, 0.037818681448698044, 0.03740639612078667, 0.03802225738763809, 0.03746636211872101, 0.03685580566525459, 0.036507897078990936, 0.03658668324351311, 0.036502718925476074, 0.036197416484355927, 0.03526593744754791, 0.03613065183162689, 0.03402557969093323, 0.03240005671977997, 0.03241625428199768, 0.032041218131780624, 0.03268090635538101, 0.03155107796192169, 0.03172820061445236, 0.03168611600995064, 0.03198535740375519, 0.03190749138593674, 0.030865460634231567, 0.03280618414282799, 0.031401533633470535, 0.03108253888785839, 0.031174391508102417, 0.030627785250544548, 0.031425975263118744, 0.03117535263299942, 0.0310408566147089, 0.030659839510917664, 0.030896581709384918]\n"
     ]
    }
   ],
   "source": [
    "# DISPLAY ALL HISTORY LOSS CURVES FOR EACH MODEL ABOVE (NOTE: REPEATE FOR EACH x4)\n",
    "\n",
    "for hist in multi_all_models:\n",
    "  # PLOT LOSS VALUES\n",
    "  pyplot.plot(hist.history['loss'])\n",
    "  pyplot.plot(hist.history['val_loss'])\n",
    "  pyplot.title('model train vs validation loss')\n",
    "  pyplot.ylabel('loss')\n",
    "  pyplot.xlabel('epoch')\n",
    "  pyplot.legend(['train', 'validation'], loc='upper right')\n",
    "  pyplot.show()\n",
    "  print(\"mean squared error training: \", hist.history['loss'])\n",
    "  print(\"mean squared error validation: \", hist.history['val_loss'])"
   ]
  },
  {
   "cell_type": "markdown",
   "metadata": {
    "id": "dMtxTQcNJKfm"
   },
   "source": [
    "## All MSE"
   ]
  },
  {
   "cell_type": "code",
   "execution_count": null,
   "metadata": {
    "colab": {
     "base_uri": "https://localhost:8080/",
     "height": 104
    },
    "executionInfo": {
     "elapsed": 1913280,
     "status": "ok",
     "timestamp": 1603959361755,
     "user": {
      "displayName": "Ammar Pervez",
      "photoUrl": "https://lh3.googleusercontent.com/a-/AOh14Gi8WNzfv_BTIPuGu9Hlf2ww8310r8CAWukW9jAvsPc=s64",
      "userId": "03225736955727170639"
     },
     "user_tz": -480
    },
    "id": "VBvUFYTZ8S5p",
    "outputId": "60a44448-93b6-4ff5-cc26-0f3ec3dfb043"
   },
   "outputs": [
    {
     "data": {
      "text/plain": [
       "Index(['RottHeight', 'CottHeight', 'RottHeight on 2 Step Forecast ',\n",
       "       'RottHeight on 6 Step Forecast ', 'RottHeight on 12 Step Forecast ',\n",
       "       'CottHeight on 2 Step Forecast ', 'CottHeight on 6 Step Forecast ',\n",
       "       'CottHeight on 12 Step Forecast '],\n",
       "      dtype='object')"
      ]
     },
     "execution_count": 60,
     "metadata": {
      "tags": []
     },
     "output_type": "execute_result"
    }
   ],
   "source": [
    "multi_Final_df.columns"
   ]
  },
  {
   "cell_type": "code",
   "execution_count": null,
   "metadata": {
    "colab": {
     "base_uri": "https://localhost:8080/",
     "height": 260
    },
    "executionInfo": {
     "elapsed": 1063,
     "status": "ok",
     "timestamp": 1603959364399,
     "user": {
      "displayName": "Ammar Pervez",
      "photoUrl": "https://lh3.googleusercontent.com/a-/AOh14Gi8WNzfv_BTIPuGu9Hlf2ww8310r8CAWukW9jAvsPc=s64",
      "userId": "03225736955727170639"
     },
     "user_tz": -480
    },
    "id": "motokwdCJKfn",
    "outputId": "79e5f270-be1b-4852-88c3-fdda4466a992"
   },
   "outputs": [
    {
     "name": "stdout",
     "output_type": "stream",
     "text": [
      "Univariate MSEs\n",
      "Rott Height 2 Steps Forecast : 0.025\n",
      "Rott Height 6 Steps Forecast: 0.058\n",
      "Rott Height 12 Steps Forecast: 0.13\n",
      "Cott Height 2 Steps Forecast: 0.007\n",
      "Cott Height 6 Steps Forecast: 0.017\n",
      "Cott Height 12 Steps Forecast: 0.038\n",
      "Multivariate MSEs\n",
      "Rott Height 2 Steps Forecast : 0.028\n",
      "Rott Height 6 Steps Forecast: 0.055\n",
      "Rott Height 12 Steps Forecast: 0.12\n",
      "Cott Height 2 Steps Forecast: 0.0055\n",
      "Cott Height 6 Steps Forecast: 0.017\n",
      "Cott Height 12 Steps Forecast: 0.032\n"
     ]
    }
   ],
   "source": [
    "from sklearn.metrics import mean_squared_error\n",
    "from sklearn.metrics import explained_variance_score\n",
    "\n",
    "\n",
    "print('Univariate MSEs')\n",
    "\n",
    "withoutNAN=Final_df.dropna()\n",
    "\n",
    "Rott_2_forecast=mean_squared_error(withoutNAN['RottHeight'],withoutNAN[\"['RottHeight'] on 2 Forecast \"])\n",
    "Rott_6_forecast=mean_squared_error(withoutNAN['RottHeight'],withoutNAN[\"['RottHeight'] on 6 Forecast \"])\n",
    "Rott_12_forecast=mean_squared_error(withoutNAN['RottHeight'],withoutNAN[\"['RottHeight'] on 12 Forecast \"])\n",
    "# withoutNAN\n",
    "\n",
    "print('Rott Height 2 Steps Forecast : {:2.2}'.format(Rott_2_forecast))\n",
    "print('Rott Height 6 Steps Forecast: {:2.2}'.format(Rott_6_forecast))\n",
    "print('Rott Height 12 Steps Forecast: {:2.2}'.format(Rott_12_forecast))\n",
    "\n",
    "Cott_2_forecast=mean_squared_error(withoutNAN['CottHeight'],withoutNAN[\"['CottHeight'] on 2 Forecast \"])\n",
    "Cott_6_forecast=mean_squared_error(withoutNAN['CottHeight'],withoutNAN[\"['CottHeight'] on 6 Forecast \"])\n",
    "Cott_12_forecast=mean_squared_error(withoutNAN['CottHeight'],withoutNAN[\"['CottHeight'] on 12 Forecast \"])\n",
    "# withoutNAN\n",
    "\n",
    "\n",
    "print('Cott Height 2 Steps Forecast: {:2.2}'.format(Cott_2_forecast))\n",
    "print('Cott Height 6 Steps Forecast: {:2.2}'.format(Cott_6_forecast))\n",
    "print('Cott Height 12 Steps Forecast: {:2.2}'.format(Cott_12_forecast))\n",
    "\n",
    "\n",
    "print('Multivariate MSEs')\n",
    "\n",
    "withoutNAN_multi=multi_Final_df.dropna()\n",
    "Rott_2_forecast=mean_squared_error(withoutNAN_multi['RottHeight'],withoutNAN_multi[\"RottHeight on 2 Step Forecast \"])\n",
    "Rott_6_forecast=mean_squared_error(withoutNAN_multi['RottHeight'],withoutNAN_multi[\"RottHeight on 6 Step Forecast \"])\n",
    "Rott_12_forecast=mean_squared_error(withoutNAN_multi['RottHeight'],withoutNAN_multi[\"RottHeight on 12 Step Forecast \"])\n",
    "# withoutNAN_multi\n",
    "\n",
    "print('Rott Height 2 Steps Forecast : {:2.2}'.format(Rott_2_forecast))\n",
    "print('Rott Height 6 Steps Forecast: {:2.2}'.format(Rott_6_forecast))\n",
    "print('Rott Height 12 Steps Forecast: {:2.2}'.format(Rott_12_forecast))\n",
    "\n",
    "Cott_2_forecast=mean_squared_error(withoutNAN_multi['CottHeight'],withoutNAN_multi[\"CottHeight on 2 Step Forecast \"])\n",
    "Cott_6_forecast=mean_squared_error(withoutNAN_multi['CottHeight'],withoutNAN_multi[\"CottHeight on 6 Step Forecast \"])\n",
    "Cott_12_forecast=mean_squared_error(withoutNAN_multi['CottHeight'],withoutNAN_multi[\"CottHeight on 12 Step Forecast \"])\n",
    "# withoutNAN\n",
    "\n",
    "\n",
    "print('Cott Height 2 Steps Forecast: {:2.2}'.format(Cott_2_forecast))\n",
    "print('Cott Height 6 Steps Forecast: {:2.2}'.format(Cott_6_forecast))\n",
    "print('Cott Height 12 Steps Forecast: {:2.2}'.format(Cott_12_forecast))"
   ]
  },
  {
   "cell_type": "markdown",
   "metadata": {
    "id": "ic3diOe9PPfE"
   },
   "source": [
    "# **PART-2 : EXPERIMENTS WITH DYNAMIC+STATIC MODELS**\n",
    "\n",
    "# Forecast Predictor Model\n",
    "\n",
    "- After the experiments above we have decided to use the following models for future experiements with the best static models\n",
    "\n",
    "   - CottHeight_Uni_12 Step_HeightWeights\n",
    "   - RottHeight_Multi_06 Step_HeightWeights"
   ]
  },
  {
   "cell_type": "markdown",
   "metadata": {
    "id": "lJ65ffl1hyYw"
   },
   "source": [
    "\n",
    "\n",
    "  "
   ]
  },
  {
   "cell_type": "markdown",
   "metadata": {
    "id": "7OE5hOTModdk"
   },
   "source": [
    "# Combined Dynamic(LSTM) and  Static(LGBM) MODELS\n",
    "There are two experiments performed in this section\n",
    "\n",
    "1. Use static model to predict Cott Height, then use univariate forecast model on predicted Cott height time series\n",
    "  2. Use forecast model to forecast Rott Height time series, then use static model on this time series to get precition for Cott Height\n",
    "y"
   ]
  },
  {
   "cell_type": "markdown",
   "metadata": {
    "id": "VC-0FWWKn4PS"
   },
   "source": [
    "# STATIC TO DYNAMIC MODEL \n",
    "( COTTESLOE FORECAST(LSTM) USING PREDICTED COTTESLOE(GBM Model)"
   ]
  },
  {
   "cell_type": "markdown",
   "metadata": {
    "id": "7DAdaSOLlyUt"
   },
   "source": [
    "\n",
    "1. Use static model to predict Cott Height, then use forecast model on predicted Cott height. Use static model to predict Cott Height, then use forecast model on predicted Cott height\n",
    "\n",
    "Load packages, mount drive and import data.\n",
    "\n",
    "\n",
    "Note that the data is already wrangled from a previous step in the pipeline and is in a usable form for modling (no missing values, etc)."
   ]
  },
  {
   "cell_type": "markdown",
   "metadata": {
    "id": "f_Ad86cVpkdm"
   },
   "source": [
    "## Setup"
   ]
  },
  {
   "cell_type": "code",
   "execution_count": null,
   "metadata": {
    "id": "0aw8lIzrCAal"
   },
   "outputs": [],
   "source": [
    "model_to_load = 'CottHeight_Uni_12 Step_HeightWeights.h5'\n",
    "steps_future= 12"
   ]
  },
  {
   "cell_type": "code",
   "execution_count": null,
   "metadata": {
    "id": "lhn6qdboOUwk"
   },
   "outputs": [],
   "source": [
    "#import os\n",
    "#os.chdir('/content/drive/My Drive/Colab Notebooks')"
   ]
  },
  {
   "cell_type": "code",
   "execution_count": null,
   "metadata": {
    "colab": {
     "base_uri": "https://localhost:8080/",
     "height": 35
    },
    "executionInfo": {
     "elapsed": 1807,
     "status": "ok",
     "timestamp": 1604034467944,
     "user": {
      "displayName": "Ammar Pervez",
      "photoUrl": "https://lh3.googleusercontent.com/a-/AOh14Gi8WNzfv_BTIPuGu9Hlf2ww8310r8CAWukW9jAvsPc=s64",
      "userId": "03225736955727170639"
     },
     "user_tz": -480
    },
    "id": "te-vmCXolyU2",
    "outputId": "a73dbdc5-1be3-4dcd-de4d-598addd17f8a"
   },
   "outputs": [
    {
     "data": {
      "application/vnd.google.colaboratory.intrinsic+json": {
       "type": "string"
      },
      "text/plain": [
       "'/content/drive/My Drive/Colab Notebooks'"
      ]
     },
     "execution_count": 85,
     "metadata": {
      "tags": []
     },
     "output_type": "execute_result"
    }
   ],
   "source": [
    "# YOUR CURRENT DIRECTORY (FOR REFERENCE)\n",
    "os.getcwd()"
   ]
  },
  {
   "cell_type": "markdown",
   "metadata": {
    "id": "LgOpotI_PLYq"
   },
   "source": [
    "##Static Model Prediction"
   ]
  },
  {
   "cell_type": "code",
   "execution_count": null,
   "metadata": {
    "id": "KkIlMwItO3bw"
   },
   "outputs": [],
   "source": [
    "# Load from file\n",
    "height_fname = 'height.pkl'\n",
    "with open(height_fname, 'rb') as file:\n",
    "    height_model = pickle.load(file)"
   ]
  },
  {
   "cell_type": "code",
   "execution_count": null,
   "metadata": {
    "id": "Y08YFU9yPFcb"
   },
   "outputs": [],
   "source": [
    "# # WAVE HEIGHT MODEL\n",
    "\n",
    "# # Load from file\n",
    "# height_fname = 'height.pkl'\n",
    "# with open(height_fname, 'rb') as file:\n",
    "#     height_model = pickle.load(file)\n",
    "\n",
    "# Feature Engineering      --------------------------------------------------------\n",
    "\n",
    "# extract the hour, day, and month\n",
    "height_df = waves.copy()\n",
    "time_series = pd.to_datetime(height_df['DateTime'])\n",
    "height_df['month'] = time_series.dt.month\n",
    "height_df['day'] = time_series.dt.day\n",
    "height_df['hour'] = time_series.dt.hour\n",
    "\n",
    "del height_df['DateTime']\n",
    "del height_df['CottPeakPeriod']\n",
    "del height_df['CottDirection']\n",
    "\n",
    "order = ['month', 'day', 'hour', 'RottHeight', 'RottPeakPeriod', 'RottDirection', 'CottHeight']\n",
    "height_df = height_df[order]\n",
    "\n",
    "# use bin method to treat time feature as category variable\n",
    "# After applying to the model, we found that the \"bins of hour\" almost has no effect on the model result,\n",
    "# so we remove it to reduce dimension in case of overfitting. \n",
    "\n",
    "bins_of_month = [0, 4 ,7, 9, 13]\n",
    "height_df['month'] = pd.cut(height_df['month'], bins_of_month, labels=[1, 2, 3, 4])\n",
    "\n",
    "bins_of_day = [0, 10 ,20, 32]\n",
    "height_df['day'] = pd.cut(height_df['day'], bins_of_day, labels=[1, 2, 3])\n",
    "\n",
    "# bins_of_hour = [-1, 6 ,12, 18, 25]\n",
    "# df['hour'] = pd.cut(df['hour'], bins_of_hour, labels=[1, 2, 3,4])\n",
    "del height_df['hour']\n",
    "# use OneHot Encoding to make all values of the categorical features are equally away from each other,\n",
    "# and it help to avoid the overfitting caused by the gradient descent in high dimension. \n",
    "col_names = ['month','day']\n",
    "for col in col_names:  \n",
    "    OnehotEn = pd.get_dummies(height_df[col], prefix=col)\n",
    "    height_df.drop([col], axis=1, inplace=True)\n",
    "    height_df = pd.concat([height_df, OnehotEn], axis=1)\n",
    "\n",
    "\n",
    "#normalize numerical feature to make the model faster to find the optimal solution during training\n",
    "z_scaler = lambda x : (x - np.mean(x)) / np.std(x)\n",
    "height_df_ = height_df[['RottHeight', 'RottPeakPeriod', 'RottDirection']].apply(z_scaler)\n",
    "\n",
    "del height_df['RottHeight']\n",
    "del height_df['RottPeakPeriod']\n",
    "del height_df['RottDirection']\n",
    "\n",
    "height_df = pd.concat([height_df,height_df_],axis=1)\n",
    "label_y = height_df['CottHeight']\n",
    "height_df.drop(['CottHeight'], axis=1, inplace=True)\n",
    "\n",
    "\n",
    "# # ---------------------------------------------------------------------------------\n",
    "\n",
    "# Make prediction on dynamic model\n",
    "height_pred = height_model.predict(height_df)\n",
    "height_pred.shape\n",
    "# Update result_df\n",
    "height_df['PredCottHeight'] =  height_pred\n",
    "height_df['CottHeight']=label_y\n",
    "#height_df.tail()\n",
    "\n",
    "Predicted_Cott_height = height_df\n",
    "\n",
    "\n",
    "\n",
    "# # # Make prediction on static\n",
    "# # height_pred = height_model.predict(height_df)\n",
    "# # height_pred.shape\n",
    "# # # Update result_df\n",
    "# # height_df['FrcstCottHeight'] =  height_pred\n",
    "# # height_df['CottHeight']=label_y\n",
    "# # #height_df.tail()"
   ]
  },
  {
   "cell_type": "code",
   "execution_count": null,
   "metadata": {
    "colab": {
     "base_uri": "https://localhost:8080/",
     "height": 420
    },
    "executionInfo": {
     "elapsed": 2128,
     "status": "ok",
     "timestamp": 1604034468300,
     "user": {
      "displayName": "Ammar Pervez",
      "photoUrl": "https://lh3.googleusercontent.com/a-/AOh14Gi8WNzfv_BTIPuGu9Hlf2ww8310r8CAWukW9jAvsPc=s64",
      "userId": "03225736955727170639"
     },
     "user_tz": -480
    },
    "id": "DM8SVuhTPFen",
    "outputId": "1ffd0c0e-0715-4d8b-bd44-2b48998dc67b"
   },
   "outputs": [
    {
     "data": {
      "text/html": [
       "<div>\n",
       "<style scoped>\n",
       "    .dataframe tbody tr th:only-of-type {\n",
       "        vertical-align: middle;\n",
       "    }\n",
       "\n",
       "    .dataframe tbody tr th {\n",
       "        vertical-align: top;\n",
       "    }\n",
       "\n",
       "    .dataframe thead th {\n",
       "        text-align: right;\n",
       "    }\n",
       "</style>\n",
       "<table border=\"1\" class=\"dataframe\">\n",
       "  <thead>\n",
       "    <tr style=\"text-align: right;\">\n",
       "      <th></th>\n",
       "      <th>month_1</th>\n",
       "      <th>month_2</th>\n",
       "      <th>month_3</th>\n",
       "      <th>month_4</th>\n",
       "      <th>day_1</th>\n",
       "      <th>day_2</th>\n",
       "      <th>day_3</th>\n",
       "      <th>RottHeight</th>\n",
       "      <th>RottPeakPeriod</th>\n",
       "      <th>RottDirection</th>\n",
       "      <th>PredCottHeight</th>\n",
       "      <th>CottHeight</th>\n",
       "    </tr>\n",
       "    <tr>\n",
       "      <th>DateTime</th>\n",
       "      <th></th>\n",
       "      <th></th>\n",
       "      <th></th>\n",
       "      <th></th>\n",
       "      <th></th>\n",
       "      <th></th>\n",
       "      <th></th>\n",
       "      <th></th>\n",
       "      <th></th>\n",
       "      <th></th>\n",
       "      <th></th>\n",
       "      <th></th>\n",
       "    </tr>\n",
       "  </thead>\n",
       "  <tbody>\n",
       "    <tr>\n",
       "      <th>2015-12-17 22:30:00</th>\n",
       "      <td>0</td>\n",
       "      <td>0</td>\n",
       "      <td>0</td>\n",
       "      <td>1</td>\n",
       "      <td>0</td>\n",
       "      <td>1</td>\n",
       "      <td>0</td>\n",
       "      <td>-0.035041</td>\n",
       "      <td>0.270744</td>\n",
       "      <td>0.020529</td>\n",
       "      <td>0.992733</td>\n",
       "      <td>0.69</td>\n",
       "    </tr>\n",
       "    <tr>\n",
       "      <th>2015-12-17 23:00:00</th>\n",
       "      <td>0</td>\n",
       "      <td>0</td>\n",
       "      <td>0</td>\n",
       "      <td>1</td>\n",
       "      <td>0</td>\n",
       "      <td>1</td>\n",
       "      <td>0</td>\n",
       "      <td>-0.257255</td>\n",
       "      <td>-0.335019</td>\n",
       "      <td>-0.151758</td>\n",
       "      <td>0.919260</td>\n",
       "      <td>0.70</td>\n",
       "    </tr>\n",
       "    <tr>\n",
       "      <th>2015-12-17 23:30:00</th>\n",
       "      <td>0</td>\n",
       "      <td>0</td>\n",
       "      <td>0</td>\n",
       "      <td>1</td>\n",
       "      <td>0</td>\n",
       "      <td>1</td>\n",
       "      <td>0</td>\n",
       "      <td>0.070776</td>\n",
       "      <td>0.270744</td>\n",
       "      <td>-0.151758</td>\n",
       "      <td>1.064615</td>\n",
       "      <td>0.72</td>\n",
       "    </tr>\n",
       "    <tr>\n",
       "      <th>2015-12-18 00:00:00</th>\n",
       "      <td>0</td>\n",
       "      <td>0</td>\n",
       "      <td>0</td>\n",
       "      <td>1</td>\n",
       "      <td>0</td>\n",
       "      <td>1</td>\n",
       "      <td>0</td>\n",
       "      <td>-0.119694</td>\n",
       "      <td>-0.335019</td>\n",
       "      <td>-0.496333</td>\n",
       "      <td>0.984457</td>\n",
       "      <td>0.74</td>\n",
       "    </tr>\n",
       "    <tr>\n",
       "      <th>2015-12-18 00:30:00</th>\n",
       "      <td>0</td>\n",
       "      <td>0</td>\n",
       "      <td>0</td>\n",
       "      <td>1</td>\n",
       "      <td>0</td>\n",
       "      <td>1</td>\n",
       "      <td>0</td>\n",
       "      <td>-0.098530</td>\n",
       "      <td>0.270744</td>\n",
       "      <td>-0.151758</td>\n",
       "      <td>0.979855</td>\n",
       "      <td>0.74</td>\n",
       "    </tr>\n",
       "    <tr>\n",
       "      <th>...</th>\n",
       "      <td>...</td>\n",
       "      <td>...</td>\n",
       "      <td>...</td>\n",
       "      <td>...</td>\n",
       "      <td>...</td>\n",
       "      <td>...</td>\n",
       "      <td>...</td>\n",
       "      <td>...</td>\n",
       "      <td>...</td>\n",
       "      <td>...</td>\n",
       "      <td>...</td>\n",
       "      <td>...</td>\n",
       "    </tr>\n",
       "    <tr>\n",
       "      <th>2019-07-20 00:30:00</th>\n",
       "      <td>0</td>\n",
       "      <td>1</td>\n",
       "      <td>0</td>\n",
       "      <td>0</td>\n",
       "      <td>0</td>\n",
       "      <td>1</td>\n",
       "      <td>0</td>\n",
       "      <td>1.160686</td>\n",
       "      <td>0.638529</td>\n",
       "      <td>-0.582477</td>\n",
       "      <td>1.637782</td>\n",
       "      <td>2.07</td>\n",
       "    </tr>\n",
       "    <tr>\n",
       "      <th>2019-07-20 01:00:00</th>\n",
       "      <td>0</td>\n",
       "      <td>1</td>\n",
       "      <td>0</td>\n",
       "      <td>0</td>\n",
       "      <td>0</td>\n",
       "      <td>1</td>\n",
       "      <td>0</td>\n",
       "      <td>1.446390</td>\n",
       "      <td>1.062896</td>\n",
       "      <td>-1.013195</td>\n",
       "      <td>1.815673</td>\n",
       "      <td>2.11</td>\n",
       "    </tr>\n",
       "    <tr>\n",
       "      <th>2019-07-20 01:30:00</th>\n",
       "      <td>0</td>\n",
       "      <td>1</td>\n",
       "      <td>0</td>\n",
       "      <td>0</td>\n",
       "      <td>0</td>\n",
       "      <td>1</td>\n",
       "      <td>0</td>\n",
       "      <td>1.097196</td>\n",
       "      <td>0.638529</td>\n",
       "      <td>-1.271626</td>\n",
       "      <td>1.695383</td>\n",
       "      <td>1.98</td>\n",
       "    </tr>\n",
       "    <tr>\n",
       "      <th>2019-07-20 02:00:00</th>\n",
       "      <td>0</td>\n",
       "      <td>1</td>\n",
       "      <td>0</td>\n",
       "      <td>0</td>\n",
       "      <td>0</td>\n",
       "      <td>1</td>\n",
       "      <td>0</td>\n",
       "      <td>2.324667</td>\n",
       "      <td>6.155299</td>\n",
       "      <td>-12.642590</td>\n",
       "      <td>2.022994</td>\n",
       "      <td>2.04</td>\n",
       "    </tr>\n",
       "    <tr>\n",
       "      <th>2019-07-20 02:30:00</th>\n",
       "      <td>0</td>\n",
       "      <td>1</td>\n",
       "      <td>0</td>\n",
       "      <td>0</td>\n",
       "      <td>0</td>\n",
       "      <td>1</td>\n",
       "      <td>0</td>\n",
       "      <td>1.340574</td>\n",
       "      <td>1.557991</td>\n",
       "      <td>-1.616201</td>\n",
       "      <td>1.926582</td>\n",
       "      <td>2.01</td>\n",
       "    </tr>\n",
       "  </tbody>\n",
       "</table>\n",
       "<p>60245 rows × 12 columns</p>\n",
       "</div>"
      ],
      "text/plain": [
       "                     month_1  month_2  ...  PredCottHeight  CottHeight\n",
       "DateTime                               ...                            \n",
       "2015-12-17 22:30:00        0        0  ...        0.992733        0.69\n",
       "2015-12-17 23:00:00        0        0  ...        0.919260        0.70\n",
       "2015-12-17 23:30:00        0        0  ...        1.064615        0.72\n",
       "2015-12-18 00:00:00        0        0  ...        0.984457        0.74\n",
       "2015-12-18 00:30:00        0        0  ...        0.979855        0.74\n",
       "...                      ...      ...  ...             ...         ...\n",
       "2019-07-20 00:30:00        0        1  ...        1.637782        2.07\n",
       "2019-07-20 01:00:00        0        1  ...        1.815673        2.11\n",
       "2019-07-20 01:30:00        0        1  ...        1.695383        1.98\n",
       "2019-07-20 02:00:00        0        1  ...        2.022994        2.04\n",
       "2019-07-20 02:30:00        0        1  ...        1.926582        2.01\n",
       "\n",
       "[60245 rows x 12 columns]"
      ]
     },
     "execution_count": 88,
     "metadata": {
      "tags": []
     },
     "output_type": "execute_result"
    }
   ],
   "source": [
    "Predicted_Cott_height"
   ]
  },
  {
   "cell_type": "code",
   "execution_count": null,
   "metadata": {
    "id": "UlQJf4GnRd8f"
   },
   "outputs": [],
   "source": []
  },
  {
   "cell_type": "markdown",
   "metadata": {
    "id": "iFve3myJlyVK"
   },
   "source": [
    "## Cottlsloe Forecast (Univariate Model)\n",
    "\n",
    "\n"
   ]
  },
  {
   "cell_type": "markdown",
   "metadata": {
    "id": "uCKJo8j-lyVL"
   },
   "source": [
    "### Prepare Data (Univariate Model)\n",
    "\n",
    "We will concentrate on a **Univariate LSTM Model** that predicts **Cottnest Height** given **Cottnest Height** as the only input. \n",
    "\n",
    "Below are the steps requried to prepare the data for training."
   ]
  },
  {
   "cell_type": "code",
   "execution_count": null,
   "metadata": {
    "colab": {
     "base_uri": "https://localhost:8080/"
    },
    "executionInfo": {
     "elapsed": 2108,
     "status": "ok",
     "timestamp": 1604034468302,
     "user": {
      "displayName": "Ammar Pervez",
      "photoUrl": "https://lh3.googleusercontent.com/a-/AOh14Gi8WNzfv_BTIPuGu9Hlf2ww8310r8CAWukW9jAvsPc=s64",
      "userId": "03225736955727170639"
     },
     "user_tz": -480
    },
    "id": "H_2e0NZtlyVL",
    "outputId": "4ea66b93-5610-4440-cfed-a14a2902823a"
   },
   "outputs": [
    {
     "name": "stdout",
     "output_type": "stream",
     "text": [
      "Training set shape: (60245, 1)\n",
      "Features Selected: ['PredCottHeight']\n"
     ]
    }
   ],
   "source": [
    "# SELECT FEATURES INVOLVED IN TRAINING AND PREDICTIONS\n",
    "cols = [\"PredCottHeight\"]\n",
    "\n",
    "# ISOLATE TRAINING SET WITH ONLY cols THAT ARE REQUIRED\n",
    "dataset_train = Predicted_Cott_height[cols]\n",
    "\n",
    "# CONVERT TO ARRAY\n",
    "training_set = dataset_train.to_numpy()\n",
    "\n",
    "# PRINT SUMMARY\n",
    "print(\"Training set shape: {}\".format(training_set.shape) )\n",
    "print(\"Features Selected: {}\".format(cols))"
   ]
  },
  {
   "cell_type": "code",
   "execution_count": null,
   "metadata": {
    "colab": {
     "base_uri": "https://localhost:8080/"
    },
    "executionInfo": {
     "elapsed": 2429,
     "status": "ok",
     "timestamp": 1604034468641,
     "user": {
      "displayName": "Ammar Pervez",
      "photoUrl": "https://lh3.googleusercontent.com/a-/AOh14Gi8WNzfv_BTIPuGu9Hlf2ww8310r8CAWukW9jAvsPc=s64",
      "userId": "03225736955727170639"
     },
     "user_tz": -480
    },
    "id": "UyUURTbalyVN",
    "outputId": "0289e42d-3ca6-4f8b-f4b4-545fd45b59c2"
   },
   "outputs": [
    {
     "name": "stdout",
     "output_type": "stream",
     "text": [
      "X shape: (60138, 96, 1)\n",
      "y shape: (60138, 1)\n"
     ]
    }
   ],
   "source": [
    "\"\"\"\n",
    "must change n for tests\n",
    "\"\"\"\n",
    "\n",
    "# CONSTRUCT X and y SETS\n",
    "X = []    # each item is a window of size n_past\n",
    "y = []    # corresponding y val that each window tries to predict\n",
    "\n",
    "n_future = steps_future    # number of data points to predict in the future\n",
    "n_past = 96     # number of past data points to use for predicting the future\n",
    "\n",
    "# BUILD X AND y\n",
    "for i in range(n_past, len(training_set) - n_future + 1):\n",
    "  X.append( training_set[ i - n_past:i, 0:dataset_train.shape[1] ] )\n",
    "  y.append( training_set[ i + n_future - 1:i + n_future, 0 ] )\n",
    "\n",
    "X, y = np.array(X), np.array(y)\n",
    "\n",
    "print(\"X shape: {}\".format(X.shape))\n",
    "print(\"y shape: {}\".format(y.shape))"
   ]
  },
  {
   "cell_type": "markdown",
   "metadata": {
    "id": "5cvx9vtTlyVQ"
   },
   "source": [
    "### Train LSTM Model\n",
    "\n",
    "The parameters below are chosen arbitrarily. A future point of research would be to test different hyperparameters of the LSTM model to provide an improved model. However, this is not the scope of what this notebook is trying to acheive."
   ]
  },
  {
   "cell_type": "code",
   "execution_count": null,
   "metadata": {
    "colab": {
     "base_uri": "https://localhost:8080/"
    },
    "executionInfo": {
     "elapsed": 2805,
     "status": "ok",
     "timestamp": 1604034469031,
     "user": {
      "displayName": "Ammar Pervez",
      "photoUrl": "https://lh3.googleusercontent.com/a-/AOh14Gi8WNzfv_BTIPuGu9Hlf2ww8310r8CAWukW9jAvsPc=s64",
      "userId": "03225736955727170639"
     },
     "user_tz": -480
    },
    "id": "BWUXfBxXlyVR",
    "outputId": "158d73c9-5452-43ae-ba72-9bc63fc3d33a"
   },
   "outputs": [
    {
     "name": "stdout",
     "output_type": "stream",
     "text": [
      "Model: \"sequential_3\"\n",
      "_________________________________________________________________\n",
      "Layer (type)                 Output Shape              Param #   \n",
      "=================================================================\n",
      "lstm_6 (LSTM)                (None, 96, 64)            16896     \n",
      "_________________________________________________________________\n",
      "lstm_7 (LSTM)                (None, 30)                11400     \n",
      "_________________________________________________________________\n",
      "dropout_3 (Dropout)          (None, 30)                0         \n",
      "_________________________________________________________________\n",
      "dense_3 (Dense)              (None, 1)                 31        \n",
      "=================================================================\n",
      "Total params: 28,327\n",
      "Trainable params: 28,327\n",
      "Non-trainable params: 0\n",
      "_________________________________________________________________\n"
     ]
    }
   ],
   "source": [
    "# BUILD LSTM MODEL\n",
    "model_univar = Sequential()                                                                               # initialise LSTM neural network\n",
    "\n",
    "model_univar.add(LSTM(units=64, return_sequences= True, input_shape=(n_past,dataset_train.shape[1])))     # 1st layer\n",
    "model_univar.add(LSTM(units=30, return_sequences = False))                                                # 2nd layer\n",
    "model_univar.add(Dropout(0.55))                                                                           # Dropout layer\n",
    "model_univar.add(Dense(units=1, activation='linear'))                                                     # Output Layer\n",
    "\n",
    "model_univar.compile(optimizer = Adam(learning_rate=0.0001), loss= 'mean_squared_error')                  # compile model\n",
    "\n",
    "# PRINT SUMMARY\n",
    "model_univar.summary()"
   ]
  },
  {
   "cell_type": "markdown",
   "metadata": {
    "id": "ycKcIUamScAF"
   },
   "source": [
    "### Loading LSTM Weights"
   ]
  },
  {
   "cell_type": "code",
   "execution_count": null,
   "metadata": {
    "id": "_LxmjRoWlyVV"
   },
   "outputs": [],
   "source": [
    "from keras.models import load_model\n",
    "\n",
    "# returns a compiled model\n",
    "# identical to the previous one\n",
    "model=model_univar.load_weights(model_to_load)"
   ]
  },
  {
   "cell_type": "markdown",
   "metadata": {
    "id": "GkPWPBAtlyVZ"
   },
   "source": [
    "### Prediction\n"
   ]
  },
  {
   "cell_type": "code",
   "execution_count": null,
   "metadata": {
    "id": "gswVOKsOlyVZ"
   },
   "outputs": [],
   "source": [
    "# PREDICTIONS MADE ON PAST VALUES\n",
    "predictions_past = model_univar.predict(X[n_past:])\n",
    "\n",
    "# CONSTRUCT A DF TO HOLD RESULTS\n",
    "univar_pst_result_df = dataset_train[2 * n_past + n_future -1:].copy()                    # now reference the true set\n",
    "univar_pst_result_df['DynPredCottHeight'] = predictions_past                                 # add prediction column to trueset\n",
    "#univar_pst_result_df = univar_pst_result_df.rename(columns={\"CottHeight\": \"ActlRottHeight\"})\n",
    "univar_pst_result_df=univar_pst_result_df.drop('PredCottHeight',axis=1)\n"
   ]
  },
  {
   "cell_type": "code",
   "execution_count": null,
   "metadata": {
    "colab": {
     "base_uri": "https://localhost:8080/",
     "height": 220
    },
    "executionInfo": {
     "elapsed": 993,
     "status": "ok",
     "timestamp": 1604034529364,
     "user": {
      "displayName": "Ammar Pervez",
      "photoUrl": "https://lh3.googleusercontent.com/a-/AOh14Gi8WNzfv_BTIPuGu9Hlf2ww8310r8CAWukW9jAvsPc=s64",
      "userId": "03225736955727170639"
     },
     "user_tz": -480
    },
    "id": "xOEQqB2JrcTh",
    "outputId": "6d96edae-b4fa-4fb1-9e24-078173442ec0"
   },
   "outputs": [
    {
     "data": {
      "text/html": [
       "<div>\n",
       "<style scoped>\n",
       "    .dataframe tbody tr th:only-of-type {\n",
       "        vertical-align: middle;\n",
       "    }\n",
       "\n",
       "    .dataframe tbody tr th {\n",
       "        vertical-align: top;\n",
       "    }\n",
       "\n",
       "    .dataframe thead th {\n",
       "        text-align: right;\n",
       "    }\n",
       "</style>\n",
       "<table border=\"1\" class=\"dataframe\">\n",
       "  <thead>\n",
       "    <tr style=\"text-align: right;\">\n",
       "      <th></th>\n",
       "      <th>DynPredCottHeight</th>\n",
       "    </tr>\n",
       "    <tr>\n",
       "      <th>DateTime</th>\n",
       "      <th></th>\n",
       "    </tr>\n",
       "  </thead>\n",
       "  <tbody>\n",
       "    <tr>\n",
       "      <th>2015-12-22 04:00:00</th>\n",
       "      <td>0.564247</td>\n",
       "    </tr>\n",
       "    <tr>\n",
       "      <th>2015-12-22 04:30:00</th>\n",
       "      <td>0.538918</td>\n",
       "    </tr>\n",
       "    <tr>\n",
       "      <th>2015-12-22 05:00:00</th>\n",
       "      <td>0.534137</td>\n",
       "    </tr>\n",
       "    <tr>\n",
       "      <th>2015-12-22 05:30:00</th>\n",
       "      <td>0.531509</td>\n",
       "    </tr>\n",
       "    <tr>\n",
       "      <th>2015-12-22 06:00:00</th>\n",
       "      <td>0.527579</td>\n",
       "    </tr>\n",
       "  </tbody>\n",
       "</table>\n",
       "</div>"
      ],
      "text/plain": [
       "                     DynPredCottHeight\n",
       "DateTime                              \n",
       "2015-12-22 04:00:00           0.564247\n",
       "2015-12-22 04:30:00           0.538918\n",
       "2015-12-22 05:00:00           0.534137\n",
       "2015-12-22 05:30:00           0.531509\n",
       "2015-12-22 06:00:00           0.527579"
      ]
     },
     "execution_count": 95,
     "metadata": {
      "tags": []
     },
     "output_type": "execute_result"
    }
   ],
   "source": [
    "\n",
    "univar_pst_result_df.head()"
   ]
  },
  {
   "cell_type": "markdown",
   "metadata": {
    "id": "yGcHCy2_3yZX"
   },
   "source": [
    "#Static to Dynamic Final Results"
   ]
  },
  {
   "cell_type": "code",
   "execution_count": null,
   "metadata": {
    "colab": {
     "base_uri": "https://localhost:8080/",
     "height": 420
    },
    "executionInfo": {
     "elapsed": 1357,
     "status": "ok",
     "timestamp": 1604034529744,
     "user": {
      "displayName": "Ammar Pervez",
      "photoUrl": "https://lh3.googleusercontent.com/a-/AOh14Gi8WNzfv_BTIPuGu9Hlf2ww8310r8CAWukW9jAvsPc=s64",
      "userId": "03225736955727170639"
     },
     "user_tz": -480
    },
    "id": "1Cs-xR3UTkWR",
    "outputId": "686dfdec-bf4f-4439-bcf0-cb58f9347911"
   },
   "outputs": [
    {
     "data": {
      "text/html": [
       "<div>\n",
       "<style scoped>\n",
       "    .dataframe tbody tr th:only-of-type {\n",
       "        vertical-align: middle;\n",
       "    }\n",
       "\n",
       "    .dataframe tbody tr th {\n",
       "        vertical-align: top;\n",
       "    }\n",
       "\n",
       "    .dataframe thead th {\n",
       "        text-align: right;\n",
       "    }\n",
       "</style>\n",
       "<table border=\"1\" class=\"dataframe\">\n",
       "  <thead>\n",
       "    <tr style=\"text-align: right;\">\n",
       "      <th></th>\n",
       "      <th>PredCottHeight</th>\n",
       "      <th>CottHeight</th>\n",
       "      <th>DynPredCottHeight</th>\n",
       "    </tr>\n",
       "    <tr>\n",
       "      <th>DateTime</th>\n",
       "      <th></th>\n",
       "      <th></th>\n",
       "      <th></th>\n",
       "    </tr>\n",
       "  </thead>\n",
       "  <tbody>\n",
       "    <tr>\n",
       "      <th>2015-12-17 22:30:00</th>\n",
       "      <td>0.992733</td>\n",
       "      <td>0.69</td>\n",
       "      <td>NaN</td>\n",
       "    </tr>\n",
       "    <tr>\n",
       "      <th>2015-12-17 23:00:00</th>\n",
       "      <td>0.919260</td>\n",
       "      <td>0.70</td>\n",
       "      <td>NaN</td>\n",
       "    </tr>\n",
       "    <tr>\n",
       "      <th>2015-12-17 23:30:00</th>\n",
       "      <td>1.064615</td>\n",
       "      <td>0.72</td>\n",
       "      <td>NaN</td>\n",
       "    </tr>\n",
       "    <tr>\n",
       "      <th>2015-12-18 00:00:00</th>\n",
       "      <td>0.984457</td>\n",
       "      <td>0.74</td>\n",
       "      <td>NaN</td>\n",
       "    </tr>\n",
       "    <tr>\n",
       "      <th>2015-12-18 00:30:00</th>\n",
       "      <td>0.979855</td>\n",
       "      <td>0.74</td>\n",
       "      <td>NaN</td>\n",
       "    </tr>\n",
       "    <tr>\n",
       "      <th>...</th>\n",
       "      <td>...</td>\n",
       "      <td>...</td>\n",
       "      <td>...</td>\n",
       "    </tr>\n",
       "    <tr>\n",
       "      <th>2019-07-20 00:30:00</th>\n",
       "      <td>1.637782</td>\n",
       "      <td>2.07</td>\n",
       "      <td>1.910643</td>\n",
       "    </tr>\n",
       "    <tr>\n",
       "      <th>2019-07-20 01:00:00</th>\n",
       "      <td>1.815673</td>\n",
       "      <td>2.11</td>\n",
       "      <td>1.997373</td>\n",
       "    </tr>\n",
       "    <tr>\n",
       "      <th>2019-07-20 01:30:00</th>\n",
       "      <td>1.695383</td>\n",
       "      <td>1.98</td>\n",
       "      <td>1.778114</td>\n",
       "    </tr>\n",
       "    <tr>\n",
       "      <th>2019-07-20 02:00:00</th>\n",
       "      <td>2.022994</td>\n",
       "      <td>2.04</td>\n",
       "      <td>2.092569</td>\n",
       "    </tr>\n",
       "    <tr>\n",
       "      <th>2019-07-20 02:30:00</th>\n",
       "      <td>1.926582</td>\n",
       "      <td>2.01</td>\n",
       "      <td>1.906312</td>\n",
       "    </tr>\n",
       "  </tbody>\n",
       "</table>\n",
       "<p>60245 rows × 3 columns</p>\n",
       "</div>"
      ],
      "text/plain": [
       "                     PredCottHeight  CottHeight  DynPredCottHeight\n",
       "DateTime                                                          \n",
       "2015-12-17 22:30:00        0.992733        0.69                NaN\n",
       "2015-12-17 23:00:00        0.919260        0.70                NaN\n",
       "2015-12-17 23:30:00        1.064615        0.72                NaN\n",
       "2015-12-18 00:00:00        0.984457        0.74                NaN\n",
       "2015-12-18 00:30:00        0.979855        0.74                NaN\n",
       "...                             ...         ...                ...\n",
       "2019-07-20 00:30:00        1.637782        2.07           1.910643\n",
       "2019-07-20 01:00:00        1.815673        2.11           1.997373\n",
       "2019-07-20 01:30:00        1.695383        1.98           1.778114\n",
       "2019-07-20 02:00:00        2.022994        2.04           2.092569\n",
       "2019-07-20 02:30:00        1.926582        2.01           1.906312\n",
       "\n",
       "[60245 rows x 3 columns]"
      ]
     },
     "execution_count": 96,
     "metadata": {
      "tags": []
     },
     "output_type": "execute_result"
    }
   ],
   "source": [
    "# FINAL Dataframe\n",
    "\n",
    "_S2D_Final_df=Predicted_Cott_height.drop(Predicted_Cott_height.columns.difference(['CottHeight','PredCottHeight']),axis=1)\n",
    "S2D_Final_df= _S2D_Final_df.join(univar_pst_result_df)\n",
    "S2D_Final_df"
   ]
  },
  {
   "cell_type": "code",
   "execution_count": null,
   "metadata": {
    "id": "Lv7_ZHdkV4L9"
   },
   "outputs": [],
   "source": [
    "#S2D_Final_df.head(100)"
   ]
  },
  {
   "cell_type": "markdown",
   "metadata": {
    "id": "MnIc7HwyYVl4"
   },
   "source": [
    "## MSE"
   ]
  },
  {
   "cell_type": "code",
   "execution_count": null,
   "metadata": {
    "colab": {
     "base_uri": "https://localhost:8080/"
    },
    "executionInfo": {
     "elapsed": 1343,
     "status": "ok",
     "timestamp": 1604034529747,
     "user": {
      "displayName": "Ammar Pervez",
      "photoUrl": "https://lh3.googleusercontent.com/a-/AOh14Gi8WNzfv_BTIPuGu9Hlf2ww8310r8CAWukW9jAvsPc=s64",
      "userId": "03225736955727170639"
     },
     "user_tz": -480
    },
    "id": "pzVWi59JYVJC",
    "outputId": "ce139eff-b2db-433f-aa42-493508dd9121"
   },
   "outputs": [
    {
     "name": "stdout",
     "output_type": "stream",
     "text": [
      "Cott Height Forecast: 0.058\n"
     ]
    }
   ],
   "source": [
    "from sklearn.metrics import mean_squared_error\n",
    "from sklearn.metrics import explained_variance_score\n",
    "\n",
    "withoutNAN=S2D_Final_df.dropna()\n",
    "Cott_forecast=mean_squared_error(withoutNAN['CottHeight'],withoutNAN[\"DynPredCottHeight\"])\n",
    "\n",
    "print('Cott Height Forecast: {:2.2}'.format(Cott_forecast))"
   ]
  },
  {
   "cell_type": "markdown",
   "metadata": {
    "id": "tAXQQybH4cCy"
   },
   "source": [
    "## VISUALISE PREDICTIONS"
   ]
  },
  {
   "cell_type": "code",
   "execution_count": null,
   "metadata": {
    "colab": {
     "base_uri": "https://localhost:8080/",
     "height": 352
    },
    "executionInfo": {
     "elapsed": 1886,
     "status": "ok",
     "timestamp": 1604035997168,
     "user": {
      "displayName": "Ammar Pervez",
      "photoUrl": "https://lh3.googleusercontent.com/a-/AOh14Gi8WNzfv_BTIPuGu9Hlf2ww8310r8CAWukW9jAvsPc=s64",
      "userId": "03225736955727170639"
     },
     "user_tz": -480
    },
    "id": "AtjhRZwjlyVm",
    "outputId": "c3c99c7a-90d2-48d5-c22c-9653d6aa5723"
   },
   "outputs": [
    {
     "data": {
      "text/plain": [
       "Text(0.5, 1.0, 'Forecasted Results Univariate Model')"
      ]
     },
     "execution_count": 122,
     "metadata": {
      "tags": []
     },
     "output_type": "execute_result"
    },
    {
     "data": {
      "image/png": "[encoded data removed]",
      "text/plain": [
       "<Figure size 1008x360 with 1 Axes>"
      ]
     },
     "metadata": {
      "needs_background": "light",
      "tags": []
     },
     "output_type": "display_data"
    }
   ],
   "source": [
    "# VISUALISE PREDICTIONS\n",
    "\n",
    "rcParams['figure.figsize'] = 14,5\n",
    "\n",
    "# plot Parameters\n",
    "START_DATE_FOR_PLOTTING = '2019-05-10 00:00:00'\n",
    "# FORECASTED DATA (RED)\n",
    "plt.plot(S2D_Final_df.loc[START_DATE_FOR_PLOTTING:].index, S2D_Final_df.loc[START_DATE_FOR_PLOTTING:]['DynPredCottHeight'], color='r', label= 'Forecasted Wave Height')\n",
    "\n",
    "# ACTUAL ROTT DATA (BLUE)\n",
    "plt.plot(S2D_Final_df.loc[START_DATE_FOR_PLOTTING:].index, S2D_Final_df.loc[START_DATE_FOR_PLOTTING:]['CottHeight'], color='b')\n",
    "\n",
    "# PREVIOUS ROTT HEIGHT DATA (BLUE)\n",
    "plt.plot(S2D_Final_df.loc[START_DATE_FOR_PLOTTING: ].index, S2D_Final_df.loc[START_DATE_FOR_PLOTTING:]['CottHeight'], color='b', label = \"Actual Wave Height\")\n",
    "\n",
    "# PREDICTED ROTT HEIGHT (ORANGE)\n",
    "plt.plot(S2D_Final_df.loc[START_DATE_FOR_PLOTTING: ].index, S2D_Final_df.loc[START_DATE_FOR_PLOTTING:]['PredCottHeight'], color='orange', label = \"Predicted Wave Height\")\n",
    "\n",
    "# VERTICAL LINE (GREEN)\n",
    "#plt.axvline(x=S2D_Final_df.index[-steps_future:], color='green', linewidth=2,linestyle='--')\n",
    "\n",
    "# AESTHETICS\n",
    "plt.grid(which='major', color='#cccccc', alpha=0.5)\n",
    "plt.legend(shadow=True)\n",
    "plt.title(\"Forecasted Results Univariate Model\")"
   ]
  },
  {
   "cell_type": "markdown",
   "metadata": {
    "id": "9P3H7YXC8cnJ"
   },
   "source": [
    "# DYNAMIC TO STATIC MODEL \n",
    "( ROTTNEST FORECAST(LSTM) TO PREDICT COTTESLOE(GBM Model)"
   ]
  },
  {
   "cell_type": "markdown",
   "metadata": {
    "id": "9R5g7jvX9hb1"
   },
   "source": [
    "## Setup"
   ]
  },
  {
   "cell_type": "code",
   "execution_count": null,
   "metadata": {
    "id": "rH2JoRflI9oJ"
   },
   "outputs": [],
   "source": [
    "model_to_load = 'RottHeight_Multi_06 Step_HeightWeights.h5'\n",
    "steps_future= 6"
   ]
  },
  {
   "cell_type": "markdown",
   "metadata": {
    "id": "EBnepuVz8cnP"
   },
   "source": [
    "\n",
    "Use forecast model on Rott Height, then use static model on results to get precition for Cott Height\n"
   ]
  },
  {
   "cell_type": "code",
   "execution_count": null,
   "metadata": {
    "colab": {
     "base_uri": "https://localhost:8080/"
    },
    "executionInfo": {
     "elapsed": 2248,
     "status": "ok",
     "timestamp": 1604034530672,
     "user": {
      "displayName": "Ammar Pervez",
      "photoUrl": "https://lh3.googleusercontent.com/a-/AOh14Gi8WNzfv_BTIPuGu9Hlf2ww8310r8CAWukW9jAvsPc=s64",
      "userId": "03225736955727170639"
     },
     "user_tz": -480
    },
    "id": "MIc_JmtJQavd",
    "outputId": "36309f6d-0050-4bff-f4ef-66e372d32d03"
   },
   "outputs": [
    {
     "data": {
      "text/html": [
       "<div>\n",
       "<style scoped>\n",
       "    .dataframe tbody tr th:only-of-type {\n",
       "        vertical-align: middle;\n",
       "    }\n",
       "\n",
       "    .dataframe tbody tr th {\n",
       "        vertical-align: top;\n",
       "    }\n",
       "\n",
       "    .dataframe thead th {\n",
       "        text-align: right;\n",
       "    }\n",
       "</style>\n",
       "<table border=\"1\" class=\"dataframe\">\n",
       "  <thead>\n",
       "    <tr style=\"text-align: right;\">\n",
       "      <th></th>\n",
       "      <th>Month</th>\n",
       "      <th>CottHeight</th>\n",
       "      <th>CottPeakPeriod</th>\n",
       "      <th>CottMeanPeriod</th>\n",
       "      <th>CottDirection</th>\n",
       "      <th>CottRadiansRotated</th>\n",
       "      <th>RottHeight</th>\n",
       "      <th>RottMeanPeriod</th>\n",
       "      <th>RottPeakPeriod</th>\n",
       "      <th>RottDirection</th>\n",
       "      <th>RottRadiansRotated</th>\n",
       "      <th>TimeShiftTotal</th>\n",
       "      <th>CottTimeShift</th>\n",
       "      <th>RottTimeShift</th>\n",
       "      <th>RecordGroup</th>\n",
       "      <th>CottDateTimeOrig</th>\n",
       "      <th>RottDateTimeOrig</th>\n",
       "      <th>DateTime</th>\n",
       "    </tr>\n",
       "    <tr>\n",
       "      <th>DateTime</th>\n",
       "      <th></th>\n",
       "      <th></th>\n",
       "      <th></th>\n",
       "      <th></th>\n",
       "      <th></th>\n",
       "      <th></th>\n",
       "      <th></th>\n",
       "      <th></th>\n",
       "      <th></th>\n",
       "      <th></th>\n",
       "      <th></th>\n",
       "      <th></th>\n",
       "      <th></th>\n",
       "      <th></th>\n",
       "      <th></th>\n",
       "      <th></th>\n",
       "      <th></th>\n",
       "      <th></th>\n",
       "    </tr>\n",
       "  </thead>\n",
       "  <tbody>\n",
       "    <tr>\n",
       "      <th>2019-07-20 00:30:00</th>\n",
       "      <td>7</td>\n",
       "      <td>2.07</td>\n",
       "      <td>13.333333</td>\n",
       "      <td>5.633803</td>\n",
       "      <td>248.90625</td>\n",
       "      <td>0.504509</td>\n",
       "      <td>3.30</td>\n",
       "      <td>7.272727</td>\n",
       "      <td>14.285714</td>\n",
       "      <td>240.46875</td>\n",
       "      <td>0.357247</td>\n",
       "      <td>10</td>\n",
       "      <td>10</td>\n",
       "      <td>0</td>\n",
       "      <td>25</td>\n",
       "      <td>2019-07-20 00:20:00</td>\n",
       "      <td>2019-07-20 00:30:00</td>\n",
       "      <td>2019-07-20 00:30:00</td>\n",
       "    </tr>\n",
       "    <tr>\n",
       "      <th>2019-07-20 01:00:00</th>\n",
       "      <td>7</td>\n",
       "      <td>2.11</td>\n",
       "      <td>10.000000</td>\n",
       "      <td>5.714286</td>\n",
       "      <td>275.62500</td>\n",
       "      <td>0.970839</td>\n",
       "      <td>3.57</td>\n",
       "      <td>7.843137</td>\n",
       "      <td>15.384615</td>\n",
       "      <td>233.43750</td>\n",
       "      <td>0.234529</td>\n",
       "      <td>10</td>\n",
       "      <td>10</td>\n",
       "      <td>0</td>\n",
       "      <td>25</td>\n",
       "      <td>2019-07-20 00:50:00</td>\n",
       "      <td>2019-07-20 01:00:00</td>\n",
       "      <td>2019-07-20 01:00:00</td>\n",
       "    </tr>\n",
       "    <tr>\n",
       "      <th>2019-07-20 01:30:00</th>\n",
       "      <td>7</td>\n",
       "      <td>1.98</td>\n",
       "      <td>10.000000</td>\n",
       "      <td>5.555556</td>\n",
       "      <td>260.15625</td>\n",
       "      <td>0.700859</td>\n",
       "      <td>3.24</td>\n",
       "      <td>7.407407</td>\n",
       "      <td>14.285714</td>\n",
       "      <td>229.21875</td>\n",
       "      <td>0.160897</td>\n",
       "      <td>10</td>\n",
       "      <td>10</td>\n",
       "      <td>0</td>\n",
       "      <td>25</td>\n",
       "      <td>2019-07-20 01:20:00</td>\n",
       "      <td>2019-07-20 01:30:00</td>\n",
       "      <td>2019-07-20 01:30:00</td>\n",
       "    </tr>\n",
       "    <tr>\n",
       "      <th>2019-07-20 02:00:00</th>\n",
       "      <td>7</td>\n",
       "      <td>2.04</td>\n",
       "      <td>14.285714</td>\n",
       "      <td>5.633803</td>\n",
       "      <td>251.71875</td>\n",
       "      <td>0.553597</td>\n",
       "      <td>4.40</td>\n",
       "      <td>10.000000</td>\n",
       "      <td>28.571429</td>\n",
       "      <td>43.59375</td>\n",
       "      <td>-3.078870</td>\n",
       "      <td>10</td>\n",
       "      <td>10</td>\n",
       "      <td>0</td>\n",
       "      <td>25</td>\n",
       "      <td>2019-07-20 01:50:00</td>\n",
       "      <td>2019-07-20 02:00:00</td>\n",
       "      <td>2019-07-20 02:00:00</td>\n",
       "    </tr>\n",
       "    <tr>\n",
       "      <th>2019-07-20 02:30:00</th>\n",
       "      <td>7</td>\n",
       "      <td>2.01</td>\n",
       "      <td>11.764706</td>\n",
       "      <td>5.405405</td>\n",
       "      <td>244.68750</td>\n",
       "      <td>0.430878</td>\n",
       "      <td>3.47</td>\n",
       "      <td>8.333333</td>\n",
       "      <td>16.666667</td>\n",
       "      <td>223.59375</td>\n",
       "      <td>0.062723</td>\n",
       "      <td>10</td>\n",
       "      <td>10</td>\n",
       "      <td>0</td>\n",
       "      <td>25</td>\n",
       "      <td>2019-07-20 02:20:00</td>\n",
       "      <td>2019-07-20 02:30:00</td>\n",
       "      <td>2019-07-20 02:30:00</td>\n",
       "    </tr>\n",
       "  </tbody>\n",
       "</table>\n",
       "</div>"
      ],
      "text/plain": [
       "                     Month  CottHeight  ...     RottDateTimeOrig            DateTime\n",
       "DateTime                                ...                                         \n",
       "2019-07-20 00:30:00      7        2.07  ...  2019-07-20 00:30:00 2019-07-20 00:30:00\n",
       "2019-07-20 01:00:00      7        2.11  ...  2019-07-20 01:00:00 2019-07-20 01:00:00\n",
       "2019-07-20 01:30:00      7        1.98  ...  2019-07-20 01:30:00 2019-07-20 01:30:00\n",
       "2019-07-20 02:00:00      7        2.04  ...  2019-07-20 02:00:00 2019-07-20 02:00:00\n",
       "2019-07-20 02:30:00      7        2.01  ...  2019-07-20 02:30:00 2019-07-20 02:30:00\n",
       "\n",
       "[5 rows x 18 columns]"
      ]
     },
     "execution_count": 101,
     "metadata": {
      "tags": []
     },
     "output_type": "execute_result"
    }
   ],
   "source": [
    "# LOAD AND DISPLAY\n",
    "waves = load_wave_data()\n",
    "\n",
    "waves['DateTime'] = waves.index   # keep DateTime as a separate col for plotting\n",
    "\n",
    "waves.tail()"
   ]
  },
  {
   "cell_type": "code",
   "execution_count": null,
   "metadata": {
    "id": "bE8lHPV_RR02"
   },
   "outputs": [],
   "source": []
  },
  {
   "cell_type": "code",
   "execution_count": null,
   "metadata": {
    "id": "7uNSmiZr9GW1"
   },
   "outputs": [],
   "source": [
    "n = steps_future\n",
    "epoch = 100\n",
    "\n",
    "# REMOVE LAST n OBS. FROM DF. USE THESE TO COMPARE MODEL TO REAL RESULTS\n",
    "trueset = waves.tail(n)     # n true values to compare with forecast results\n",
    "\n",
    "# CONSTRUCT DF WITH LAST n OBS. REMOVED. USE df TO FORECAST n VALS\n",
    "df = waves[:-n+1]           # dataset with 'true values' removed. LSTM will try forecast the next n values. Compare with trueset."
   ]
  },
  {
   "cell_type": "markdown",
   "metadata": {
    "id": "smvBClKc9GW4"
   },
   "source": [
    "## Multivariate Model\n",
    "\n",
    "We will keep the keras model structure and hyperparameters identical to the univariate model in order to have a controlled experiment."
   ]
  },
  {
   "cell_type": "markdown",
   "metadata": {
    "id": "mdkH_5l19GW4"
   },
   "source": [
    "### Prepare Data (Multivariate Model)\n",
    "\n",
    "We will concentrate on a **Multivariate LSTM Model** that predicts **Rottnest Height** given **RottHeight**,\t**RottMeanPeriod**,\t**RottPeakPeriod**,\t**RottRadiansRotated** as the inputs. It is expected that increasing the complexity of the model will reduce the variance and produce a better forecast in comparison to the **null model**.\n",
    "\n",
    "Below are the steps requried to prepare the data for training."
   ]
  },
  {
   "cell_type": "code",
   "execution_count": null,
   "metadata": {
    "colab": {
     "base_uri": "https://localhost:8080/"
    },
    "executionInfo": {
     "elapsed": 2233,
     "status": "ok",
     "timestamp": 1604034530675,
     "user": {
      "displayName": "Ammar Pervez",
      "photoUrl": "https://lh3.googleusercontent.com/a-/AOh14Gi8WNzfv_BTIPuGu9Hlf2ww8310r8CAWukW9jAvsPc=s64",
      "userId": "03225736955727170639"
     },
     "user_tz": -480
    },
    "id": "fET-hC1I9GW5",
    "outputId": "df2db71b-520a-4d6e-bdca-3968af302cb7"
   },
   "outputs": [
    {
     "name": "stdout",
     "output_type": "stream",
     "text": [
      "Training set shape: (60240, 4)\n",
      "Features Selected: ['RottHeight', 'RottMeanPeriod', 'RottPeakPeriod', 'RottRadiansRotated']\n"
     ]
    }
   ],
   "source": [
    "# SELECT FEATURES INVOLVED IN TRAINING AND PREDICTIONS\n",
    "cols = [\"RottHeight\",\t\"RottMeanPeriod\",\t\"RottPeakPeriod\",\t\"RottRadiansRotated\"]\n",
    "\n",
    "# ISOLATE TRAINING SET WITH ONLY cols THAT ARE REQUIRED\n",
    "dataset_train = df[cols]\n",
    "\n",
    "# CONVERT TO ARRAY\n",
    "training_set = dataset_train.to_numpy()\n",
    "\n",
    "# PRINT SUMMARY\n",
    "print(\"Training set shape: {}\".format(training_set.shape) )\n",
    "print(\"Features Selected: {}\".format(cols))"
   ]
  },
  {
   "cell_type": "code",
   "execution_count": null,
   "metadata": {
    "colab": {
     "base_uri": "https://localhost:8080/"
    },
    "executionInfo": {
     "elapsed": 2589,
     "status": "ok",
     "timestamp": 1604034531036,
     "user": {
      "displayName": "Ammar Pervez",
      "photoUrl": "https://lh3.googleusercontent.com/a-/AOh14Gi8WNzfv_BTIPuGu9Hlf2ww8310r8CAWukW9jAvsPc=s64",
      "userId": "03225736955727170639"
     },
     "user_tz": -480
    },
    "id": "Yj07kzT49GW9",
    "outputId": "f2c526db-7af3-4c7d-f9c9-08431ac1117c"
   },
   "outputs": [
    {
     "name": "stdout",
     "output_type": "stream",
     "text": [
      "X shape: (60139, 96, 4)\n",
      "y shape: (60139, 1)\n"
     ]
    }
   ],
   "source": [
    "# CONSTRUCT X and y SETS\n",
    "X_mv = []    # each item is a window of size n_past\n",
    "y_mv = []    # corresponding y val that each window tries to predict\n",
    "\n",
    "n_future = n    # number of data points to predict in the future\n",
    "n_past = 96     # number of past data points to use for predicting the future\n",
    "\n",
    "# BUILD X AND y\n",
    "for i in range(n_past, len(training_set) - n_future + 1):\n",
    "  X_mv.append( training_set[ i - n_past:i, 0:dataset_train.shape[1] ] )\n",
    "  y_mv.append( training_set[ i + n_future - 1:i + n_future, 0 ] )\n",
    "\n",
    "X_mv, y_mv = np.array(X_mv), np.array(y_mv)\n",
    "\n",
    "print(\"X shape: {}\".format(X_mv.shape))\n",
    "print(\"y shape: {}\".format(y_mv.shape))"
   ]
  },
  {
   "cell_type": "markdown",
   "metadata": {
    "id": "VoPn506I9GXA"
   },
   "source": [
    "### Train LSTM Model"
   ]
  },
  {
   "cell_type": "code",
   "execution_count": null,
   "metadata": {
    "colab": {
     "base_uri": "https://localhost:8080/"
    },
    "executionInfo": {
     "elapsed": 2585,
     "status": "ok",
     "timestamp": 1604034531037,
     "user": {
      "displayName": "Ammar Pervez",
      "photoUrl": "https://lh3.googleusercontent.com/a-/AOh14Gi8WNzfv_BTIPuGu9Hlf2ww8310r8CAWukW9jAvsPc=s64",
      "userId": "03225736955727170639"
     },
     "user_tz": -480
    },
    "id": "RCmkUa1j9GXA",
    "outputId": "f36e7840-d1e8-4657-e35a-e0993f1e0e13"
   },
   "outputs": [
    {
     "name": "stdout",
     "output_type": "stream",
     "text": [
      "Model: \"sequential_4\"\n",
      "_________________________________________________________________\n",
      "Layer (type)                 Output Shape              Param #   \n",
      "=================================================================\n",
      "lstm_8 (LSTM)                (None, 96, 64)            17664     \n",
      "_________________________________________________________________\n",
      "lstm_9 (LSTM)                (None, 30)                11400     \n",
      "_________________________________________________________________\n",
      "dropout_4 (Dropout)          (None, 30)                0         \n",
      "_________________________________________________________________\n",
      "dense_4 (Dense)              (None, 1)                 31        \n",
      "=================================================================\n",
      "Total params: 29,095\n",
      "Trainable params: 29,095\n",
      "Non-trainable params: 0\n",
      "_________________________________________________________________\n"
     ]
    }
   ],
   "source": [
    "# BUILD LSTM MODEL\n",
    "model_multivar = Sequential()                                                                               # initialise LSTM neural network\n",
    "\n",
    "model_multivar.add(LSTM(units=64, return_sequences= True, input_shape=(n_past,dataset_train.shape[1])))     # 1st layer\n",
    "model_multivar.add(LSTM(units=30, return_sequences = False))                                                # 2nd layer\n",
    "model_multivar.add(Dropout(0.55))                                                                           # Dropout layer\n",
    "model_multivar.add(Dense(units=1, activation='linear'))                                                     # Output Layer\n",
    "\n",
    "model_multivar.compile(optimizer = Adam(learning_rate=0.0001),loss= 'mean_squared_error')                    # compile model\n",
    "\n",
    "# PRINT SUMMARY\n",
    "model_multivar.summary()"
   ]
  },
  {
   "cell_type": "code",
   "execution_count": null,
   "metadata": {
    "id": "g9_I53SE9GXE"
   },
   "outputs": [],
   "source": [
    "# # CALLBACK PARAMS\n",
    "# es = EarlyStopping(monitor='val_loss', min_delta=1e-10, patience=10, verbose=1)\n",
    "# rlr = ReduceLROnPlateau(monitor='val_loss', factor=0.5, patience=10, verbose=1)\n",
    "# mcp = ModelCheckpoint(filepath='waveHeightWeights.h5',monitor='val_loss', verbose=1, save_best_only=True, save_weights_only=True)\n",
    "# tb = TensorBoard('logs')\n",
    "\n",
    "# # FIT SEQUENTIAL MODEL\n",
    "# history_multivar = model_multivar.fit(X_mv, y_mv, epochs=epoch, callbacks=[es,rlr,mcp,tb], shuffle=True, validation_split=0.2, verbose=1)"
   ]
  },
  {
   "cell_type": "markdown",
   "metadata": {
    "id": "2gNqtL9bQLTj"
   },
   "source": [
    "### Loading Weights"
   ]
  },
  {
   "cell_type": "code",
   "execution_count": null,
   "metadata": {
    "id": "9YicwFUWQJyc"
   },
   "outputs": [],
   "source": [
    "from keras.models import load_model\n",
    "\n",
    "# returns a compiled model\n",
    "# identical to the previous one\n",
    "model=model_multivar.load_weights(model_to_load)"
   ]
  },
  {
   "cell_type": "markdown",
   "metadata": {
    "id": "YB0coSGu9GXK"
   },
   "source": [
    "### Evaluation of Model\n",
    "\n",
    "todo."
   ]
  },
  {
   "cell_type": "code",
   "execution_count": null,
   "metadata": {
    "id": "62V9KnYN9GXK"
   },
   "outputs": [],
   "source": [
    "# # PLOT LOSS VALUES\n",
    "# pyplot.plot(model.history['loss'])\n",
    "# pyplot.plot(model.history['val_loss'])\n",
    "# pyplot.title('model train vs validation loss')\n",
    "# pyplot.ylabel('loss')\n",
    "# pyplot.xlabel('epoch')\n",
    "# pyplot.legend(['train', 'validation'], loc='upper right')\n",
    "# pyplot.show()\n",
    "# print(\"mean squared error training: \", history_multivar.history['loss'])\n",
    "# print(\"mean squared error validation: \", history_multivar.history['val_loss'])"
   ]
  },
  {
   "cell_type": "code",
   "execution_count": null,
   "metadata": {
    "id": "lxGnLPGJTc1L"
   },
   "outputs": [],
   "source": [
    "# PREDICTIONS MADE ON PAST VALUES\n",
    "#predictions_past = model_multivar.predict(X_mv[n_past:])"
   ]
  },
  {
   "cell_type": "code",
   "execution_count": null,
   "metadata": {
    "id": "RHZdPtqn9GXQ"
   },
   "outputs": [],
   "source": [
    "# PREDICTIONS MADE ON PAST VALUES\n",
    "predictions_past = model_multivar.predict(X_mv[n_past:])\n",
    "\n",
    "# CONSTRUCT A DF TO HOLD RESULTS\n",
    "multivar_pst_result_df = dataset_train[2 * n_past + n_future -1:].copy()                    # now reference the true set\n",
    "multivar_pst_result_df['PastPredictedRottHeight'] = predictions_past                                 # add prediction column to trueset\n",
    "multivar_pst_result_df = multivar_pst_result_df.rename(columns={\"RottHeight\": \"ActlRottHeight\"})\n",
    "\n"
   ]
  },
  {
   "cell_type": "code",
   "execution_count": null,
   "metadata": {
    "colab": {
     "base_uri": "https://localhost:8080/",
     "height": 420
    },
    "executionInfo": {
     "elapsed": 14121,
     "status": "ok",
     "timestamp": 1604034542609,
     "user": {
      "displayName": "Ammar Pervez",
      "photoUrl": "https://lh3.googleusercontent.com/a-/AOh14Gi8WNzfv_BTIPuGu9Hlf2ww8310r8CAWukW9jAvsPc=s64",
      "userId": "03225736955727170639"
     },
     "user_tz": -480
    },
    "id": "mrWMWZHeKtVh",
    "outputId": "cddd14fa-2d90-495d-a157-1984d5e7fb95"
   },
   "outputs": [
    {
     "data": {
      "text/html": [
       "<div>\n",
       "<style scoped>\n",
       "    .dataframe tbody tr th:only-of-type {\n",
       "        vertical-align: middle;\n",
       "    }\n",
       "\n",
       "    .dataframe tbody tr th {\n",
       "        vertical-align: top;\n",
       "    }\n",
       "\n",
       "    .dataframe thead th {\n",
       "        text-align: right;\n",
       "    }\n",
       "</style>\n",
       "<table border=\"1\" class=\"dataframe\">\n",
       "  <thead>\n",
       "    <tr style=\"text-align: right;\">\n",
       "      <th></th>\n",
       "      <th>ActlRottHeight</th>\n",
       "      <th>RottMeanPeriod</th>\n",
       "      <th>RottPeakPeriod</th>\n",
       "      <th>RottRadiansRotated</th>\n",
       "      <th>PastPredictedRottHeight</th>\n",
       "    </tr>\n",
       "    <tr>\n",
       "      <th>DateTime</th>\n",
       "      <th></th>\n",
       "      <th></th>\n",
       "      <th></th>\n",
       "      <th></th>\n",
       "      <th></th>\n",
       "    </tr>\n",
       "  </thead>\n",
       "  <tbody>\n",
       "    <tr>\n",
       "      <th>2015-12-22 01:00:00</th>\n",
       "      <td>0.76</td>\n",
       "      <td>4.705882</td>\n",
       "      <td>15.384615</td>\n",
       "      <td>0.504509</td>\n",
       "      <td>0.938779</td>\n",
       "    </tr>\n",
       "    <tr>\n",
       "      <th>2015-12-22 01:30:00</th>\n",
       "      <td>0.72</td>\n",
       "      <td>4.651163</td>\n",
       "      <td>16.666667</td>\n",
       "      <td>0.553597</td>\n",
       "      <td>0.959351</td>\n",
       "    </tr>\n",
       "    <tr>\n",
       "      <th>2015-12-22 02:00:00</th>\n",
       "      <td>0.71</td>\n",
       "      <td>4.705882</td>\n",
       "      <td>16.666667</td>\n",
       "      <td>0.529053</td>\n",
       "      <td>0.933412</td>\n",
       "    </tr>\n",
       "    <tr>\n",
       "      <th>2015-12-22 02:30:00</th>\n",
       "      <td>0.72</td>\n",
       "      <td>4.597701</td>\n",
       "      <td>15.384615</td>\n",
       "      <td>0.529053</td>\n",
       "      <td>0.979315</td>\n",
       "    </tr>\n",
       "    <tr>\n",
       "      <th>2015-12-22 03:00:00</th>\n",
       "      <td>0.73</td>\n",
       "      <td>4.938272</td>\n",
       "      <td>15.384615</td>\n",
       "      <td>0.479966</td>\n",
       "      <td>0.938533</td>\n",
       "    </tr>\n",
       "    <tr>\n",
       "      <th>...</th>\n",
       "      <td>...</td>\n",
       "      <td>...</td>\n",
       "      <td>...</td>\n",
       "      <td>...</td>\n",
       "      <td>...</td>\n",
       "    </tr>\n",
       "    <tr>\n",
       "      <th>2019-07-19 22:00:00</th>\n",
       "      <td>3.75</td>\n",
       "      <td>7.272727</td>\n",
       "      <td>8.333333</td>\n",
       "      <td>0.406334</td>\n",
       "      <td>4.327269</td>\n",
       "    </tr>\n",
       "    <tr>\n",
       "      <th>2019-07-19 22:30:00</th>\n",
       "      <td>3.43</td>\n",
       "      <td>7.017544</td>\n",
       "      <td>13.333333</td>\n",
       "      <td>0.455422</td>\n",
       "      <td>4.165510</td>\n",
       "    </tr>\n",
       "    <tr>\n",
       "      <th>2019-07-19 23:00:00</th>\n",
       "      <td>3.44</td>\n",
       "      <td>7.142857</td>\n",
       "      <td>13.333333</td>\n",
       "      <td>0.430878</td>\n",
       "      <td>4.516233</td>\n",
       "    </tr>\n",
       "    <tr>\n",
       "      <th>2019-07-19 23:30:00</th>\n",
       "      <td>3.37</td>\n",
       "      <td>7.142857</td>\n",
       "      <td>10.000000</td>\n",
       "      <td>0.259072</td>\n",
       "      <td>4.484653</td>\n",
       "    </tr>\n",
       "    <tr>\n",
       "      <th>2019-07-20 00:00:00</th>\n",
       "      <td>3.60</td>\n",
       "      <td>7.692308</td>\n",
       "      <td>15.384615</td>\n",
       "      <td>0.455422</td>\n",
       "      <td>4.423095</td>\n",
       "    </tr>\n",
       "  </tbody>\n",
       "</table>\n",
       "<p>60043 rows × 5 columns</p>\n",
       "</div>"
      ],
      "text/plain": [
       "                     ActlRottHeight  ...  PastPredictedRottHeight\n",
       "DateTime                             ...                         \n",
       "2015-12-22 01:00:00            0.76  ...                 0.938779\n",
       "2015-12-22 01:30:00            0.72  ...                 0.959351\n",
       "2015-12-22 02:00:00            0.71  ...                 0.933412\n",
       "2015-12-22 02:30:00            0.72  ...                 0.979315\n",
       "2015-12-22 03:00:00            0.73  ...                 0.938533\n",
       "...                             ...  ...                      ...\n",
       "2019-07-19 22:00:00            3.75  ...                 4.327269\n",
       "2019-07-19 22:30:00            3.43  ...                 4.165510\n",
       "2019-07-19 23:00:00            3.44  ...                 4.516233\n",
       "2019-07-19 23:30:00            3.37  ...                 4.484653\n",
       "2019-07-20 00:00:00            3.60  ...                 4.423095\n",
       "\n",
       "[60043 rows x 5 columns]"
      ]
     },
     "execution_count": 111,
     "metadata": {
      "tags": []
     },
     "output_type": "execute_result"
    }
   ],
   "source": [
    "# FINAL RESULT\n",
    "multivar_pst_result_df"
   ]
  },
  {
   "cell_type": "code",
   "execution_count": null,
   "metadata": {
    "colab": {
     "base_uri": "https://localhost:8080/",
     "height": 463
    },
    "executionInfo": {
     "elapsed": 14116,
     "status": "ok",
     "timestamp": 1604034542610,
     "user": {
      "displayName": "Ammar Pervez",
      "photoUrl": "https://lh3.googleusercontent.com/a-/AOh14Gi8WNzfv_BTIPuGu9Hlf2ww8310r8CAWukW9jAvsPc=s64",
      "userId": "03225736955727170639"
     },
     "user_tz": -480
    },
    "id": "07xyD-Fc9GXT",
    "outputId": "91232ac0-39b0-40fe-c907-937f2eddca64"
   },
   "outputs": [
    {
     "data": {
      "text/html": [
       "<div>\n",
       "<style scoped>\n",
       "    .dataframe tbody tr th:only-of-type {\n",
       "        vertical-align: middle;\n",
       "    }\n",
       "\n",
       "    .dataframe tbody tr th {\n",
       "        vertical-align: top;\n",
       "    }\n",
       "\n",
       "    .dataframe thead th {\n",
       "        text-align: right;\n",
       "    }\n",
       "</style>\n",
       "<table border=\"1\" class=\"dataframe\">\n",
       "  <thead>\n",
       "    <tr style=\"text-align: right;\">\n",
       "      <th></th>\n",
       "      <th>Month</th>\n",
       "      <th>CottHeight</th>\n",
       "      <th>CottPeakPeriod</th>\n",
       "      <th>CottMeanPeriod</th>\n",
       "      <th>CottDirection</th>\n",
       "      <th>CottRadiansRotated</th>\n",
       "      <th>RottHeight</th>\n",
       "      <th>RottMeanPeriod</th>\n",
       "      <th>RottPeakPeriod</th>\n",
       "      <th>RottDirection</th>\n",
       "      <th>RottRadiansRotated</th>\n",
       "      <th>TimeShiftTotal</th>\n",
       "      <th>CottTimeShift</th>\n",
       "      <th>RottTimeShift</th>\n",
       "      <th>RecordGroup</th>\n",
       "      <th>CottDateTimeOrig</th>\n",
       "      <th>RottDateTimeOrig</th>\n",
       "      <th>DateTime</th>\n",
       "      <th>FrcstRottHeight</th>\n",
       "    </tr>\n",
       "    <tr>\n",
       "      <th>DateTime</th>\n",
       "      <th></th>\n",
       "      <th></th>\n",
       "      <th></th>\n",
       "      <th></th>\n",
       "      <th></th>\n",
       "      <th></th>\n",
       "      <th></th>\n",
       "      <th></th>\n",
       "      <th></th>\n",
       "      <th></th>\n",
       "      <th></th>\n",
       "      <th></th>\n",
       "      <th></th>\n",
       "      <th></th>\n",
       "      <th></th>\n",
       "      <th></th>\n",
       "      <th></th>\n",
       "      <th></th>\n",
       "      <th></th>\n",
       "    </tr>\n",
       "  </thead>\n",
       "  <tbody>\n",
       "    <tr>\n",
       "      <th>2019-07-20 00:00:00</th>\n",
       "      <td>7</td>\n",
       "      <td>2.07</td>\n",
       "      <td>11.111111</td>\n",
       "      <td>5.555556</td>\n",
       "      <td>258.75000</td>\n",
       "      <td>0.676315</td>\n",
       "      <td>3.60</td>\n",
       "      <td>7.692308</td>\n",
       "      <td>15.384615</td>\n",
       "      <td>246.09375</td>\n",
       "      <td>0.455422</td>\n",
       "      <td>10</td>\n",
       "      <td>10</td>\n",
       "      <td>0</td>\n",
       "      <td>25</td>\n",
       "      <td>2019-07-19 23:50:00</td>\n",
       "      <td>2019-07-20 00:00:00</td>\n",
       "      <td>2019-07-20 00:00:00</td>\n",
       "      <td>4.273901</td>\n",
       "    </tr>\n",
       "    <tr>\n",
       "      <th>2019-07-20 00:30:00</th>\n",
       "      <td>7</td>\n",
       "      <td>2.07</td>\n",
       "      <td>13.333333</td>\n",
       "      <td>5.633803</td>\n",
       "      <td>248.90625</td>\n",
       "      <td>0.504509</td>\n",
       "      <td>3.30</td>\n",
       "      <td>7.272727</td>\n",
       "      <td>14.285714</td>\n",
       "      <td>240.46875</td>\n",
       "      <td>0.357247</td>\n",
       "      <td>10</td>\n",
       "      <td>10</td>\n",
       "      <td>0</td>\n",
       "      <td>25</td>\n",
       "      <td>2019-07-20 00:20:00</td>\n",
       "      <td>2019-07-20 00:30:00</td>\n",
       "      <td>2019-07-20 00:30:00</td>\n",
       "      <td>4.327269</td>\n",
       "    </tr>\n",
       "    <tr>\n",
       "      <th>2019-07-20 01:00:00</th>\n",
       "      <td>7</td>\n",
       "      <td>2.11</td>\n",
       "      <td>10.000000</td>\n",
       "      <td>5.714286</td>\n",
       "      <td>275.62500</td>\n",
       "      <td>0.970839</td>\n",
       "      <td>3.57</td>\n",
       "      <td>7.843137</td>\n",
       "      <td>15.384615</td>\n",
       "      <td>233.43750</td>\n",
       "      <td>0.234529</td>\n",
       "      <td>10</td>\n",
       "      <td>10</td>\n",
       "      <td>0</td>\n",
       "      <td>25</td>\n",
       "      <td>2019-07-20 00:50:00</td>\n",
       "      <td>2019-07-20 01:00:00</td>\n",
       "      <td>2019-07-20 01:00:00</td>\n",
       "      <td>4.165510</td>\n",
       "    </tr>\n",
       "    <tr>\n",
       "      <th>2019-07-20 01:30:00</th>\n",
       "      <td>7</td>\n",
       "      <td>1.98</td>\n",
       "      <td>10.000000</td>\n",
       "      <td>5.555556</td>\n",
       "      <td>260.15625</td>\n",
       "      <td>0.700859</td>\n",
       "      <td>3.24</td>\n",
       "      <td>7.407407</td>\n",
       "      <td>14.285714</td>\n",
       "      <td>229.21875</td>\n",
       "      <td>0.160897</td>\n",
       "      <td>10</td>\n",
       "      <td>10</td>\n",
       "      <td>0</td>\n",
       "      <td>25</td>\n",
       "      <td>2019-07-20 01:20:00</td>\n",
       "      <td>2019-07-20 01:30:00</td>\n",
       "      <td>2019-07-20 01:30:00</td>\n",
       "      <td>4.516233</td>\n",
       "    </tr>\n",
       "    <tr>\n",
       "      <th>2019-07-20 02:00:00</th>\n",
       "      <td>7</td>\n",
       "      <td>2.04</td>\n",
       "      <td>14.285714</td>\n",
       "      <td>5.633803</td>\n",
       "      <td>251.71875</td>\n",
       "      <td>0.553597</td>\n",
       "      <td>4.40</td>\n",
       "      <td>10.000000</td>\n",
       "      <td>28.571429</td>\n",
       "      <td>43.59375</td>\n",
       "      <td>-3.078870</td>\n",
       "      <td>10</td>\n",
       "      <td>10</td>\n",
       "      <td>0</td>\n",
       "      <td>25</td>\n",
       "      <td>2019-07-20 01:50:00</td>\n",
       "      <td>2019-07-20 02:00:00</td>\n",
       "      <td>2019-07-20 02:00:00</td>\n",
       "      <td>4.484653</td>\n",
       "    </tr>\n",
       "    <tr>\n",
       "      <th>2019-07-20 02:30:00</th>\n",
       "      <td>7</td>\n",
       "      <td>2.01</td>\n",
       "      <td>11.764706</td>\n",
       "      <td>5.405405</td>\n",
       "      <td>244.68750</td>\n",
       "      <td>0.430878</td>\n",
       "      <td>3.47</td>\n",
       "      <td>8.333333</td>\n",
       "      <td>16.666667</td>\n",
       "      <td>223.59375</td>\n",
       "      <td>0.062723</td>\n",
       "      <td>10</td>\n",
       "      <td>10</td>\n",
       "      <td>0</td>\n",
       "      <td>25</td>\n",
       "      <td>2019-07-20 02:20:00</td>\n",
       "      <td>2019-07-20 02:30:00</td>\n",
       "      <td>2019-07-20 02:30:00</td>\n",
       "      <td>4.423095</td>\n",
       "    </tr>\n",
       "  </tbody>\n",
       "</table>\n",
       "</div>"
      ],
      "text/plain": [
       "                     Month  CottHeight  ...            DateTime  FrcstRottHeight\n",
       "DateTime                                ...                                     \n",
       "2019-07-20 00:00:00      7        2.07  ... 2019-07-20 00:00:00         4.273901\n",
       "2019-07-20 00:30:00      7        2.07  ... 2019-07-20 00:30:00         4.327269\n",
       "2019-07-20 01:00:00      7        2.11  ... 2019-07-20 01:00:00         4.165510\n",
       "2019-07-20 01:30:00      7        1.98  ... 2019-07-20 01:30:00         4.516233\n",
       "2019-07-20 02:00:00      7        2.04  ... 2019-07-20 02:00:00         4.484653\n",
       "2019-07-20 02:30:00      7        2.01  ... 2019-07-20 02:30:00         4.423095\n",
       "\n",
       "[6 rows x 19 columns]"
      ]
     },
     "execution_count": 112,
     "metadata": {
      "tags": []
     },
     "output_type": "execute_result"
    }
   ],
   "source": [
    "# PERFORM PREDICTIONS FOR n VALUES\n",
    "predictions_future = model_multivar.predict(X_mv[-n_future:])\n",
    "\n",
    "# CONSTRUCT A DF TO HOLD RESULTS\n",
    "multivar_result_df = trueset.copy()                    # now reference the true set\n",
    "multivar_result_df['FrcstRottHeight'] = predictions_future   # add prediction column to trueset\n",
    "#multivar_result_df = multivar_result_df.rename(columns={\"RottHeight\": \"ActlRottHeight\"})\n",
    "\n",
    "# FINAL RESULT\n",
    "multivar_result_df"
   ]
  },
  {
   "cell_type": "markdown",
   "metadata": {
    "id": "vseYIsofc0_m"
   },
   "source": [
    "## Prediction using Static model"
   ]
  },
  {
   "cell_type": "code",
   "execution_count": null,
   "metadata": {
    "id": "I6vF1QeCc6zU"
   },
   "outputs": [],
   "source": [
    "# Load from file\n",
    "height_fname = 'height.pkl'\n",
    "with open(height_fname, 'rb') as file:\n",
    "    height_model = pickle.load(file)"
   ]
  },
  {
   "cell_type": "code",
   "execution_count": null,
   "metadata": {
    "colab": {
     "base_uri": "https://localhost:8080/"
    },
    "executionInfo": {
     "elapsed": 14105,
     "status": "ok",
     "timestamp": 1604034542612,
     "user": {
      "displayName": "Ammar Pervez",
      "photoUrl": "https://lh3.googleusercontent.com/a-/AOh14Gi8WNzfv_BTIPuGu9Hlf2ww8310r8CAWukW9jAvsPc=s64",
      "userId": "03225736955727170639"
     },
     "user_tz": -480
    },
    "id": "VgzErN9ddk6q",
    "outputId": "37f43db0-d64d-4985-e1e9-262573d0f228"
   },
   "outputs": [
    {
     "data": {
      "text/plain": [
       "LGBMRegressor(boosting_type='gbdt', class_weight=None, colsample_bytree=1.0,\n",
       "              importance_type='split', learning_rate=0.1, max_depth=-1,\n",
       "              min_child_samples=20, min_child_weight=0.001, min_split_gain=0.0,\n",
       "              n_estimators=200, n_jobs=-1, num_leaves=50,\n",
       "              objective='regression', random_state=11, reg_alpha=0.0,\n",
       "              reg_lambda=0.0, silent=True, subsample=1.0,\n",
       "              subsample_for_bin=200000, subsample_freq=0)"
      ]
     },
     "execution_count": 114,
     "metadata": {
      "tags": []
     },
     "output_type": "execute_result"
    }
   ],
   "source": [
    "height_model"
   ]
  },
  {
   "cell_type": "code",
   "execution_count": null,
   "metadata": {
    "id": "JrCyU3kgcz_E"
   },
   "outputs": [],
   "source": [
    "# # WAVE HEIGHT MODEL\n",
    "\n",
    "# # Load from file\n",
    "# height_fname = 'height.pkl'\n",
    "# with open(height_fname, 'rb') as file:\n",
    "#     height_model = pickle.load(file)\n",
    "\n",
    "# Feature Engineering      --------------------------------------------------------\n",
    "\n",
    "# extract the hour, day, and month\n",
    "height_df = multivar_result_df.copy()\n",
    "time_series = pd.to_datetime(height_df['DateTime'])\n",
    "height_df['month'] = time_series.dt.month\n",
    "height_df['day'] = time_series.dt.day\n",
    "height_df['hour'] = time_series.dt.hour\n",
    "\n",
    "del height_df['DateTime']\n",
    "del height_df['CottPeakPeriod']\n",
    "del height_df['CottDirection']\n",
    "\n",
    "order = ['month', 'day', 'hour', 'FrcstRottHeight', 'RottPeakPeriod', 'RottDirection', 'CottHeight']\n",
    "height_df = height_df[order]\n",
    "\n",
    "# use bin method to treat time feature as category variable\n",
    "# After applying to the model, we found that the \"bins of hour\" almost has no effect on the model result,\n",
    "# so we remove it to reduce dimension in case of overfitting. \n",
    "\n",
    "bins_of_month = [0, 4 ,7, 9, 13]\n",
    "height_df['month'] = pd.cut(height_df['month'], bins_of_month, labels=[1, 2, 3, 4])\n",
    "\n",
    "bins_of_day = [0, 10 ,20, 32]\n",
    "height_df['day'] = pd.cut(height_df['day'], bins_of_day, labels=[1, 2, 3])\n",
    "\n",
    "# bins_of_hour = [-1, 6 ,12, 18, 25]\n",
    "# df['hour'] = pd.cut(df['hour'], bins_of_hour, labels=[1, 2, 3,4])\n",
    "del height_df['hour']\n",
    "# use OneHot Encoding to make all values of the categorical features are equally away from each other,\n",
    "# and it help to avoid the overfitting caused by the gradient descent in high dimension. \n",
    "col_names = ['month','day']\n",
    "for col in col_names:  \n",
    "    OnehotEn = pd.get_dummies(height_df[col], prefix=col)\n",
    "    height_df.drop([col], axis=1, inplace=True)\n",
    "    height_df = pd.concat([height_df, OnehotEn], axis=1)\n",
    "\n",
    "\n",
    "#normalize numerical feature to make the model faster to find the optimal solution during training\n",
    "z_scaler = lambda x : (x - np.mean(x)) / np.std(x)\n",
    "height_df_ = height_df[['FrcstRottHeight', 'RottPeakPeriod', 'RottDirection']].apply(z_scaler)\n",
    "\n",
    "del height_df['FrcstRottHeight']\n",
    "del height_df['RottPeakPeriod']\n",
    "del height_df['RottDirection']\n",
    "\n",
    "height_df = pd.concat([height_df,height_df_],axis=1)\n",
    "label_y = height_df['CottHeight']\n",
    "height_df.drop(['CottHeight'], axis=1, inplace=True)\n",
    "\n",
    "height_df\n",
    "# # ---------------------------------------------------------------------------------\n",
    "\n",
    "# Make prediction on dynamic model\n",
    "height_pred = height_model.predict(height_df)\n",
    "height_pred.shape\n",
    "# Update result_df\n",
    "height_df['PredCottHeight'] =  height_pred\n",
    "height_df['CottHeight']=label_y\n",
    "#height_df.tail()\n",
    "\n",
    "\n",
    "\n",
    "\n",
    "\n",
    "# # # Make prediction on static\n",
    "# # height_pred = height_model.predict(height_df)\n",
    "# # height_pred.shape\n",
    "# # # Update result_df\n",
    "# # height_df['FrcstCottHeight'] =  height_pred\n",
    "# # height_df['CottHeight']=label_y\n",
    "# # #height_df.tail()"
   ]
  },
  {
   "cell_type": "code",
   "execution_count": null,
   "metadata": {
    "colab": {
     "base_uri": "https://localhost:8080/",
     "height": 220
    },
    "executionInfo": {
     "elapsed": 14096,
     "status": "ok",
     "timestamp": 1604034542613,
     "user": {
      "displayName": "Ammar Pervez",
      "photoUrl": "https://lh3.googleusercontent.com/a-/AOh14Gi8WNzfv_BTIPuGu9Hlf2ww8310r8CAWukW9jAvsPc=s64",
      "userId": "03225736955727170639"
     },
     "user_tz": -480
    },
    "id": "8VfDJv1dJxFK",
    "outputId": "42242ffe-8b68-4b40-a7fc-cecc11630ba1"
   },
   "outputs": [
    {
     "data": {
      "text/html": [
       "<div>\n",
       "<style scoped>\n",
       "    .dataframe tbody tr th:only-of-type {\n",
       "        vertical-align: middle;\n",
       "    }\n",
       "\n",
       "    .dataframe tbody tr th {\n",
       "        vertical-align: top;\n",
       "    }\n",
       "\n",
       "    .dataframe thead th {\n",
       "        text-align: right;\n",
       "    }\n",
       "</style>\n",
       "<table border=\"1\" class=\"dataframe\">\n",
       "  <thead>\n",
       "    <tr style=\"text-align: right;\">\n",
       "      <th></th>\n",
       "      <th>month_1</th>\n",
       "      <th>month_2</th>\n",
       "      <th>month_3</th>\n",
       "      <th>month_4</th>\n",
       "      <th>day_1</th>\n",
       "      <th>day_2</th>\n",
       "      <th>day_3</th>\n",
       "      <th>FrcstRottHeight</th>\n",
       "      <th>RottPeakPeriod</th>\n",
       "      <th>RottDirection</th>\n",
       "      <th>PredCottHeight</th>\n",
       "      <th>CottHeight</th>\n",
       "    </tr>\n",
       "    <tr>\n",
       "      <th>DateTime</th>\n",
       "      <th></th>\n",
       "      <th></th>\n",
       "      <th></th>\n",
       "      <th></th>\n",
       "      <th></th>\n",
       "      <th></th>\n",
       "      <th></th>\n",
       "      <th></th>\n",
       "      <th></th>\n",
       "      <th></th>\n",
       "      <th></th>\n",
       "      <th></th>\n",
       "    </tr>\n",
       "  </thead>\n",
       "  <tbody>\n",
       "    <tr>\n",
       "      <th>2019-07-20 00:00:00</th>\n",
       "      <td>0</td>\n",
       "      <td>1</td>\n",
       "      <td>0</td>\n",
       "      <td>0</td>\n",
       "      <td>0</td>\n",
       "      <td>1</td>\n",
       "      <td>0</td>\n",
       "      <td>-0.744386</td>\n",
       "      <td>-0.405198</td>\n",
       "      <td>0.606075</td>\n",
       "      <td>0.717745</td>\n",
       "      <td>2.07</td>\n",
       "    </tr>\n",
       "    <tr>\n",
       "      <th>2019-07-20 00:30:00</th>\n",
       "      <td>0</td>\n",
       "      <td>1</td>\n",
       "      <td>0</td>\n",
       "      <td>0</td>\n",
       "      <td>0</td>\n",
       "      <td>1</td>\n",
       "      <td>0</td>\n",
       "      <td>-0.308832</td>\n",
       "      <td>-0.622917</td>\n",
       "      <td>0.527449</td>\n",
       "      <td>0.958279</td>\n",
       "      <td>2.07</td>\n",
       "    </tr>\n",
       "    <tr>\n",
       "      <th>2019-07-20 01:00:00</th>\n",
       "      <td>0</td>\n",
       "      <td>1</td>\n",
       "      <td>0</td>\n",
       "      <td>0</td>\n",
       "      <td>0</td>\n",
       "      <td>1</td>\n",
       "      <td>0</td>\n",
       "      <td>-1.628986</td>\n",
       "      <td>-0.405198</td>\n",
       "      <td>0.429167</td>\n",
       "      <td>0.393528</td>\n",
       "      <td>2.11</td>\n",
       "    </tr>\n",
       "    <tr>\n",
       "      <th>2019-07-20 01:30:00</th>\n",
       "      <td>0</td>\n",
       "      <td>1</td>\n",
       "      <td>0</td>\n",
       "      <td>0</td>\n",
       "      <td>0</td>\n",
       "      <td>1</td>\n",
       "      <td>0</td>\n",
       "      <td>1.233348</td>\n",
       "      <td>-0.622917</td>\n",
       "      <td>0.370197</td>\n",
       "      <td>1.594180</td>\n",
       "      <td>1.98</td>\n",
       "    </tr>\n",
       "    <tr>\n",
       "      <th>2019-07-20 02:00:00</th>\n",
       "      <td>0</td>\n",
       "      <td>1</td>\n",
       "      <td>0</td>\n",
       "      <td>0</td>\n",
       "      <td>0</td>\n",
       "      <td>1</td>\n",
       "      <td>0</td>\n",
       "      <td>0.975616</td>\n",
       "      <td>2.207424</td>\n",
       "      <td>-2.224461</td>\n",
       "      <td>1.672439</td>\n",
       "      <td>2.04</td>\n",
       "    </tr>\n",
       "  </tbody>\n",
       "</table>\n",
       "</div>"
      ],
      "text/plain": [
       "                     month_1  month_2  ...  PredCottHeight  CottHeight\n",
       "DateTime                               ...                            \n",
       "2019-07-20 00:00:00        0        1  ...        0.717745        2.07\n",
       "2019-07-20 00:30:00        0        1  ...        0.958279        2.07\n",
       "2019-07-20 01:00:00        0        1  ...        0.393528        2.11\n",
       "2019-07-20 01:30:00        0        1  ...        1.594180        1.98\n",
       "2019-07-20 02:00:00        0        1  ...        1.672439        2.04\n",
       "\n",
       "[5 rows x 12 columns]"
      ]
     },
     "execution_count": 116,
     "metadata": {
      "tags": []
     },
     "output_type": "execute_result"
    }
   ],
   "source": [
    "height_df.head()"
   ]
  },
  {
   "cell_type": "code",
   "execution_count": null,
   "metadata": {
    "id": "YRADfb6RGgA1"
   },
   "outputs": [],
   "source": []
  },
  {
   "cell_type": "markdown",
   "metadata": {
    "id": "ByGnsSANGgpv"
   },
   "source": [
    "#Dynamic to Static Final Result"
   ]
  },
  {
   "cell_type": "code",
   "execution_count": null,
   "metadata": {
    "colab": {
     "base_uri": "https://localhost:8080/",
     "height": 248
    },
    "executionInfo": {
     "elapsed": 14089,
     "status": "ok",
     "timestamp": 1604034542616,
     "user": {
      "displayName": "Ammar Pervez",
      "photoUrl": "https://lh3.googleusercontent.com/a-/AOh14Gi8WNzfv_BTIPuGu9Hlf2ww8310r8CAWukW9jAvsPc=s64",
      "userId": "03225736955727170639"
     },
     "user_tz": -480
    },
    "id": "BuCaoIfwGgpw",
    "outputId": "68520407-094e-44af-d56d-ece639bc59dd"
   },
   "outputs": [
    {
     "data": {
      "text/html": [
       "<div>\n",
       "<style scoped>\n",
       "    .dataframe tbody tr th:only-of-type {\n",
       "        vertical-align: middle;\n",
       "    }\n",
       "\n",
       "    .dataframe tbody tr th {\n",
       "        vertical-align: top;\n",
       "    }\n",
       "\n",
       "    .dataframe thead th {\n",
       "        text-align: right;\n",
       "    }\n",
       "</style>\n",
       "<table border=\"1\" class=\"dataframe\">\n",
       "  <thead>\n",
       "    <tr style=\"text-align: right;\">\n",
       "      <th></th>\n",
       "      <th>FrcstRottHeight</th>\n",
       "      <th>PredCottHeight</th>\n",
       "      <th>CottHeight</th>\n",
       "    </tr>\n",
       "    <tr>\n",
       "      <th>DateTime</th>\n",
       "      <th></th>\n",
       "      <th></th>\n",
       "      <th></th>\n",
       "    </tr>\n",
       "  </thead>\n",
       "  <tbody>\n",
       "    <tr>\n",
       "      <th>2019-07-20 00:00:00</th>\n",
       "      <td>-0.744386</td>\n",
       "      <td>0.717745</td>\n",
       "      <td>2.07</td>\n",
       "    </tr>\n",
       "    <tr>\n",
       "      <th>2019-07-20 00:30:00</th>\n",
       "      <td>-0.308832</td>\n",
       "      <td>0.958279</td>\n",
       "      <td>2.07</td>\n",
       "    </tr>\n",
       "    <tr>\n",
       "      <th>2019-07-20 01:00:00</th>\n",
       "      <td>-1.628986</td>\n",
       "      <td>0.393528</td>\n",
       "      <td>2.11</td>\n",
       "    </tr>\n",
       "    <tr>\n",
       "      <th>2019-07-20 01:30:00</th>\n",
       "      <td>1.233348</td>\n",
       "      <td>1.594180</td>\n",
       "      <td>1.98</td>\n",
       "    </tr>\n",
       "    <tr>\n",
       "      <th>2019-07-20 02:00:00</th>\n",
       "      <td>0.975616</td>\n",
       "      <td>1.672439</td>\n",
       "      <td>2.04</td>\n",
       "    </tr>\n",
       "    <tr>\n",
       "      <th>2019-07-20 02:30:00</th>\n",
       "      <td>0.473228</td>\n",
       "      <td>1.159019</td>\n",
       "      <td>2.01</td>\n",
       "    </tr>\n",
       "  </tbody>\n",
       "</table>\n",
       "</div>"
      ],
      "text/plain": [
       "                     FrcstRottHeight  PredCottHeight  CottHeight\n",
       "DateTime                                                        \n",
       "2019-07-20 00:00:00        -0.744386        0.717745        2.07\n",
       "2019-07-20 00:30:00        -0.308832        0.958279        2.07\n",
       "2019-07-20 01:00:00        -1.628986        0.393528        2.11\n",
       "2019-07-20 01:30:00         1.233348        1.594180        1.98\n",
       "2019-07-20 02:00:00         0.975616        1.672439        2.04\n",
       "2019-07-20 02:30:00         0.473228        1.159019        2.01"
      ]
     },
     "execution_count": 117,
     "metadata": {
      "tags": []
     },
     "output_type": "execute_result"
    }
   ],
   "source": [
    "# FINAL Dataframe\n",
    "\n",
    "D2S_Final_df=height_df.drop(height_df.columns.difference(['FrcstRottHeight','PredCottHeight','CottHeight']),axis=1)\n",
    "D2S_Final_df"
   ]
  },
  {
   "cell_type": "markdown",
   "metadata": {
    "id": "TsnjeOofGgp1"
   },
   "source": [
    "## MSE"
   ]
  },
  {
   "cell_type": "code",
   "execution_count": null,
   "metadata": {
    "colab": {
     "base_uri": "https://localhost:8080/"
    },
    "executionInfo": {
     "elapsed": 14084,
     "status": "ok",
     "timestamp": 1604034542618,
     "user": {
      "displayName": "Ammar Pervez",
      "photoUrl": "https://lh3.googleusercontent.com/a-/AOh14Gi8WNzfv_BTIPuGu9Hlf2ww8310r8CAWukW9jAvsPc=s64",
      "userId": "03225736955727170639"
     },
     "user_tz": -480
    },
    "id": "l_fepjvLGgp1",
    "outputId": "10cc6b73-fe8b-4e37-eb0c-5145468c0966"
   },
   "outputs": [
    {
     "name": "stdout",
     "output_type": "stream",
     "text": [
      "Cott Height Forecast: 1.2\n"
     ]
    }
   ],
   "source": [
    "from sklearn.metrics import mean_squared_error\n",
    "from sklearn.metrics import explained_variance_score\n",
    "\n",
    "withoutNAN=D2S_Final_df.dropna()\n",
    "Cott_forecast_MSE=mean_squared_error(withoutNAN['CottHeight'],withoutNAN[\"PredCottHeight\"])\n",
    "\n",
    "print('Cott Height Forecast: {:2.2}'.format(Cott_forecast_MSE))"
   ]
  },
  {
   "cell_type": "markdown",
   "metadata": {
    "id": "rpJOaLP2Ggp5"
   },
   "source": [
    "## VISUALISE PREDICTIONS"
   ]
  },
  {
   "cell_type": "code",
   "execution_count": null,
   "metadata": {
    "colab": {
     "base_uri": "https://localhost:8080/",
     "height": 352
    },
    "executionInfo": {
     "elapsed": 14470,
     "status": "ok",
     "timestamp": 1604034543012,
     "user": {
      "displayName": "Ammar Pervez",
      "photoUrl": "https://lh3.googleusercontent.com/a-/AOh14Gi8WNzfv_BTIPuGu9Hlf2ww8310r8CAWukW9jAvsPc=s64",
      "userId": "03225736955727170639"
     },
     "user_tz": -480
    },
    "id": "K1iuuictGgp6",
    "outputId": "e6c84360-7abd-4a4e-d89d-309f2a3b2d57"
   },
   "outputs": [
    {
     "data": {
      "text/plain": [
       "Text(0.5, 1.0, 'Forecasted Results Univariate Model')"
      ]
     },
     "execution_count": 119,
     "metadata": {
      "tags": []
     },
     "output_type": "execute_result"
    },
    {
     "data": {
      "image/png": "[encoded data removed]",
      "text/plain": [
       "<Figure size 1008x360 with 1 Axes>"
      ]
     },
     "metadata": {
      "needs_background": "light",
      "tags": []
     },
     "output_type": "display_data"
    }
   ],
   "source": [
    "# VISUALISE PREDICTIONS\n",
    "\n",
    "rcParams['figure.figsize'] = 14,5\n",
    "\n",
    "# plot Parameters\n",
    "START_DATE_FOR_PLOTTING = '2019-05-10 00:00:00'\n",
    "# FORECASTED DATA (RED)\n",
    "plt.plot(D2S_Final_df.loc[START_DATE_FOR_PLOTTING:].index, D2S_Final_df.loc[START_DATE_FOR_PLOTTING:]['PredCottHeight'], color='r', label= 'Predicted Wave Height')\n",
    "\n",
    "# ACTUAL ROTT DATA (BLUE)\n",
    "#plt.plot(D2S_Final_df.loc[START_DATE_FOR_PLOTTING:].index, D2S_Final_df.loc[START_DATE_FOR_PLOTTING:]['CottHeight'], color='b')\n",
    "\n",
    "# PREVIOUS COTT HEIGHT DATA (BLUE)\n",
    "plt.plot(D2S_Final_df.loc[START_DATE_FOR_PLOTTING: ].index, D2S_Final_df.loc[START_DATE_FOR_PLOTTING:]['CottHeight'], color='b', label = \"Actual Wave Height\")\n",
    "\n",
    "# PREDICTED ROTT HEIGHT (ORANGE)\n",
    "#plt.plot(D2S_Final_df.loc[START_DATE_FOR_PLOTTING: ].index, D2S_Final_df.loc[START_DATE_FOR_PLOTTING:]['PredCottHeight'], color='orange', label = \"Predicted Wave Height\")\n",
    "\n",
    "# VERTICAL LINE (GREEN)\n",
    "#plt.axvline(x=D2S_Final_df.index[-steps_future:], color='green', linewidth=2,linestyle='--')\n",
    "\n",
    "# AESTHETICS\n",
    "plt.grid(which='major', color='#cccccc', alpha=0.5)\n",
    "plt.legend(shadow=True)\n",
    "plt.title(\"Forecasted Results Univariate Model\")"
   ]
  },
  {
   "cell_type": "markdown",
   "metadata": {
    "id": "NnorUMwcQHMT"
   },
   "source": [
    "# **PART-3 : CONCLUSION**\n",
    "\n",
    "After extensive experimentation, the best dynamic model was found to be the prediction plus forecast combination model i.e. Predict Cott Height (LGBM) then forecast Cott(Univariate LSTM). The model has the MSE of 0.058m. This model is also part of the final deployment."
   ]
  }
 ],
 "metadata": {
  "accelerator": "GPU",
  "colab": {
   "collapsed_sections": [
    "QNAYAy76jzDZ",
    "MRd5Vd0qNm5p",
    "LifdoQ_Kk-2g",
    "sS7mXqlaN16y",
    "we0W3dDPcc4L",
    "UYLpUgU4S3yD",
    "mJYHyYkp5_pg",
    "TCCPxKXbH9wb",
    "V3bqRWas6I2c",
    "dMtxTQcNJKfm",
    "VC-0FWWKn4PS",
    "LgOpotI_PLYq",
    "5cvx9vtTlyVQ",
    "9P3H7YXC8cnJ",
    "9R5g7jvX9hb1",
    "mdkH_5l19GW4",
    "2gNqtL9bQLTj",
    "ByGnsSANGgpv"
   ],
   "name": "0. Master_LSTM_ Rev.0.ipynb",
   "provenance": [
    {
     "file_id": "1Pq_NdBR-h-U4Ss4Ej_obobC-3uSKMbDO",
     "timestamp": 1604022613488
    },
    {
     "file_id": "1mDUhZPmkPOtqOBv-HEEG-S7B31jhg0zy",
     "timestamp": 1603887723864
    }
   ]
  },
  "kernelspec": {
   "display_name": "Python 3",
   "language": "python",
   "name": "python3"
  },
  "language_info": {
   "codemirror_mode": {
    "name": "ipython",
    "version": 3
   },
   "file_extension": ".py",
   "mimetype": "text/x-python",
   "name": "python",
   "nbconvert_exporter": "python",
   "pygments_lexer": "ipython3",
   "version": "3.8.3"
  },
  "widgets": {
   "application/vnd.jupyter.widget-state+json": {
    "state": {},
    "version_major": 2,
    "version_minor": 0
   }
  }
 },
 "nbformat": 4,
 "nbformat_minor": 4
}
