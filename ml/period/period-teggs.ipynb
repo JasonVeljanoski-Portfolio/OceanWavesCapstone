{
 "cells": [
  {
   "cell_type": "markdown",
   "metadata": {},
   "source": [
    "# Peak Wave Period Modelling\n",
    "### Author: Teggs Lou"
   ]
  },
  {
   "cell_type": "code",
   "execution_count": 2,
   "metadata": {},
   "outputs": [],
   "source": [
    "import math\n",
    "from math import e\n",
    "import numpy as np\n",
    "import pandas as pd\n",
    "from sklearn.ensemble import RandomForestRegressor"
   ]
  },
  {
   "cell_type": "code",
   "execution_count": 3,
   "metadata": {},
   "outputs": [],
   "source": [
    "wave = pd.read_csv('ocean-waves.csv')\n",
    "\n",
    "cottNum = wave['CottPeakPeriod']\n",
    "rottNum = wave['RottPeakPeriod']\n",
    "wave['cottLog'] = np.log(cottNum)\n",
    "wave['rottLog'] = np.log(rottNum)"
   ]
  },
  {
   "cell_type": "code",
   "execution_count": 1,
   "metadata": {},
   "outputs": [],
   "source": [
    "wave"
   ]
  },
  {
   "cell_type": "code",
   "execution_count": 6,
   "metadata": {},
   "outputs": [],
   "source": [
    "#split the data by 8:2\n",
    "trainData = wave.sample(frac=0.8, random_state=0, axis=0)\n",
    "testData = wave[~wave.index.isin(trainData.index)]\n",
    "\n",
    "train = trainData.iloc[:, [4,8,6]]\n",
    "response = trainData['cottLog']"
   ]
  },
  {
   "cell_type": "code",
   "execution_count": 7,
   "metadata": {},
   "outputs": [],
   "source": [
    "#Set the regressor\n",
    "params=dict(\n",
    "  n_estimators=500,\n",
    "  max_features=0.5,\n",
    "  max_depth=6,\n",
    ")\n",
    "\n",
    "rf = RandomForestRegressor(random_state=0, n_jobs=-1, **params)\n",
    "\n",
    "model = rf.fit(train,response)"
   ]
  },
  {
   "cell_type": "code",
   "execution_count": 95,
   "metadata": {},
   "outputs": [],
   "source": [
    "test = testData.iloc[:, [4,8,6]]\n",
    "prdt = model.predict(test)\n",
    "prdt_re = np.power(prdt,e)"
   ]
  },
  {
   "cell_type": "code",
   "execution_count": 96,
   "metadata": {},
   "outputs": [],
   "source": [
    "trueValue = testData['CottPeakPeriod']"
   ]
  },
  {
   "cell_type": "code",
   "execution_count": 97,
   "metadata": {},
   "outputs": [],
   "source": [
    "mape = sum(abs(trueValue-prdt_re)/trueValue)/len(trueValue)"
   ]
  },
  {
   "cell_type": "code",
   "execution_count": 98,
   "metadata": {},
   "outputs": [
    {
     "data": {
      "text/plain": [
       "0.23277523769384934"
      ]
     },
     "execution_count": 98,
     "metadata": {},
     "output_type": "execute_result"
    }
   ],
   "source": [
    "mape"
   ]
  },
  {
   "cell_type": "code",
   "execution_count": null,
   "metadata": {},
   "outputs": [],
   "source": []
  }
 ],
 "metadata": {
  "kernelspec": {
   "display_name": "Python 3",
   "language": "python",
   "name": "python3"
  },
  "language_info": {
   "codemirror_mode": {
    "name": "ipython",
    "version": 3
   },
   "file_extension": ".py",
   "mimetype": "text/x-python",
   "name": "python",
   "nbconvert_exporter": "python",
   "pygments_lexer": "ipython3",
   "version": "3.8.3"
  },
  "widgets": {
   "application/vnd.jupyter.widget-state+json": {
    "state": {},
    "version_major": 2,
    "version_minor": 0
   }
  }
 },
 "nbformat": 4,
 "nbformat_minor": 4
}
